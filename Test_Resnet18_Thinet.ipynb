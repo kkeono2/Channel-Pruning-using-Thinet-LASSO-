{
 "cells": [
  {
   "cell_type": "code",
   "execution_count": 1,
   "metadata": {},
   "outputs": [],
   "source": [
    "import argparse\n",
    "import easydict\n",
    "\n",
    "from utils.config import *\n",
    "from utils.count_model import *\n",
    "from agents import *\n",
    "from torchsummaryX import summary"
   ]
  },
  {
   "cell_type": "code",
   "execution_count": 2,
   "metadata": {},
   "outputs": [
    {
     "name": "stderr",
     "output_type": "stream",
     "text": [
      "[INFO]: Program will run on *****GPU-CUDA*****\n",
      "\n",
      "[INFO]: __Python VERSION:  3.7.7 (default, May  6 2020, 11:45:54) [MSC v.1916 64 bit (AMD64)]\n",
      "[INFO]: __pyTorch VERSION:  1.6.0\n",
      "[INFO]: __CUDA VERSION\n",
      "[INFO]: Active CUDA Device: GPU 0\n",
      "[INFO]: Available devices  1\n",
      "[INFO]: Current cuda device  0\n",
      "[INFO]: Loading DATA.....\n"
     ]
    },
    {
     "name": "stdout",
     "output_type": "stream",
     "text": [
      "Files already downloaded and verified\n",
      "Loading checkpoint 'C:\\Users\\USER001\\Desktop\\pytorch-cifar100-master\\checkpoint\\resnet18\\resnet18-187-best.pth'\n",
      "Checkpoint loaded successfully\n",
      "\n",
      "===============================================================================================\n",
      "                                          Kernel Shape      Output Shape  \\\n",
      "Layer                                                                      \n",
      "0_conv1                                  [3, 64, 3, 3]   [1, 64, 32, 32]   \n",
      "1_bn1                                             [64]   [1, 64, 32, 32]   \n",
      "2_relu                                               -   [1, 64, 32, 32]   \n",
      "3_layer1.0.Conv2d_conv1                 [64, 64, 3, 3]   [1, 64, 32, 32]   \n",
      "4_layer1.0.BatchNorm2d_bn1                        [64]   [1, 64, 32, 32]   \n",
      "5_layer1.0.ReLU_relu                                 -   [1, 64, 32, 32]   \n",
      "6_layer1.0.Conv2d_conv2                 [64, 64, 3, 3]   [1, 64, 32, 32]   \n",
      "7_layer1.0.BatchNorm2d_bn2                        [64]   [1, 64, 32, 32]   \n",
      "8_layer1.0.ReLU_relu                                 -   [1, 64, 32, 32]   \n",
      "9_layer1.1.Conv2d_conv1                 [64, 64, 3, 3]   [1, 64, 32, 32]   \n",
      "10_layer1.1.BatchNorm2d_bn1                       [64]   [1, 64, 32, 32]   \n",
      "11_layer1.1.ReLU_relu                                -   [1, 64, 32, 32]   \n",
      "12_layer1.1.Conv2d_conv2                [64, 64, 3, 3]   [1, 64, 32, 32]   \n",
      "13_layer1.1.BatchNorm2d_bn2                       [64]   [1, 64, 32, 32]   \n",
      "14_layer1.1.ReLU_relu                                -   [1, 64, 32, 32]   \n",
      "15_layer2.0.Conv2d_conv1               [64, 128, 3, 3]  [1, 128, 16, 16]   \n",
      "16_layer2.0.BatchNorm2d_bn1                      [128]  [1, 128, 16, 16]   \n",
      "17_layer2.0.ReLU_relu                                -  [1, 128, 16, 16]   \n",
      "18_layer2.0.Conv2d_conv2              [128, 128, 3, 3]  [1, 128, 16, 16]   \n",
      "19_layer2.0.BatchNorm2d_bn2                      [128]  [1, 128, 16, 16]   \n",
      "20_layer2.0.downsample.Conv2d_0        [64, 128, 1, 1]  [1, 128, 16, 16]   \n",
      "21_layer2.0.downsample.BatchNorm2d_1             [128]  [1, 128, 16, 16]   \n",
      "22_layer2.0.ReLU_relu                                -  [1, 128, 16, 16]   \n",
      "23_layer2.1.Conv2d_conv1              [128, 128, 3, 3]  [1, 128, 16, 16]   \n",
      "24_layer2.1.BatchNorm2d_bn1                      [128]  [1, 128, 16, 16]   \n",
      "25_layer2.1.ReLU_relu                                -  [1, 128, 16, 16]   \n",
      "26_layer2.1.Conv2d_conv2              [128, 128, 3, 3]  [1, 128, 16, 16]   \n",
      "27_layer2.1.BatchNorm2d_bn2                      [128]  [1, 128, 16, 16]   \n",
      "28_layer2.1.ReLU_relu                                -  [1, 128, 16, 16]   \n",
      "29_layer3.0.Conv2d_conv1              [128, 256, 3, 3]    [1, 256, 8, 8]   \n",
      "30_layer3.0.BatchNorm2d_bn1                      [256]    [1, 256, 8, 8]   \n",
      "31_layer3.0.ReLU_relu                                -    [1, 256, 8, 8]   \n",
      "32_layer3.0.Conv2d_conv2              [256, 256, 3, 3]    [1, 256, 8, 8]   \n",
      "33_layer3.0.BatchNorm2d_bn2                      [256]    [1, 256, 8, 8]   \n",
      "34_layer3.0.downsample.Conv2d_0       [128, 256, 1, 1]    [1, 256, 8, 8]   \n",
      "35_layer3.0.downsample.BatchNorm2d_1             [256]    [1, 256, 8, 8]   \n",
      "36_layer3.0.ReLU_relu                                -    [1, 256, 8, 8]   \n",
      "37_layer3.1.Conv2d_conv1              [256, 256, 3, 3]    [1, 256, 8, 8]   \n",
      "38_layer3.1.BatchNorm2d_bn1                      [256]    [1, 256, 8, 8]   \n",
      "39_layer3.1.ReLU_relu                                -    [1, 256, 8, 8]   \n",
      "40_layer3.1.Conv2d_conv2              [256, 256, 3, 3]    [1, 256, 8, 8]   \n",
      "41_layer3.1.BatchNorm2d_bn2                      [256]    [1, 256, 8, 8]   \n",
      "42_layer3.1.ReLU_relu                                -    [1, 256, 8, 8]   \n",
      "43_layer4.0.Conv2d_conv1              [256, 512, 3, 3]    [1, 512, 4, 4]   \n",
      "44_layer4.0.BatchNorm2d_bn1                      [512]    [1, 512, 4, 4]   \n",
      "45_layer4.0.ReLU_relu                                -    [1, 512, 4, 4]   \n",
      "46_layer4.0.Conv2d_conv2              [512, 512, 3, 3]    [1, 512, 4, 4]   \n",
      "47_layer4.0.BatchNorm2d_bn2                      [512]    [1, 512, 4, 4]   \n",
      "48_layer4.0.downsample.Conv2d_0       [256, 512, 1, 1]    [1, 512, 4, 4]   \n",
      "49_layer4.0.downsample.BatchNorm2d_1             [512]    [1, 512, 4, 4]   \n",
      "50_layer4.0.ReLU_relu                                -    [1, 512, 4, 4]   \n",
      "51_layer4.1.Conv2d_conv1              [512, 512, 3, 3]    [1, 512, 4, 4]   \n",
      "52_layer4.1.BatchNorm2d_bn1                      [512]    [1, 512, 4, 4]   \n",
      "53_layer4.1.ReLU_relu                                -    [1, 512, 4, 4]   \n",
      "54_layer4.1.Conv2d_conv2              [512, 512, 3, 3]    [1, 512, 4, 4]   \n",
      "55_layer4.1.BatchNorm2d_bn2                      [512]    [1, 512, 4, 4]   \n",
      "56_layer4.1.ReLU_relu                                -    [1, 512, 4, 4]   \n",
      "57_avgpool                                           -    [1, 512, 1, 1]   \n",
      "58_fc                                       [512, 100]          [1, 100]   \n",
      "\n",
      "                                         Params   Mult-Adds  \n",
      "Layer                                                        \n",
      "0_conv1                                  1.728k   1.769472M  \n",
      "1_bn1                                     128.0        64.0  \n",
      "2_relu                                        -           -  \n",
      "3_layer1.0.Conv2d_conv1                 36.864k  37.748736M  \n",
      "4_layer1.0.BatchNorm2d_bn1                128.0        64.0  \n",
      "5_layer1.0.ReLU_relu                          -           -  \n",
      "6_layer1.0.Conv2d_conv2                 36.864k  37.748736M  \n",
      "7_layer1.0.BatchNorm2d_bn2                128.0        64.0  \n",
      "8_layer1.0.ReLU_relu                          -           -  \n",
      "9_layer1.1.Conv2d_conv1                 36.864k  37.748736M  \n",
      "10_layer1.1.BatchNorm2d_bn1               128.0        64.0  \n",
      "11_layer1.1.ReLU_relu                         -           -  \n",
      "12_layer1.1.Conv2d_conv2                36.864k  37.748736M  \n",
      "13_layer1.1.BatchNorm2d_bn2               128.0        64.0  \n",
      "14_layer1.1.ReLU_relu                         -           -  \n",
      "15_layer2.0.Conv2d_conv1                73.728k  18.874368M  \n",
      "16_layer2.0.BatchNorm2d_bn1               256.0       128.0  \n",
      "17_layer2.0.ReLU_relu                         -           -  \n",
      "18_layer2.0.Conv2d_conv2               147.456k  37.748736M  \n",
      "19_layer2.0.BatchNorm2d_bn2               256.0       128.0  \n",
      "20_layer2.0.downsample.Conv2d_0          8.192k   2.097152M  \n",
      "21_layer2.0.downsample.BatchNorm2d_1      256.0       128.0  \n",
      "22_layer2.0.ReLU_relu                         -           -  \n",
      "23_layer2.1.Conv2d_conv1               147.456k  37.748736M  \n",
      "24_layer2.1.BatchNorm2d_bn1               256.0       128.0  \n",
      "25_layer2.1.ReLU_relu                         -           -  \n",
      "26_layer2.1.Conv2d_conv2               147.456k  37.748736M  \n",
      "27_layer2.1.BatchNorm2d_bn2               256.0       128.0  \n",
      "28_layer2.1.ReLU_relu                         -           -  \n",
      "29_layer3.0.Conv2d_conv1               294.912k  18.874368M  \n",
      "30_layer3.0.BatchNorm2d_bn1               512.0       256.0  \n",
      "31_layer3.0.ReLU_relu                         -           -  \n",
      "32_layer3.0.Conv2d_conv2               589.824k  37.748736M  \n",
      "33_layer3.0.BatchNorm2d_bn2               512.0       256.0  \n",
      "34_layer3.0.downsample.Conv2d_0         32.768k   2.097152M  \n",
      "35_layer3.0.downsample.BatchNorm2d_1      512.0       256.0  \n",
      "36_layer3.0.ReLU_relu                         -           -  \n",
      "37_layer3.1.Conv2d_conv1               589.824k  37.748736M  \n",
      "38_layer3.1.BatchNorm2d_bn1               512.0       256.0  \n",
      "39_layer3.1.ReLU_relu                         -           -  \n",
      "40_layer3.1.Conv2d_conv2               589.824k  37.748736M  \n",
      "41_layer3.1.BatchNorm2d_bn2               512.0       256.0  \n",
      "42_layer3.1.ReLU_relu                         -           -  \n",
      "43_layer4.0.Conv2d_conv1              1.179648M  18.874368M  \n",
      "44_layer4.0.BatchNorm2d_bn1              1.024k       512.0  \n",
      "45_layer4.0.ReLU_relu                         -           -  \n",
      "46_layer4.0.Conv2d_conv2              2.359296M  37.748736M  \n",
      "47_layer4.0.BatchNorm2d_bn2              1.024k       512.0  \n",
      "48_layer4.0.downsample.Conv2d_0        131.072k   2.097152M  \n",
      "49_layer4.0.downsample.BatchNorm2d_1     1.024k       512.0  \n",
      "50_layer4.0.ReLU_relu                         -           -  \n",
      "51_layer4.1.Conv2d_conv1              2.359296M  37.748736M  \n",
      "52_layer4.1.BatchNorm2d_bn1              1.024k       512.0  \n",
      "53_layer4.1.ReLU_relu                         -           -  \n",
      "54_layer4.1.Conv2d_conv2              2.359296M  37.748736M  \n",
      "55_layer4.1.BatchNorm2d_bn2              1.024k       512.0  \n",
      "56_layer4.1.ReLU_relu                         -           -  \n",
      "57_avgpool                                    -           -  \n",
      "58_fc                                     51.3k       51.2k  \n",
      "-----------------------------------------------------------------------------------------------\n",
      "                          Totals\n",
      "Total params          11.220132M\n",
      "Trainable params      11.220132M\n",
      "Non-trainable params         0.0\n",
      "Mult-Adds              555.4736M\n",
      "===============================================================================================\n"
     ]
    },
    {
     "name": "stdout",
     "output_type": "stream",
     "text": [
      "num_pruned 33\n",
      "indices_pruned !!!  [7, 32, 46, 55, 54, 18, 16, 49, 62, 59, 27, 3, 29, 21, 38, 6, 8, 23, 19, 1, 35, 37, 26, 15, 34, 4, 13, 33, 39, 11, 56, 36, 45]\n",
      "num_pruned 33\n",
      "indices_pruned !!!  [11, 15, 36, 40, 49, 62, 44, 24, 46, 35, 20, 22, 27, 37, 30, 31, 56, 59, 53, 38, 26, 42, 14, 13, 33, 63, 55, 7, 19, 28, 32, 1, 47]\n",
      "num_pruned 66\n",
      "indices_pruned !!!  [102, 83, 106, 97, 109, 125, 68, 115, 84, 119, 55, 113, 40, 41, 111, 56, 73, 92, 18, 44, 53, 34, 126, 7, 36, 17, 70, 48, 22, 69, 104, 11, 1, 42, 103, 105, 26, 94, 79, 33, 61, 45, 122, 112, 10, 120, 57, 85, 62, 5, 63, 8, 100, 43, 64, 77, 117, 67, 23, 50, 38, 81, 93, 65, 71, 80]\n",
      "num_pruned 66\n",
      "indices_pruned !!!  [14, 102, 101, 126, 28, 65, 99, 29, 92, 55, 4, 85, 71, 111, 27, 36, 12, 11, 0, 60, 122, 104, 74, 76, 72, 90, 39, 56, 119, 112, 54, 16, 23, 26, 116, 33, 82, 41, 89, 47, 113, 30, 105, 13, 124, 52, 110, 50, 127, 115, 7, 1, 38, 42, 17, 34, 51, 87, 58, 25, 69, 19, 2, 117, 98, 63]\n",
      "num_pruned 131\n",
      "indices_pruned !!!  [16, 110, 172, 188, 223, 242, 11, 210, 1, 117, 226, 150, 127, 123, 240, 14, 252, 247, 217, 31, 22, 122, 60, 119, 109, 10, 158, 211, 124, 231, 145, 171, 156, 189, 50, 219, 5, 62, 233, 78, 80, 202, 33, 6, 143, 174, 58, 238, 203, 61, 40, 113, 77, 155, 170, 129, 220, 221, 177, 255, 112, 159, 148, 48, 229, 25, 235, 66, 36, 47, 39, 45, 212, 151, 71, 141, 201, 9, 144, 253, 152, 118, 234, 19, 34, 76, 41, 204, 37, 191, 17, 35, 103, 105, 218, 67, 96, 102, 126, 55, 149, 213, 20, 207, 246, 227, 206, 190, 184, 54, 245, 92, 125, 51, 136, 222, 168, 193, 187, 115, 142, 185, 179, 237, 85, 42, 26, 195, 178, 2, 30]\n",
      "num_pruned 131\n",
      "indices_pruned !!!  [14, 25, 30, 45, 180, 181, 189, 225, 228, 238, 239, 213, 114, 49, 139, 229, 153, 255, 245, 155, 94, 5, 203, 93, 236, 17, 103, 227, 107, 244, 250, 67, 216, 90, 140, 89, 21, 154, 3, 235, 66, 231, 248, 171, 158, 52, 137, 83, 4, 183, 84, 184, 141, 59, 198, 63, 145, 16, 188, 176, 133, 234, 233, 26, 182, 119, 132, 0, 44, 61, 208, 191, 37, 243, 8, 39, 251, 143, 146, 41, 98, 19, 7, 104, 148, 197, 254, 252, 253, 136, 28, 190, 11, 74, 177, 126, 60, 206, 109, 6, 223, 40, 175, 68, 209, 164, 217, 169, 237, 123, 100, 199, 156, 36, 92, 226, 163, 77, 187, 194, 212, 62, 170, 249, 159, 138, 121, 23, 218, 15, 150]\n",
      "num_pruned 262\n",
      "indices_pruned !!!  [38, 203, 101, 162, 383, 426, 69, 292, 36, 234, 367, 175, 45, 307, 477, 317, 148, 60, 448, 274, 172, 150, 94, 415, 229, 408, 271, 263, 388, 55, 468, 436, 88, 407, 141, 471, 499, 67, 509, 184, 65, 459, 291, 132, 17, 285, 348, 197, 405, 444, 487, 192, 233, 158, 187, 411, 61, 494, 450, 268, 216, 298, 380, 161, 498, 181, 294, 334, 199, 400, 97, 63, 215, 475, 496, 352, 222, 14, 299, 428, 142, 177, 340, 417, 173, 136, 320, 458, 43, 261, 269, 394, 130, 4, 85, 354, 73, 308, 254, 462, 243, 362, 50, 260, 343, 18, 7, 209, 10, 59, 420, 146, 429, 8, 338, 191, 99, 321, 179, 140, 382, 474, 253, 217, 256, 326, 5, 295, 24, 418, 236, 230, 21, 441, 225, 318, 442, 131, 452, 491, 370, 46, 95, 139, 332, 84, 424, 296, 87, 500, 443, 110, 349, 401, 44, 28, 440, 419, 200, 287, 58, 25, 68, 11, 121, 42, 392, 186, 53, 74, 391, 102, 154, 262, 114, 395, 355, 100, 247, 385, 288, 231, 115, 302, 126, 152, 454, 289, 54, 328, 107, 359, 76, 258, 510, 31, 226, 149, 183, 364, 116, 309, 276, 273, 366, 66, 15, 511, 86, 469, 339, 249, 168, 79, 346, 492, 335, 196, 123, 157, 127, 167, 344, 155, 113, 272, 374, 284, 365, 353, 489, 347, 504, 293, 124, 439, 49, 51, 30, 90, 19, 29, 169, 248, 342, 208, 205, 404, 282, 301, 479, 72, 389, 13, 324, 48, 12, 96, 270, 220, 327, 16]\n",
      "num_pruned 262\n",
      "indices_pruned !!!  [392, 375, 107, 73, 363, 105, 357, 286, 489, 444, 390, 119, 511, 252, 62, 33, 310, 473, 201, 505, 104, 192, 194, 446, 149, 32, 243, 48, 293, 433, 266, 2, 28, 455, 172, 261, 327, 225, 80, 49, 154, 44, 343, 42, 17, 233, 12, 160, 171, 476, 472, 174, 204, 128, 336, 340, 275, 106, 255, 404, 63, 94, 232, 180, 383, 251, 497, 408, 109, 420, 331, 297, 218, 83, 315, 127, 270, 214, 402, 311, 389, 7, 132, 147, 398, 397, 429, 140, 165, 370, 302, 189, 365, 292, 425, 368, 423, 366, 500, 449, 353, 342, 177, 241, 67, 130, 422, 317, 413, 334, 430, 193, 498, 88, 190, 141, 508, 304, 179, 325, 217, 274, 457, 507, 256, 34, 445, 31, 309, 206, 399, 145, 495, 276, 496, 23, 265, 396, 401, 295, 211, 326, 209, 236, 344, 406, 242, 169, 135, 79, 162, 259, 347, 438, 93, 247, 254, 110, 465, 90, 486, 59, 284, 447, 196, 257, 221, 30, 37, 328, 212, 470, 146, 384, 170, 288, 490, 108, 414, 52, 416, 314, 280, 403, 426, 55, 168, 199, 299, 46, 51, 122, 102, 96, 207, 395, 355, 437, 371, 268, 499, 377, 290, 208, 126, 202, 329, 38, 142, 464, 387, 114, 45, 477, 117, 10, 463, 510, 478, 381, 131, 503, 484, 245, 346, 312, 338, 40, 451, 75, 379, 89, 492, 374, 112, 405, 244, 115, 231, 462, 350, 452, 482, 412, 380, 349, 95, 466, 409, 92, 155, 376, 1, 11, 364, 6, 87, 103, 9, 388, 260, 197]\n"
     ]
    },
    {
     "name": "stderr",
     "output_type": "stream",
     "text": [
      "[INFO]:    [-] compress : 839.49628 sec, which is 13.99160 min, which is 0.23319 hour\n",
      "Epoch-0-:   0%|                                                                                | 0/391 [00:00<?, ?it/s]"
     ]
    },
    {
     "name": "stdout",
     "output_type": "stream",
     "text": [
      "===============================================================================================\n",
      "                                          Kernel Shape      Output Shape  \\\n",
      "Layer                                                                      \n",
      "0_conv1                                  [3, 64, 3, 3]   [1, 64, 32, 32]   \n",
      "1_bn1                                             [64]   [1, 64, 32, 32]   \n",
      "2_relu                                               -   [1, 64, 32, 32]   \n",
      "3_layer1.0.Conv2d_conv1                 [64, 31, 3, 3]   [1, 31, 32, 32]   \n",
      "4_layer1.0.BatchNorm2d_bn1                        [31]   [1, 31, 32, 32]   \n",
      "5_layer1.0.ReLU_relu                                 -   [1, 31, 32, 32]   \n",
      "6_layer1.0.Conv2d_conv2                 [31, 64, 3, 3]   [1, 64, 32, 32]   \n",
      "7_layer1.0.BatchNorm2d_bn2                        [64]   [1, 64, 32, 32]   \n",
      "8_layer1.0.ReLU_relu                                 -   [1, 64, 32, 32]   \n",
      "9_layer1.1.Conv2d_conv1                 [64, 31, 3, 3]   [1, 31, 32, 32]   \n",
      "10_layer1.1.BatchNorm2d_bn1                       [31]   [1, 31, 32, 32]   \n",
      "11_layer1.1.ReLU_relu                                -   [1, 31, 32, 32]   \n",
      "12_layer1.1.Conv2d_conv2                [31, 64, 3, 3]   [1, 64, 32, 32]   \n",
      "13_layer1.1.BatchNorm2d_bn2                       [64]   [1, 64, 32, 32]   \n",
      "14_layer1.1.ReLU_relu                                -   [1, 64, 32, 32]   \n",
      "15_layer2.0.Conv2d_conv1                [64, 62, 3, 3]   [1, 62, 16, 16]   \n",
      "16_layer2.0.BatchNorm2d_bn1                       [62]   [1, 62, 16, 16]   \n",
      "17_layer2.0.ReLU_relu                                -   [1, 62, 16, 16]   \n",
      "18_layer2.0.Conv2d_conv2               [62, 128, 3, 3]  [1, 128, 16, 16]   \n",
      "19_layer2.0.BatchNorm2d_bn2                      [128]  [1, 128, 16, 16]   \n",
      "20_layer2.0.downsample.Conv2d_0        [64, 128, 1, 1]  [1, 128, 16, 16]   \n",
      "21_layer2.0.downsample.BatchNorm2d_1             [128]  [1, 128, 16, 16]   \n",
      "22_layer2.0.ReLU_relu                                -  [1, 128, 16, 16]   \n",
      "23_layer2.1.Conv2d_conv1               [128, 62, 3, 3]   [1, 62, 16, 16]   \n",
      "24_layer2.1.BatchNorm2d_bn1                       [62]   [1, 62, 16, 16]   \n",
      "25_layer2.1.ReLU_relu                                -   [1, 62, 16, 16]   \n",
      "26_layer2.1.Conv2d_conv2               [62, 128, 3, 3]  [1, 128, 16, 16]   \n",
      "27_layer2.1.BatchNorm2d_bn2                      [128]  [1, 128, 16, 16]   \n",
      "28_layer2.1.ReLU_relu                                -  [1, 128, 16, 16]   \n",
      "29_layer3.0.Conv2d_conv1              [128, 125, 3, 3]    [1, 125, 8, 8]   \n",
      "30_layer3.0.BatchNorm2d_bn1                      [125]    [1, 125, 8, 8]   \n",
      "31_layer3.0.ReLU_relu                                -    [1, 125, 8, 8]   \n",
      "32_layer3.0.Conv2d_conv2              [125, 256, 3, 3]    [1, 256, 8, 8]   \n",
      "33_layer3.0.BatchNorm2d_bn2                      [256]    [1, 256, 8, 8]   \n",
      "34_layer3.0.downsample.Conv2d_0       [128, 256, 1, 1]    [1, 256, 8, 8]   \n",
      "35_layer3.0.downsample.BatchNorm2d_1             [256]    [1, 256, 8, 8]   \n",
      "36_layer3.0.ReLU_relu                                -    [1, 256, 8, 8]   \n",
      "37_layer3.1.Conv2d_conv1              [256, 125, 3, 3]    [1, 125, 8, 8]   \n",
      "38_layer3.1.BatchNorm2d_bn1                      [125]    [1, 125, 8, 8]   \n",
      "39_layer3.1.ReLU_relu                                -    [1, 125, 8, 8]   \n",
      "40_layer3.1.Conv2d_conv2              [125, 256, 3, 3]    [1, 256, 8, 8]   \n",
      "41_layer3.1.BatchNorm2d_bn2                      [256]    [1, 256, 8, 8]   \n",
      "42_layer3.1.ReLU_relu                                -    [1, 256, 8, 8]   \n",
      "43_layer4.0.Conv2d_conv1              [256, 250, 3, 3]    [1, 250, 4, 4]   \n",
      "44_layer4.0.BatchNorm2d_bn1                      [250]    [1, 250, 4, 4]   \n",
      "45_layer4.0.ReLU_relu                                -    [1, 250, 4, 4]   \n",
      "46_layer4.0.Conv2d_conv2              [250, 512, 3, 3]    [1, 512, 4, 4]   \n",
      "47_layer4.0.BatchNorm2d_bn2                      [512]    [1, 512, 4, 4]   \n",
      "48_layer4.0.downsample.Conv2d_0       [256, 512, 1, 1]    [1, 512, 4, 4]   \n",
      "49_layer4.0.downsample.BatchNorm2d_1             [512]    [1, 512, 4, 4]   \n",
      "50_layer4.0.ReLU_relu                                -    [1, 512, 4, 4]   \n",
      "51_layer4.1.Conv2d_conv1              [512, 250, 3, 3]    [1, 250, 4, 4]   \n",
      "52_layer4.1.BatchNorm2d_bn1                      [250]    [1, 250, 4, 4]   \n",
      "53_layer4.1.ReLU_relu                                -    [1, 250, 4, 4]   \n",
      "54_layer4.1.Conv2d_conv2              [250, 512, 3, 3]    [1, 512, 4, 4]   \n",
      "55_layer4.1.BatchNorm2d_bn2                      [512]    [1, 512, 4, 4]   \n",
      "56_layer4.1.ReLU_relu                                -    [1, 512, 4, 4]   \n",
      "57_avgpool                                           -    [1, 512, 1, 1]   \n",
      "58_fc                                       [512, 100]          [1, 100]   \n",
      "\n",
      "                                        Params   Mult-Adds  \n",
      "Layer                                                       \n",
      "0_conv1                                 1.728k   1.769472M  \n",
      "1_bn1                                    128.0        64.0  \n",
      "2_relu                                       -           -  \n",
      "3_layer1.0.Conv2d_conv1                17.856k  18.284544M  \n",
      "4_layer1.0.BatchNorm2d_bn1                62.0        31.0  \n",
      "5_layer1.0.ReLU_relu                         -           -  \n",
      "6_layer1.0.Conv2d_conv2                17.856k  18.284544M  \n",
      "7_layer1.0.BatchNorm2d_bn2               128.0        64.0  \n",
      "8_layer1.0.ReLU_relu                         -           -  \n",
      "9_layer1.1.Conv2d_conv1                17.856k  18.284544M  \n",
      "10_layer1.1.BatchNorm2d_bn1               62.0        31.0  \n",
      "11_layer1.1.ReLU_relu                        -           -  \n",
      "12_layer1.1.Conv2d_conv2               17.856k  18.284544M  \n",
      "13_layer1.1.BatchNorm2d_bn2              128.0        64.0  \n",
      "14_layer1.1.ReLU_relu                        -           -  \n",
      "15_layer2.0.Conv2d_conv1               35.712k   9.142272M  \n",
      "16_layer2.0.BatchNorm2d_bn1              124.0        62.0  \n",
      "17_layer2.0.ReLU_relu                        -           -  \n",
      "18_layer2.0.Conv2d_conv2               71.424k  18.284544M  \n",
      "19_layer2.0.BatchNorm2d_bn2              256.0       128.0  \n",
      "20_layer2.0.downsample.Conv2d_0         8.192k   2.097152M  \n",
      "21_layer2.0.downsample.BatchNorm2d_1     256.0       128.0  \n",
      "22_layer2.0.ReLU_relu                        -           -  \n",
      "23_layer2.1.Conv2d_conv1               71.424k  18.284544M  \n",
      "24_layer2.1.BatchNorm2d_bn1              124.0        62.0  \n",
      "25_layer2.1.ReLU_relu                        -           -  \n",
      "26_layer2.1.Conv2d_conv2               71.424k  18.284544M  \n",
      "27_layer2.1.BatchNorm2d_bn2              256.0       128.0  \n",
      "28_layer2.1.ReLU_relu                        -           -  \n",
      "29_layer3.0.Conv2d_conv1                144.0k      9.216M  \n",
      "30_layer3.0.BatchNorm2d_bn1              250.0       125.0  \n",
      "31_layer3.0.ReLU_relu                        -           -  \n",
      "32_layer3.0.Conv2d_conv2                288.0k     18.432M  \n",
      "33_layer3.0.BatchNorm2d_bn2              512.0       256.0  \n",
      "34_layer3.0.downsample.Conv2d_0        32.768k   2.097152M  \n",
      "35_layer3.0.downsample.BatchNorm2d_1     512.0       256.0  \n",
      "36_layer3.0.ReLU_relu                        -           -  \n",
      "37_layer3.1.Conv2d_conv1                288.0k     18.432M  \n",
      "38_layer3.1.BatchNorm2d_bn1              250.0       125.0  \n",
      "39_layer3.1.ReLU_relu                        -           -  \n",
      "40_layer3.1.Conv2d_conv2                288.0k     18.432M  \n",
      "41_layer3.1.BatchNorm2d_bn2              512.0       256.0  \n",
      "42_layer3.1.ReLU_relu                        -           -  \n",
      "43_layer4.0.Conv2d_conv1                576.0k      9.216M  \n",
      "44_layer4.0.BatchNorm2d_bn1              500.0       250.0  \n",
      "45_layer4.0.ReLU_relu                        -           -  \n",
      "46_layer4.0.Conv2d_conv2                1.152M     18.432M  \n",
      "47_layer4.0.BatchNorm2d_bn2             1.024k       512.0  \n",
      "48_layer4.0.downsample.Conv2d_0       131.072k   2.097152M  \n",
      "49_layer4.0.downsample.BatchNorm2d_1    1.024k       512.0  \n",
      "50_layer4.0.ReLU_relu                        -           -  \n",
      "51_layer4.1.Conv2d_conv1                1.152M     18.432M  \n",
      "52_layer4.1.BatchNorm2d_bn1              500.0       250.0  \n",
      "53_layer4.1.ReLU_relu                        -           -  \n",
      "54_layer4.1.Conv2d_conv2                1.152M     18.432M  \n",
      "55_layer4.1.BatchNorm2d_bn2             1.024k       512.0  \n",
      "56_layer4.1.ReLU_relu                        -           -  \n",
      "57_avgpool                                   -           -  \n",
      "58_fc                                    51.3k       51.2k  \n",
      "-----------------------------------------------------------------------------------------------\n",
      "                           Totals\n",
      "Total params              5.5941M\n",
      "Trainable params          5.5941M\n",
      "Non-trainable params          0.0\n",
      "Mult-Adds             274.274024M\n",
      "===============================================================================================\n"
     ]
    },
    {
     "name": "stderr",
     "output_type": "stream",
     "text": [
      "\r",
      "Epoch-0-:   0%|▏                                                                       | 1/391 [00:05<36:25,  5.60s/it]"
     ]
    },
    {
     "name": "stdout",
     "output_type": "stream",
     "text": [
      "current learning rate:0.0\n"
     ]
    },
    {
     "name": "stderr",
     "output_type": "stream",
     "text": [
      "Epoch-0-: 100%|██████████████████████████████████████████████████████████████████████| 391/391 [00:25<00:00, 15.27it/s]\n",
      "[INFO]: Training at epoch-0 | loss: 1.2811533534313406\tTop1 Acc: 0.655400000038147\n",
      "Valiation at -0-: 100%|████████████████████████████████████████████████████████████████| 79/79 [00:04<00:00, 18.16it/s]\n",
      "[INFO]: Validation results at epoch-0 | loss: 2.5675171764591074\tTop1 Acc: 0.4235\n",
      "C:\\Users\\USER001\\miniconda3\\envs\\pytorch16\\lib\\site-packages\\torch\\optim\\lr_scheduler.py:143: UserWarning: The epoch parameter in `scheduler.step()` was not necessary and is being deprecated where possible. Please use `scheduler.step()` to step the scheduler. During the deprecation, if epoch is different from None, the closed form is used instead of the new chainable form, where available. Please open an issue if you are unable to replicate your use case: https://github.com/pytorch/pytorch/issues/new/choose.\n",
      "  warnings.warn(EPOCH_DEPRECATION_WARNING, UserWarning)\n",
      "Epoch-1-:   0%|▏                                                                       | 1/391 [00:05<36:03,  5.55s/it]"
     ]
    },
    {
     "name": "stdout",
     "output_type": "stream",
     "text": [
      "current learning rate:0.02\n"
     ]
    },
    {
     "name": "stderr",
     "output_type": "stream",
     "text": [
      "Epoch-1-: 100%|██████████████████████████████████████████████████████████████████████| 391/391 [00:25<00:00, 15.30it/s]\n",
      "[INFO]: Training at epoch-1 | loss: 1.3873671471615276\tTop1 Acc: 0.6084400000190735\n",
      "Valiation at -1-: 100%|████████████████████████████████████████████████████████████████| 79/79 [00:04<00:00, 18.86it/s]\n",
      "[INFO]: Validation results at epoch-1 | loss: 1.868114103999319\tTop1 Acc: 0.5172\n",
      "Epoch-2-:   1%|▌                                                                       | 3/391 [00:05<25:42,  3.98s/it]"
     ]
    },
    {
     "name": "stdout",
     "output_type": "stream",
     "text": [
      "current learning rate:0.04\n"
     ]
    },
    {
     "name": "stderr",
     "output_type": "stream",
     "text": [
      "Epoch-2-: 100%|██████████████████████████████████████████████████████████████████████| 391/391 [00:25<00:00, 15.23it/s]\n",
      "[INFO]: Training at epoch-2 | loss: 1.4015331106722508\tTop1 Acc: 0.6026\n",
      "Valiation at -2-: 100%|████████████████████████████████████████████████████████████████| 79/79 [00:04<00:00, 16.73it/s]\n",
      "[INFO]: Validation results at epoch-2 | loss: 2.330219012272509\tTop1 Acc: 0.4715\n",
      "Epoch-3-:   0%|▏                                                                       | 1/391 [00:06<39:21,  6.05s/it]"
     ]
    },
    {
     "name": "stdout",
     "output_type": "stream",
     "text": [
      "current learning rate:0.060000000000000005\n"
     ]
    },
    {
     "name": "stderr",
     "output_type": "stream",
     "text": [
      "Epoch-3-: 100%|██████████████████████████████████████████████████████████████████████| 391/391 [00:25<00:00, 15.08it/s]\n",
      "[INFO]: Training at epoch-3 | loss: 1.3991267251236665\tTop1 Acc: 0.6049599999809265\n",
      "Valiation at -3-: 100%|████████████████████████████████████████████████████████████████| 79/79 [00:04<00:00, 17.21it/s]\n",
      "[INFO]: Validation results at epoch-3 | loss: 1.8568258858934235\tTop1 Acc: 0.5158\n",
      "Epoch-4-:   1%|▌                                                                       | 3/391 [00:06<27:47,  4.30s/it]"
     ]
    },
    {
     "name": "stdout",
     "output_type": "stream",
     "text": [
      "current learning rate:0.08\n"
     ]
    },
    {
     "name": "stderr",
     "output_type": "stream",
     "text": [
      "Epoch-4-: 100%|██████████████████████████████████████████████████████████████████████| 391/391 [00:26<00:00, 14.94it/s]\n",
      "[INFO]: Training at epoch-4 | loss: 1.4014777198167103\tTop1 Acc: 0.60446\n",
      "Valiation at -4-: 100%|████████████████████████████████████████████████████████████████| 79/79 [00:04<00:00, 17.21it/s]\n",
      "[INFO]: Validation results at epoch-4 | loss: 1.9054232020921344\tTop1 Acc: 0.5125\n",
      "Epoch-5-:   1%|▌                                                                       | 3/391 [00:06<27:30,  4.25s/it]"
     ]
    },
    {
     "name": "stdout",
     "output_type": "stream",
     "text": [
      "current learning rate:0.1\n"
     ]
    },
    {
     "name": "stderr",
     "output_type": "stream",
     "text": [
      "Epoch-5-: 100%|██████████████████████████████████████████████████████████████████████| 391/391 [00:26<00:00, 14.90it/s]\n",
      "[INFO]: Training at epoch-5 | loss: 1.3587712523577464\tTop1 Acc: 0.6171399999809265\n",
      "Valiation at -5-: 100%|████████████████████████████████████████████████████████████████| 79/79 [00:04<00:00, 18.74it/s]\n",
      "[INFO]: Validation results at epoch-5 | loss: 1.7930559387689904\tTop1 Acc: 0.5364\n",
      "Epoch-6-:   1%|▌                                                                       | 3/391 [00:05<26:16,  4.06s/it]"
     ]
    },
    {
     "name": "stdout",
     "output_type": "stream",
     "text": [
      "current learning rate:0.09997266286704631\n"
     ]
    },
    {
     "name": "stderr",
     "output_type": "stream",
     "text": [
      "Epoch-6-: 100%|██████████████████████████████████████████████████████████████████████| 391/391 [00:25<00:00, 15.21it/s]\n",
      "[INFO]: Training at epoch-6 | loss: 1.299542855271293\tTop1 Acc: 0.629700000038147\n",
      "Valiation at -6-: 100%|████████████████████████████████████████████████████████████████| 79/79 [00:04<00:00, 19.24it/s]\n",
      "[INFO]: Validation results at epoch-6 | loss: 1.593942621086217\tTop1 Acc: 0.5761\n",
      "Epoch-7-:   1%|▌                                                                       | 3/391 [00:05<25:11,  3.89s/it]"
     ]
    },
    {
     "name": "stdout",
     "output_type": "stream",
     "text": [
      "current learning rate:0.09989068136093873\n"
     ]
    },
    {
     "name": "stderr",
     "output_type": "stream",
     "text": [
      "Epoch-7-: 100%|██████████████████████████████████████████████████████████████████████| 391/391 [00:25<00:00, 15.56it/s]\n",
      "[INFO]: Training at epoch-7 | loss: 1.2623201297677082\tTop1 Acc: 0.6406199999809266\n",
      "Valiation at -7-: 100%|████████████████████████████████████████████████████████████████| 79/79 [00:04<00:00, 18.97it/s]\n",
      "[INFO]: Validation results at epoch-7 | loss: 1.6573911256428007\tTop1 Acc: 0.5667\n",
      "Epoch-8-:   1%|▌                                                                       | 3/391 [00:05<24:53,  3.85s/it]"
     ]
    },
    {
     "name": "stdout",
     "output_type": "stream",
     "text": [
      "current learning rate:0.09975414512725057\n"
     ]
    },
    {
     "name": "stderr",
     "output_type": "stream",
     "text": [
      "Epoch-8-: 100%|██████████████████████████████████████████████████████████████████████| 391/391 [00:25<00:00, 15.48it/s]\n",
      "[INFO]: Training at epoch-8 | loss: 1.2507282460437101\tTop1 Acc: 0.6423\n",
      "Valiation at -8-: 100%|████████████████████████████████████████████████████████████████| 79/79 [00:04<00:00, 18.72it/s]\n",
      "[INFO]: Validation results at epoch-8 | loss: 1.7622947723050661\tTop1 Acc: 0.5558\n",
      "Epoch-9-:   1%|▌                                                                       | 3/391 [00:05<25:26,  3.93s/it]"
     ]
    },
    {
     "name": "stdout",
     "output_type": "stream",
     "text": [
      "current learning rate:0.09956320346634877\n"
     ]
    },
    {
     "name": "stderr",
     "output_type": "stream",
     "text": [
      "Epoch-9-: 100%|██████████████████████████████████████████████████████████████████████| 391/391 [00:25<00:00, 15.41it/s]\n",
      "[INFO]: Training at epoch-9 | loss: 1.2244948953618784\tTop1 Acc: 0.650680000038147\n",
      "Valiation at -9-: 100%|████████████████████████████████████████████████████████████████| 79/79 [00:04<00:00, 17.69it/s]\n",
      "[INFO]: Validation results at epoch-9 | loss: 1.6926456040973905\tTop1 Acc: 0.5578\n",
      "Epoch-10-:   1%|▌                                                                      | 3/391 [00:06<27:11,  4.20s/it]"
     ]
    },
    {
     "name": "stdout",
     "output_type": "stream",
     "text": [
      "current learning rate:0.09931806517013612\n"
     ]
    },
    {
     "name": "stderr",
     "output_type": "stream",
     "text": [
      "Epoch-10-: 100%|█████████████████████████████████████████████████████████████████████| 391/391 [00:25<00:00, 15.16it/s]\n",
      "[INFO]: Training at epoch-10 | loss: 1.2309593102511238\tTop1 Acc: 0.647920000038147\n",
      "Valiation at -10-: 100%|███████████████████████████████████████████████████████████████| 79/79 [00:04<00:00, 16.68it/s]\n",
      "[INFO]: Validation results at epoch-10 | loss: 1.5431090683876714\tTop1 Acc: 0.585\n",
      "Epoch-11-:   1%|▌                                                                      | 3/391 [00:06<27:34,  4.26s/it]"
     ]
    },
    {
     "name": "stdout",
     "output_type": "stream",
     "text": [
      "current learning rate:0.09901899829374047\n"
     ]
    },
    {
     "name": "stderr",
     "output_type": "stream",
     "text": [
      "Epoch-11-: 100%|█████████████████████████████████████████████████████████████████████| 391/391 [00:26<00:00, 14.68it/s]\n",
      "[INFO]: Training at epoch-11 | loss: 1.2057931603068281\tTop1 Acc: 0.6543800000190735\n",
      "Valiation at -11-: 100%|███████████████████████████████████████████████████████████████| 79/79 [00:04<00:00, 19.08it/s]\n",
      "[INFO]: Validation results at epoch-11 | loss: 1.600418105910096\tTop1 Acc: 0.572\n",
      "Epoch-12-:   0%|▏                                                                      | 1/391 [00:05<37:11,  5.72s/it]"
     ]
    },
    {
     "name": "stdout",
     "output_type": "stream",
     "text": [
      "current learning rate:0.0986663298624003\n"
     ]
    },
    {
     "name": "stderr",
     "output_type": "stream",
     "text": [
      "Epoch-12-: 100%|█████████████████████████████████████████████████████████████████████| 391/391 [00:25<00:00, 15.32it/s]\n",
      "[INFO]: Training at epoch-12 | loss: 1.2093786578958907\tTop1 Acc: 0.65134\n",
      "Valiation at -12-: 100%|███████████████████████████████████████████████████████████████| 79/79 [00:04<00:00, 19.28it/s]\n",
      "[INFO]: Validation results at epoch-12 | loss: 1.5853343945515306\tTop1 Acc: 0.5783\n",
      "Epoch-13-:   1%|▌                                                                      | 3/391 [00:05<25:30,  3.94s/it]"
     ]
    },
    {
     "name": "stdout",
     "output_type": "stream",
     "text": [
      "current learning rate:0.09826044551386744\n"
     ]
    },
    {
     "name": "stderr",
     "output_type": "stream",
     "text": [
      "Epoch-13-: 100%|█████████████████████████████████████████████████████████████████████| 391/391 [00:25<00:00, 15.31it/s]\n",
      "[INFO]: Training at epoch-13 | loss: 1.1916889519337803\tTop1 Acc: 0.6559600000572204\n",
      "Valiation at -13-: 100%|███████████████████████████████████████████████████████████████| 79/79 [00:04<00:00, 19.30it/s]\n",
      "[INFO]: Validation results at epoch-13 | loss: 1.7763992517809324\tTop1 Acc: 0.5366\n",
      "Epoch-14-:   0%|▏                                                                      | 1/391 [00:05<37:27,  5.76s/it]"
     ]
    },
    {
     "name": "stdout",
     "output_type": "stream",
     "text": [
      "current learning rate:0.09780178907671788\n"
     ]
    },
    {
     "name": "stderr",
     "output_type": "stream",
     "text": [
      "Epoch-14-: 100%|█████████████████████████████████████████████████████████████████████| 391/391 [00:25<00:00, 15.44it/s]\n",
      "[INFO]: Training at epoch-14 | loss: 1.1907894338488274\tTop1 Acc: 0.66024\n",
      "Valiation at -14-: 100%|███████████████████████████████████████████████████████████████| 79/79 [00:04<00:00, 19.12it/s]\n",
      "[INFO]: Validation results at epoch-14 | loss: 1.754840772363204\tTop1 Acc: 0.5429\n",
      "Epoch-15-:   1%|▌                                                                      | 3/391 [00:05<25:25,  3.93s/it]"
     ]
    },
    {
     "name": "stdout",
     "output_type": "stream",
     "text": [
      "current learning rate:0.09729086208503174\n"
     ]
    },
    {
     "name": "stderr",
     "output_type": "stream",
     "text": [
      "Epoch-15-: 100%|█████████████████████████████████████████████████████████████████████| 391/391 [00:25<00:00, 15.52it/s]\n",
      "[INFO]: Training at epoch-15 | loss: 1.1864543680644706\tTop1 Acc: 0.65948\n",
      "Valiation at -15-: 100%|███████████████████████████████████████████████████████████████| 79/79 [00:04<00:00, 17.41it/s]\n",
      "[INFO]: Validation results at epoch-15 | loss: 1.6920641343804854\tTop1 Acc: 0.5583\n",
      "Epoch-16-:   1%|▌                                                                      | 3/391 [00:06<27:09,  4.20s/it]"
     ]
    },
    {
     "name": "stdout",
     "output_type": "stream",
     "text": [
      "current learning rate:0.09672822322997304\n"
     ]
    },
    {
     "name": "stderr",
     "output_type": "stream",
     "text": [
      "Epoch-16-: 100%|█████████████████████████████████████████████████████████████████████| 391/391 [00:25<00:00, 15.11it/s]\n",
      "[INFO]: Training at epoch-16 | loss: 1.1788243953224338\tTop1 Acc: 0.6613200000572205\n",
      "Valiation at -16-: 100%|███████████████████████████████████████████████████████████████| 79/79 [00:04<00:00, 17.58it/s]\n",
      "[INFO]: Validation results at epoch-16 | loss: 1.660879464089116\tTop1 Acc: 0.5661\n",
      "Epoch-17-:   1%|▌                                                                      | 3/391 [00:06<27:24,  4.24s/it]"
     ]
    },
    {
     "name": "stdout",
     "output_type": "stream",
     "text": [
      "current learning rate:0.09611448774886924\n"
     ]
    },
    {
     "name": "stderr",
     "output_type": "stream",
     "text": [
      "Epoch-17-: 100%|█████████████████████████████████████████████████████████████████████| 391/391 [00:26<00:00, 14.76it/s]\n",
      "[INFO]: Training at epoch-17 | loss: 1.175504651215985\tTop1 Acc: 0.66192\n",
      "Valiation at -17-: 100%|███████████████████████████████████████████████████████████████| 79/79 [00:04<00:00, 19.07it/s]\n",
      "[INFO]: Validation results at epoch-17 | loss: 1.7489088924625251\tTop1 Acc: 0.5584\n",
      "Epoch-18-:   1%|▌                                                                      | 3/391 [00:05<24:56,  3.86s/it]"
     ]
    },
    {
     "name": "stdout",
     "output_type": "stream",
     "text": [
      "current learning rate:0.09545032675245813\n"
     ]
    },
    {
     "name": "stderr",
     "output_type": "stream",
     "text": [
      "Epoch-18-: 100%|█████████████████████████████████████████████████████████████████████| 391/391 [00:24<00:00, 15.74it/s]\n",
      "[INFO]: Training at epoch-18 | loss: 1.1610399071517807\tTop1 Acc: 0.6670000000572205\n",
      "Valiation at -18-: 100%|███████████████████████████████████████████████████████████████| 79/79 [00:04<00:00, 19.34it/s]\n",
      "[INFO]: Validation results at epoch-18 | loss: 1.8278743239897717\tTop1 Acc: 0.5416\n",
      "Epoch-19-:   1%|▌                                                                      | 3/391 [00:05<24:52,  3.85s/it]"
     ]
    },
    {
     "name": "stdout",
     "output_type": "stream",
     "text": [
      "current learning rate:0.09473646649103817\n"
     ]
    },
    {
     "name": "stderr",
     "output_type": "stream",
     "text": [
      "Epoch-19-: 100%|█████████████████████████████████████████████████████████████████████| 391/391 [00:24<00:00, 15.73it/s]\n",
      "[INFO]: Training at epoch-19 | loss: 1.1657273397421288\tTop1 Acc: 0.6656200000572204\n",
      "Valiation at -19-: 100%|███████████████████████████████████████████████████████████████| 79/79 [00:04<00:00, 19.43it/s]\n",
      "[INFO]: Validation results at epoch-19 | loss: 1.5876732717586468\tTop1 Acc: 0.5752\n",
      "Epoch-20-:   1%|▌                                                                      | 3/391 [00:05<25:12,  3.90s/it]"
     ]
    },
    {
     "name": "stdout",
     "output_type": "stream",
     "text": [
      "current learning rate:0.09397368756032445\n"
     ]
    },
    {
     "name": "stderr",
     "output_type": "stream",
     "text": [
      "Epoch-20-: 100%|█████████████████████████████████████████████████████████████████████| 391/391 [00:25<00:00, 15.53it/s]\n",
      "[INFO]: Training at epoch-20 | loss: 1.1479889564501964\tTop1 Acc: 0.6686200000381469\n",
      "Valiation at -20-: 100%|███████████████████████████████████████████████████████████████| 79/79 [00:04<00:00, 18.97it/s]\n",
      "[INFO]: Validation results at epoch-20 | loss: 1.664309414127205\tTop1 Acc: 0.5697\n",
      "Epoch-21-:   1%|▌                                                                      | 3/391 [00:05<25:39,  3.97s/it]"
     ]
    },
    {
     "name": "stdout",
     "output_type": "stream",
     "text": [
      "current learning rate:0.09316282404787869\n"
     ]
    },
    {
     "name": "stderr",
     "output_type": "stream",
     "text": [
      "Epoch-21-: 100%|█████████████████████████████████████████████████████████████████████| 391/391 [00:25<00:00, 15.35it/s]\n",
      "[INFO]: Training at epoch-21 | loss: 1.1485638642859886\tTop1 Acc: 0.66736\n",
      "Valiation at -21-: 100%|███████████████████████████████████████████████████████████████| 79/79 [00:04<00:00, 17.43it/s]\n",
      "[INFO]: Validation results at epoch-21 | loss: 1.6690726536738723\tTop1 Acc: 0.5748\n",
      "Epoch-22-:   1%|▌                                                                      | 3/391 [00:06<27:17,  4.22s/it]"
     ]
    },
    {
     "name": "stdout",
     "output_type": "stream",
     "text": [
      "current learning rate:0.09230476262104677\n"
     ]
    },
    {
     "name": "stderr",
     "output_type": "stream",
     "text": [
      "Epoch-22-: 100%|█████████████████████████████████████████████████████████████████████| 391/391 [00:25<00:00, 15.16it/s]\n",
      "[INFO]: Training at epoch-22 | loss: 1.1475792249755177\tTop1 Acc: 0.6703599999809265\n",
      "Valiation at -22-: 100%|███████████████████████████████████████████████████████████████| 79/79 [00:04<00:00, 17.31it/s]\n",
      "[INFO]: Validation results at epoch-22 | loss: 1.626623256297051\tTop1 Acc: 0.5699\n",
      "Epoch-23-:   1%|▌                                                                      | 3/391 [00:06<27:25,  4.24s/it]"
     ]
    },
    {
     "name": "stdout",
     "output_type": "stream",
     "text": [
      "current learning rate:0.09140044155740101\n"
     ]
    },
    {
     "name": "stderr",
     "output_type": "stream",
     "text": [
      "Epoch-23-: 100%|█████████████████████████████████████████████████████████████████████| 391/391 [00:26<00:00, 15.03it/s]\n",
      "[INFO]: Training at epoch-23 | loss: 1.1323221118553826\tTop1 Acc: 0.671580000038147\n",
      "Valiation at -23-: 100%|███████████████████████████████████████████████████████████████| 79/79 [00:04<00:00, 18.93it/s]\n",
      "[INFO]: Validation results at epoch-23 | loss: 1.5001900769487213\tTop1 Acc: 0.6011\n",
      "Epoch-24-:   1%|▌                                                                      | 3/391 [00:05<25:08,  3.89s/it]"
     ]
    },
    {
     "name": "stdout",
     "output_type": "stream",
     "text": [
      "current learning rate:0.09045084971874738\n"
     ]
    },
    {
     "name": "stderr",
     "output_type": "stream",
     "text": [
      "Epoch-24-: 100%|█████████████████████████████████████████████████████████████████████| 391/391 [00:25<00:00, 15.58it/s]\n",
      "[INFO]: Training at epoch-24 | loss: 1.1175000393177237\tTop1 Acc: 0.67512\n",
      "Valiation at -24-: 100%|███████████████████████████████████████████████████████████████| 79/79 [00:04<00:00, 19.21it/s]\n",
      "[INFO]: Validation results at epoch-24 | loss: 1.5296371752702738\tTop1 Acc: 0.592\n",
      "Epoch-25-:   1%|▌                                                                      | 3/391 [00:05<25:36,  3.96s/it]"
     ]
    },
    {
     "name": "stdout",
     "output_type": "stream",
     "text": [
      "current learning rate:0.08945702546981969\n"
     ]
    },
    {
     "name": "stderr",
     "output_type": "stream",
     "text": [
      "Epoch-25-: 100%|█████████████████████████████████████████████████████████████████████| 391/391 [00:25<00:00, 15.28it/s]\n",
      "[INFO]: Training at epoch-25 | loss: 1.1207590150406292\tTop1 Acc: 0.6764600000572205\n",
      "Valiation at -25-: 100%|███████████████████████████████████████████████████████████████| 79/79 [00:04<00:00, 18.77it/s]\n",
      "[INFO]: Validation results at epoch-25 | loss: 1.7043162433406975\tTop1 Acc: 0.5563\n",
      "Epoch-26-:   1%|▌                                                                      | 3/391 [00:05<25:37,  3.96s/it]"
     ]
    },
    {
     "name": "stdout",
     "output_type": "stream",
     "text": [
      "current learning rate:0.08842005554284296\n"
     ]
    },
    {
     "name": "stderr",
     "output_type": "stream",
     "text": [
      "Epoch-26-: 100%|█████████████████████████████████████████████████████████████████████| 391/391 [00:25<00:00, 15.58it/s]\n",
      "[INFO]: Training at epoch-26 | loss: 1.1137491091133078\tTop1 Acc: 0.6756600000572205\n",
      "Valiation at -26-: 100%|███████████████████████████████████████████████████████████████| 79/79 [00:04<00:00, 17.59it/s]\n",
      "[INFO]: Validation results at epoch-26 | loss: 1.6967825768869134\tTop1 Acc: 0.5639\n",
      "Epoch-27-:   1%|▌                                                                      | 3/391 [00:05<25:48,  3.99s/it]"
     ]
    },
    {
     "name": "stdout",
     "output_type": "stream",
     "text": [
      "current learning rate:0.0873410738492077\n"
     ]
    },
    {
     "name": "stderr",
     "output_type": "stream",
     "text": [
      "Epoch-27-: 100%|█████████████████████████████████████████████████████████████████████| 391/391 [00:25<00:00, 15.42it/s]\n",
      "[INFO]: Training at epoch-27 | loss: 1.0974487329992797\tTop1 Acc: 0.6835200000572205\n",
      "Valiation at -27-: 100%|███████████████████████████████████████████████████████████████| 79/79 [00:04<00:00, 18.03it/s]\n",
      "[INFO]: Validation results at epoch-27 | loss: 1.648058957691434\tTop1 Acc: 0.5754\n",
      "Epoch-28-:   1%|▌                                                                      | 3/391 [00:06<27:30,  4.25s/it]"
     ]
    },
    {
     "name": "stdout",
     "output_type": "stream",
     "text": [
      "current learning rate:0.08622126023955445\n"
     ]
    },
    {
     "name": "stderr",
     "output_type": "stream",
     "text": [
      "Epoch-28-: 100%|█████████████████████████████████████████████████████████████████████| 391/391 [00:26<00:00, 14.61it/s]\n",
      "[INFO]: Training at epoch-28 | loss: 1.0935875941115571\tTop1 Acc: 0.683120000038147\n",
      "Valiation at -28-: 100%|███████████████████████████████████████████████████████████████| 79/79 [00:04<00:00, 17.24it/s]\n",
      "[INFO]: Validation results at epoch-28 | loss: 1.536409989187989\tTop1 Acc: 0.5926\n",
      "Epoch-29-:   1%|▌                                                                      | 3/391 [00:06<28:22,  4.39s/it]"
     ]
    },
    {
     "name": "stdout",
     "output_type": "stream",
     "text": [
      "current learning rate:0.08506183921362444\n"
     ]
    },
    {
     "name": "stderr",
     "output_type": "stream",
     "text": [
      "Epoch-29-: 100%|█████████████████████████████████████████████████████████████████████| 391/391 [00:26<00:00, 14.72it/s]\n",
      "[INFO]: Training at epoch-29 | loss: 1.079958050147347\tTop1 Acc: 0.686900000038147\n",
      "Valiation at -29-: 100%|███████████████████████████████████████████████████████████████| 79/79 [00:04<00:00, 18.58it/s]\n",
      "[INFO]: Validation results at epoch-29 | loss: 1.468158388439613\tTop1 Acc: 0.6069\n",
      "Epoch-30-:   1%|▌                                                                      | 3/391 [00:06<29:28,  4.56s/it]"
     ]
    },
    {
     "name": "stdout",
     "output_type": "stream",
     "text": [
      "current learning rate:0.08386407858128707\n"
     ]
    },
    {
     "name": "stderr",
     "output_type": "stream",
     "text": [
      "Epoch-30-: 100%|█████████████████████████████████████████████████████████████████████| 391/391 [00:28<00:00, 13.72it/s]\n",
      "[INFO]: Training at epoch-30 | loss: 1.0741597717375402\tTop1 Acc: 0.6894000000190735\n",
      "Valiation at -30-: 100%|███████████████████████████████████████████████████████████████| 79/79 [00:06<00:00, 12.83it/s]\n",
      "[INFO]: Validation results at epoch-30 | loss: 1.5450639015511622\tTop1 Acc: 0.589\n",
      "Epoch-31-:   1%|▌                                                                      | 3/391 [00:05<25:43,  3.98s/it]"
     ]
    },
    {
     "name": "stdout",
     "output_type": "stream",
     "text": [
      "current learning rate:0.08262928807620844\n"
     ]
    },
    {
     "name": "stderr",
     "output_type": "stream",
     "text": [
      "Epoch-31-: 100%|█████████████████████████████████████████████████████████████████████| 391/391 [00:25<00:00, 15.53it/s]\n",
      "[INFO]: Training at epoch-31 | loss: 1.06926340078149\tTop1 Acc: 0.6874599999809266\n",
      "Valiation at -31-: 100%|███████████████████████████████████████████████████████████████| 79/79 [00:04<00:00, 19.49it/s]\n",
      "[INFO]: Validation results at epoch-31 | loss: 1.5210685579082635\tTop1 Acc: 0.6002\n",
      "Epoch-32-:   1%|▌                                                                      | 3/391 [00:05<24:53,  3.85s/it]"
     ]
    },
    {
     "name": "stdout",
     "output_type": "stream",
     "text": [
      "current learning rate:0.08135881792367686\n"
     ]
    },
    {
     "name": "stderr",
     "output_type": "stream",
     "text": [
      "Epoch-32-: 100%|█████████████████████████████████████████████████████████████████████| 391/391 [00:24<00:00, 15.66it/s]\n",
      "[INFO]: Training at epoch-32 | loss: 1.0555624283488145\tTop1 Acc: 0.691360000038147\n",
      "Valiation at -32-: 100%|███████████████████████████████████████████████████████████████| 79/79 [00:04<00:00, 19.50it/s]\n",
      "[INFO]: Validation results at epoch-32 | loss: 1.485068150713474\tTop1 Acc: 0.6138\n",
      "Epoch-33-:   1%|▌                                                                      | 3/391 [00:06<27:47,  4.30s/it]"
     ]
    },
    {
     "name": "stdout",
     "output_type": "stream",
     "text": [
      "current learning rate:0.08005405736415126\n"
     ]
    },
    {
     "name": "stderr",
     "output_type": "stream",
     "text": [
      "Epoch-33-: 100%|█████████████████████████████████████████████████████████████████████| 391/391 [00:26<00:00, 15.01it/s]\n",
      "[INFO]: Training at epoch-33 | loss: 1.0355706499970478\tTop1 Acc: 0.6984799999809265\n",
      "Valiation at -33-: 100%|███████████████████████████████████████████████████████████████| 79/79 [00:04<00:00, 17.08it/s]\n",
      "[INFO]: Validation results at epoch-33 | loss: 1.5748856912685345\tTop1 Acc: 0.5934\n",
      "Epoch-34-:   1%|▌                                                                      | 3/391 [00:06<27:31,  4.26s/it]"
     ]
    },
    {
     "name": "stdout",
     "output_type": "stream",
     "text": [
      "current learning rate:0.07871643313414718\n"
     ]
    },
    {
     "name": "stderr",
     "output_type": "stream",
     "text": [
      "Epoch-34-: 100%|█████████████████████████████████████████████████████████████████████| 391/391 [00:26<00:00, 14.59it/s]\n",
      "[INFO]: Training at epoch-34 | loss: 1.0369383133280918\tTop1 Acc: 0.6965\n",
      "Valiation at -34-: 100%|███████████████████████████████████████████████████████████████| 79/79 [00:04<00:00, 17.13it/s]\n",
      "[INFO]: Validation results at epoch-34 | loss: 1.4328829246231272\tTop1 Acc: 0.6237\n",
      "Epoch-35-:   1%|▌                                                                      | 3/391 [00:06<30:44,  4.75s/it]"
     ]
    },
    {
     "name": "stdout",
     "output_type": "stream",
     "text": [
      "current learning rate:0.07734740790612135\n"
     ]
    },
    {
     "name": "stderr",
     "output_type": "stream",
     "text": [
      "Epoch-35-: 100%|█████████████████████████████████████████████████████████████████████| 391/391 [00:27<00:00, 14.47it/s]\n",
      "[INFO]: Training at epoch-35 | loss: 1.0147485161376426\tTop1 Acc: 0.703020000038147\n",
      "Valiation at -35-: 100%|███████████████████████████████████████████████████████████████| 79/79 [00:04<00:00, 18.66it/s]\n",
      "[INFO]: Validation results at epoch-35 | loss: 1.546969715552994\tTop1 Acc: 0.5969\n",
      "Epoch-36-:   1%|▌                                                                      | 3/391 [00:05<24:54,  3.85s/it]"
     ]
    },
    {
     "name": "stdout",
     "output_type": "stream",
     "text": [
      "current learning rate:0.07594847868906077\n"
     ]
    },
    {
     "name": "stderr",
     "output_type": "stream",
     "text": [
      "Epoch-36-: 100%|█████████████████████████████████████████████████████████████████████| 391/391 [00:25<00:00, 15.62it/s]\n",
      "[INFO]: Training at epoch-36 | loss: 1.015226152699317\tTop1 Acc: 0.702520000038147\n",
      "Valiation at -36-: 100%|███████████████████████████████████████████████████████████████| 79/79 [00:04<00:00, 18.09it/s]\n",
      "[INFO]: Validation results at epoch-36 | loss: 1.6272510569306868\tTop1 Acc: 0.583\n",
      "Epoch-37-:   1%|▌                                                                      | 3/391 [00:05<25:21,  3.92s/it]"
     ]
    },
    {
     "name": "stdout",
     "output_type": "stream",
     "text": [
      "current learning rate:0.0745211751915254\n"
     ]
    },
    {
     "name": "stderr",
     "output_type": "stream",
     "text": [
      "Epoch-37-: 100%|█████████████████████████████████████████████████████████████████████| 391/391 [00:25<00:00, 15.59it/s]\n",
      "[INFO]: Training at epoch-37 | loss: 0.9988680567277972\tTop1 Acc: 0.70808\n",
      "Valiation at -37-: 100%|███████████████████████████████████████████████████████████████| 79/79 [00:04<00:00, 19.12it/s]\n",
      "[INFO]: Validation results at epoch-37 | loss: 1.4557338575773602\tTop1 Acc: 0.6128\n",
      "Epoch-38-:   1%|▌                                                                      | 3/391 [00:05<25:12,  3.90s/it]"
     ]
    },
    {
     "name": "stdout",
     "output_type": "stream",
     "text": [
      "current learning rate:0.0730670581489344\n"
     ]
    },
    {
     "name": "stderr",
     "output_type": "stream",
     "text": [
      "Epoch-38-: 100%|█████████████████████████████████████████████████████████████████████| 391/391 [00:24<00:00, 15.68it/s]\n",
      "[INFO]: Training at epoch-38 | loss: 0.9934128330796576\tTop1 Acc: 0.70898\n",
      "Valiation at -38-: 100%|███████████████████████████████████████████████████████████████| 79/79 [00:04<00:00, 19.31it/s]\n",
      "[INFO]: Validation results at epoch-38 | loss: 1.6285244030288504\tTop1 Acc: 0.5797\n",
      "Epoch-39-:   1%|▌                                                                      | 3/391 [00:05<24:59,  3.86s/it]"
     ]
    },
    {
     "name": "stdout",
     "output_type": "stream",
     "text": [
      "current learning rate:0.07158771761692465\n"
     ]
    },
    {
     "name": "stderr",
     "output_type": "stream",
     "text": [
      "Epoch-39-: 100%|█████████████████████████████████████████████████████████████████████| 391/391 [00:25<00:00, 15.17it/s]\n",
      "[INFO]: Training at epoch-39 | loss: 0.9738479442608631\tTop1 Acc: 0.713180000038147\n",
      "Valiation at -39-: 100%|███████████████████████████████████████████████████████████████| 79/79 [00:04<00:00, 17.85it/s]\n",
      "[INFO]: Validation results at epoch-39 | loss: 1.6286416099041323\tTop1 Acc: 0.5819\n",
      "Epoch-40-:   1%|▌                                                                      | 3/391 [00:06<27:01,  4.18s/it]"
     ]
    },
    {
     "name": "stdout",
     "output_type": "stream",
     "text": [
      "current learning rate:0.07008477123264849\n"
     ]
    },
    {
     "name": "stderr",
     "output_type": "stream",
     "text": [
      "Epoch-40-: 100%|█████████████████████████████████████████████████████████████████████| 391/391 [00:25<00:00, 15.14it/s]\n",
      "[INFO]: Training at epoch-40 | loss: 0.9728755005790145\tTop1 Acc: 0.7132800000572205\n",
      "Valiation at -40-: 100%|███████████████████████████████████████████████████████████████| 79/79 [00:04<00:00, 16.36it/s]\n",
      "[INFO]: Validation results at epoch-40 | loss: 1.4567353619804866\tTop1 Acc: 0.6224\n",
      "Epoch-41-:   0%|▏                                                                      | 1/391 [00:06<39:52,  6.14s/it]"
     ]
    },
    {
     "name": "stdout",
     "output_type": "stream",
     "text": [
      "current learning rate:0.06855986244591104\n"
     ]
    },
    {
     "name": "stderr",
     "output_type": "stream",
     "text": [
      "Epoch-41-: 100%|█████████████████████████████████████████████████████████████████████| 391/391 [00:26<00:00, 14.79it/s]\n",
      "[INFO]: Training at epoch-41 | loss: 0.9483052999772075\tTop1 Acc: 0.7184400000572204\n",
      "Valiation at -41-: 100%|███████████████████████████████████████████████████████████████| 79/79 [00:04<00:00, 18.99it/s]\n",
      "[INFO]: Validation results at epoch-41 | loss: 1.3593362252923507\tTop1 Acc: 0.6369\n",
      "Epoch-42-:   1%|▌                                                                      | 3/391 [00:05<25:04,  3.88s/it]"
     ]
    },
    {
     "name": "stdout",
     "output_type": "stream",
     "text": [
      "current learning rate:0.06701465872208216\n"
     ]
    },
    {
     "name": "stderr",
     "output_type": "stream",
     "text": [
      "Epoch-42-: 100%|█████████████████████████████████████████████████████████████████████| 391/391 [00:25<00:00, 15.49it/s]\n",
      "[INFO]: Training at epoch-42 | loss: 0.9354122997549794\tTop1 Acc: 0.723560000038147\n",
      "Valiation at -42-: 100%|███████████████████████████████████████████████████████████████| 79/79 [00:04<00:00, 18.33it/s]\n",
      "[INFO]: Validation results at epoch-42 | loss: 1.374168249625194\tTop1 Acc: 0.6359\n",
      "Epoch-43-:   1%|▌                                                                      | 3/391 [00:05<25:48,  3.99s/it]"
     ]
    },
    {
     "name": "stdout",
     "output_type": "stream",
     "text": [
      "current learning rate:0.06545084971874737\n"
     ]
    },
    {
     "name": "stderr",
     "output_type": "stream",
     "text": [
      "Epoch-43-: 100%|█████████████████████████████████████████████████████████████████████| 391/391 [00:25<00:00, 15.39it/s]\n",
      "[INFO]: Training at epoch-43 | loss: 0.9204208995680065\tTop1 Acc: 0.7274600000190735\n",
      "Valiation at -43-: 100%|███████████████████████████████████████████████████████████████| 79/79 [00:04<00:00, 19.02it/s]\n",
      "[INFO]: Validation results at epoch-43 | loss: 1.5166103477719464\tTop1 Acc: 0.6076\n",
      "Epoch-44-:   1%|▌                                                                      | 3/391 [00:05<25:28,  3.94s/it]"
     ]
    },
    {
     "name": "stdout",
     "output_type": "stream",
     "text": [
      "current learning rate:0.06387014543809225\n"
     ]
    },
    {
     "name": "stderr",
     "output_type": "stream",
     "text": [
      "Epoch-44-: 100%|█████████████████████████████████████████████████████████████████████| 391/391 [00:25<00:00, 15.10it/s]\n",
      "[INFO]: Training at epoch-44 | loss: 0.9165062207700042\tTop1 Acc: 0.72918\n",
      "Valiation at -44-: 100%|███████████████████████████████████████████████████████████████| 79/79 [00:04<00:00, 18.04it/s]\n",
      "[INFO]: Validation results at epoch-44 | loss: 1.3118294153032424\tTop1 Acc: 0.6476\n",
      "Epoch-45-:   1%|▌                                                                      | 3/391 [00:05<25:23,  3.93s/it]"
     ]
    },
    {
     "name": "stdout",
     "output_type": "stream",
     "text": [
      "current learning rate:0.062274274357039965\n"
     ]
    },
    {
     "name": "stderr",
     "output_type": "stream",
     "text": [
      "Epoch-45-: 100%|█████████████████████████████████████████████████████████████████████| 391/391 [00:25<00:00, 15.43it/s]\n",
      "[INFO]: Training at epoch-45 | loss: 0.888670981387653\tTop1 Acc: 0.73646\n",
      "Valiation at -45-: 100%|███████████████████████████████████████████████████████████████| 79/79 [00:04<00:00, 17.12it/s]\n",
      "[INFO]: Validation results at epoch-45 | loss: 1.4942985818355898\tTop1 Acc: 0.6143\n",
      "Epoch-46-:   1%|▌                                                                      | 3/391 [00:06<27:10,  4.20s/it]"
     ]
    },
    {
     "name": "stdout",
     "output_type": "stream",
     "text": [
      "current learning rate:0.06066498153718736\n"
     ]
    },
    {
     "name": "stderr",
     "output_type": "stream",
     "text": [
      "Epoch-46-: 100%|█████████████████████████████████████████████████████████████████████| 391/391 [00:26<00:00, 14.98it/s]\n",
      "[INFO]: Training at epoch-46 | loss: 0.8835785734988845\tTop1 Acc: 0.736940000038147\n",
      "Valiation at -46-: 100%|███████████████████████████████████████████████████████████████| 79/79 [00:04<00:00, 17.59it/s]\n",
      "[INFO]: Validation results at epoch-46 | loss: 1.3609766801701317\tTop1 Acc: 0.6388\n",
      "Epoch-47-:   1%|▌                                                                      | 3/391 [00:06<27:27,  4.25s/it]"
     ]
    },
    {
     "name": "stdout",
     "output_type": "stream",
     "text": [
      "current learning rate:0.0590440267166055\n"
     ]
    },
    {
     "name": "stderr",
     "output_type": "stream",
     "text": [
      "Epoch-47-: 100%|█████████████████████████████████████████████████████████████████████| 391/391 [00:26<00:00, 14.75it/s]\n",
      "[INFO]: Training at epoch-47 | loss: 0.8536920135893176\tTop1 Acc: 0.7459599999809265\n",
      "Valiation at -47-: 100%|███████████████████████████████████████████████████████████████| 79/79 [00:04<00:00, 19.40it/s]\n",
      "[INFO]: Validation results at epoch-47 | loss: 1.6722721993168699\tTop1 Acc: 0.5881\n",
      "Epoch-48-:   1%|▌                                                                      | 3/391 [00:05<25:04,  3.88s/it]"
     ]
    },
    {
     "name": "stdout",
     "output_type": "stream",
     "text": [
      "current learning rate:0.0574131823855921\n"
     ]
    },
    {
     "name": "stderr",
     "output_type": "stream",
     "text": [
      "Epoch-48-: 100%|█████████████████████████████████████████████████████████████████████| 391/391 [00:25<00:00, 15.51it/s]\n",
      "[INFO]: Training at epoch-48 | loss: 0.846781453360682\tTop1 Acc: 0.7461800000572204\n",
      "Valiation at -48-: 100%|███████████████████████████████████████████████████████████████| 79/79 [00:04<00:00, 19.24it/s]\n",
      "[INFO]: Validation results at epoch-48 | loss: 1.4980711031563674\tTop1 Acc: 0.6044\n",
      "Epoch-49-:   1%|▌                                                                      | 3/391 [00:05<25:56,  4.01s/it]"
     ]
    },
    {
     "name": "stdout",
     "output_type": "stream",
     "text": [
      "current learning rate:0.05577423184847931\n"
     ]
    },
    {
     "name": "stderr",
     "output_type": "stream",
     "text": [
      "Epoch-49-: 100%|█████████████████████████████████████████████████████████████████████| 391/391 [00:25<00:00, 15.30it/s]\n",
      "[INFO]: Training at epoch-49 | loss: 0.8289139978111247\tTop1 Acc: 0.7529000000572205\n",
      "Valiation at -49-: 100%|███████████████████████████████████████████████████████████████| 79/79 [00:04<00:00, 19.31it/s]\n",
      "[INFO]: Validation results at epoch-49 | loss: 1.4302426719967323\tTop1 Acc: 0.6307\n",
      "Epoch-50-:   1%|▌                                                                      | 3/391 [00:05<25:04,  3.88s/it]"
     ]
    },
    {
     "name": "stdout",
     "output_type": "stream",
     "text": [
      "current learning rate:0.05412896727361663\n"
     ]
    },
    {
     "name": "stderr",
     "output_type": "stream",
     "text": [
      "Epoch-50-: 100%|█████████████████████████████████████████████████████████████████████| 391/391 [00:25<00:00, 15.51it/s]\n",
      "[INFO]: Training at epoch-50 | loss: 0.815818625795262\tTop1 Acc: 0.7559200000572205\n",
      "Valiation at -50-: 100%|███████████████████████████████████████████████████████████████| 79/79 [00:04<00:00, 18.80it/s]\n",
      "[INFO]: Validation results at epoch-50 | loss: 1.4428494384017172\tTop1 Acc: 0.6216\n",
      "Epoch-51-:   1%|▌                                                                      | 3/391 [00:05<25:55,  4.01s/it]"
     ]
    },
    {
     "name": "stdout",
     "output_type": "stream",
     "text": [
      "current learning rate:0.052479187733661115\n"
     ]
    },
    {
     "name": "stderr",
     "output_type": "stream",
     "text": [
      "Epoch-51-: 100%|█████████████████████████████████████████████████████████████████████| 391/391 [00:25<00:00, 15.25it/s]\n",
      "[INFO]: Training at epoch-51 | loss: 0.7874534292446683\tTop1 Acc: 0.763340000038147\n",
      "Valiation at -51-: 100%|███████████████████████████████████████████████████████████████| 79/79 [00:04<00:00, 16.55it/s]\n",
      "[INFO]: Validation results at epoch-51 | loss: 1.5099259992189045\tTop1 Acc: 0.6201\n",
      "Epoch-52-:   1%|▌                                                                      | 3/391 [00:06<28:37,  4.43s/it]"
     ]
    },
    {
     "name": "stdout",
     "output_type": "stream",
     "text": [
      "current learning rate:0.05082669723831793\n"
     ]
    },
    {
     "name": "stderr",
     "output_type": "stream",
     "text": [
      "Epoch-52-: 100%|█████████████████████████████████████████████████████████████████████| 391/391 [00:26<00:00, 14.77it/s]\n",
      "[INFO]: Training at epoch-52 | loss: 0.7735323903658201\tTop1 Acc: 0.7668400000190735\n",
      "Valiation at -52-: 100%|███████████████████████████████████████████████████████████████| 79/79 [00:04<00:00, 17.50it/s]\n",
      "[INFO]: Validation results at epoch-52 | loss: 1.331728592703614\tTop1 Acc: 0.6524\n",
      "Epoch-53-:   1%|▌                                                                      | 3/391 [00:06<27:54,  4.32s/it]"
     ]
    },
    {
     "name": "stdout",
     "output_type": "stream",
     "text": [
      "current learning rate:0.04917330276168208\n"
     ]
    },
    {
     "name": "stderr",
     "output_type": "stream",
     "text": [
      "Epoch-53-: 100%|█████████████████████████████████████████████████████████████████████| 391/391 [00:26<00:00, 14.67it/s]\n",
      "[INFO]: Training at epoch-53 | loss: 0.7576846063441938\tTop1 Acc: 0.7716399999809265\n",
      "Valiation at -53-: 100%|███████████████████████████████████████████████████████████████| 79/79 [00:04<00:00, 19.43it/s]\n",
      "[INFO]: Validation results at epoch-53 | loss: 1.3878188427490523\tTop1 Acc: 0.6412\n",
      "Epoch-54-:   1%|▌                                                                      | 3/391 [00:05<24:59,  3.86s/it]"
     ]
    },
    {
     "name": "stdout",
     "output_type": "stream",
     "text": [
      "current learning rate:0.04752081226633889\n"
     ]
    },
    {
     "name": "stderr",
     "output_type": "stream",
     "text": [
      "Epoch-54-: 100%|█████████████████████████████████████████████████████████████████████| 391/391 [00:24<00:00, 15.75it/s]\n",
      "[INFO]: Training at epoch-54 | loss: 0.7373374064865015\tTop1 Acc: 0.77862\n",
      "Valiation at -54-: 100%|███████████████████████████████████████████████████████████████| 79/79 [00:04<00:00, 19.56it/s]\n",
      "[INFO]: Validation results at epoch-54 | loss: 1.373257171504105\tTop1 Acc: 0.6386\n",
      "Epoch-55-:   1%|▌                                                                      | 3/391 [00:05<24:58,  3.86s/it]"
     ]
    },
    {
     "name": "stdout",
     "output_type": "stream",
     "text": [
      "current learning rate:0.04587103272638339\n"
     ]
    },
    {
     "name": "stderr",
     "output_type": "stream",
     "text": [
      "Epoch-55-: 100%|█████████████████████████████████████████████████████████████████████| 391/391 [00:24<00:00, 15.72it/s]\n",
      "[INFO]: Training at epoch-55 | loss: 0.7077942996683633\tTop1 Acc: 0.7857799999809265\n",
      "Valiation at -55-: 100%|███████████████████████████████████████████████████████████████| 79/79 [00:04<00:00, 19.54it/s]\n",
      "[INFO]: Validation results at epoch-55 | loss: 1.323426976234098\tTop1 Acc: 0.6513\n",
      "Epoch-56-:   1%|▌                                                                      | 3/391 [00:05<25:01,  3.87s/it]"
     ]
    },
    {
     "name": "stdout",
     "output_type": "stream",
     "text": [
      "current learning rate:0.04422576815152071\n"
     ]
    },
    {
     "name": "stderr",
     "output_type": "stream",
     "text": [
      "Epoch-56-: 100%|█████████████████████████████████████████████████████████████████████| 391/391 [00:24<00:00, 15.72it/s]\n",
      "[INFO]: Training at epoch-56 | loss: 0.6870428045539905\tTop1 Acc: 0.7919000000190735\n",
      "Valiation at -56-: 100%|███████████████████████████████████████████████████████████████| 79/79 [00:04<00:00, 19.31it/s]\n",
      "[INFO]: Validation results at epoch-56 | loss: 1.389708571796176\tTop1 Acc: 0.6378\n",
      "Epoch-57-:   1%|▌                                                                      | 3/391 [00:05<25:15,  3.91s/it]"
     ]
    },
    {
     "name": "stdout",
     "output_type": "stream",
     "text": [
      "current learning rate:0.04258681761440791\n"
     ]
    },
    {
     "name": "stderr",
     "output_type": "stream",
     "text": [
      "Epoch-57-: 100%|█████████████████████████████████████████████████████████████████████| 391/391 [00:25<00:00, 15.56it/s]\n",
      "[INFO]: Training at epoch-57 | loss: 0.6690861046161798\tTop1 Acc: 0.7965799999809265\n",
      "Valiation at -57-: 100%|███████████████████████████████████████████████████████████████| 79/79 [00:04<00:00, 18.01it/s]\n",
      "[INFO]: Validation results at epoch-57 | loss: 1.334529680541799\tTop1 Acc: 0.6532\n",
      "Epoch-58-:   1%|▌                                                                      | 3/391 [00:06<27:08,  4.20s/it]"
     ]
    },
    {
     "name": "stdout",
     "output_type": "stream",
     "text": [
      "current learning rate:0.04095597328339452\n"
     ]
    },
    {
     "name": "stderr",
     "output_type": "stream",
     "text": [
      "Epoch-58-: 100%|█████████████████████████████████████████████████████████████████████| 391/391 [00:25<00:00, 15.22it/s]\n",
      "[INFO]: Training at epoch-58 | loss: 0.6594619007061815\tTop1 Acc: 0.7977800000190735\n",
      "Valiation at -58-: 100%|███████████████████████████████████████████████████████████████| 79/79 [00:04<00:00, 17.89it/s]\n",
      "[INFO]: Validation results at epoch-58 | loss: 1.3495798495751392\tTop1 Acc: 0.6498\n",
      "Epoch-59-:   1%|▌                                                                      | 3/391 [00:06<27:12,  4.21s/it]"
     ]
    },
    {
     "name": "stdout",
     "output_type": "stream",
     "text": [
      "current learning rate:0.03933501846281267\n"
     ]
    },
    {
     "name": "stderr",
     "output_type": "stream",
     "text": [
      "Epoch-59-: 100%|█████████████████████████████████████████████████████████████████████| 391/391 [00:26<00:00, 14.96it/s]\n",
      "[INFO]: Training at epoch-59 | loss: 0.633028703653599\tTop1 Acc: 0.8076999999809266\n",
      "Valiation at -59-: 100%|███████████████████████████████████████████████████████████████| 79/79 [00:04<00:00, 18.85it/s]\n",
      "[INFO]: Validation results at epoch-59 | loss: 1.2549074993857854\tTop1 Acc: 0.6736\n",
      "Epoch-60-:   1%|▌                                                                      | 3/391 [00:05<25:06,  3.88s/it]"
     ]
    },
    {
     "name": "stdout",
     "output_type": "stream",
     "text": [
      "current learning rate:0.03772572564296005\n"
     ]
    },
    {
     "name": "stderr",
     "output_type": "stream",
     "text": [
      "Epoch-60-: 100%|█████████████████████████████████████████████████████████████████████| 391/391 [00:25<00:00, 15.35it/s]\n",
      "[INFO]: Training at epoch-60 | loss: 0.6088246652842177\tTop1 Acc: 0.8145400000572205\n",
      "Valiation at -60-: 100%|███████████████████████████████████████████████████████████████| 79/79 [00:04<00:00, 18.09it/s]\n",
      "[INFO]: Validation results at epoch-60 | loss: 1.288171215902401\tTop1 Acc: 0.6736\n",
      "Epoch-61-:   1%|▌                                                                      | 3/391 [00:05<25:18,  3.91s/it]"
     ]
    },
    {
     "name": "stdout",
     "output_type": "stream",
     "text": [
      "current learning rate:0.03612985456190777\n"
     ]
    },
    {
     "name": "stderr",
     "output_type": "stream",
     "text": [
      "Epoch-61-: 100%|█████████████████████████████████████████████████████████████████████| 391/391 [00:25<00:00, 15.36it/s]\n",
      "[INFO]: Training at epoch-61 | loss: 0.5786450708766118\tTop1 Acc: 0.82206\n",
      "Valiation at -61-: 100%|███████████████████████████████████████████████████████████████| 79/79 [00:04<00:00, 19.45it/s]\n",
      "[INFO]: Validation results at epoch-61 | loss: 1.2993910772890984\tTop1 Acc: 0.6648\n",
      "Epoch-62-:   1%|▌                                                                      | 3/391 [00:05<25:20,  3.92s/it]"
     ]
    },
    {
     "name": "stdout",
     "output_type": "stream",
     "text": [
      "current learning rate:0.034549150281252626\n"
     ]
    },
    {
     "name": "stderr",
     "output_type": "stream",
     "text": [
      "Epoch-62-: 100%|█████████████████████████████████████████████████████████████████████| 391/391 [00:25<00:00, 15.63it/s]\n",
      "[INFO]: Training at epoch-62 | loss: 0.5473233549033895\tTop1 Acc: 0.8335\n",
      "Valiation at -62-: 100%|███████████████████████████████████████████████████████████████| 79/79 [00:04<00:00, 18.87it/s]\n",
      "[INFO]: Validation results at epoch-62 | loss: 1.3834282620043694\tTop1 Acc: 0.6498\n",
      "Epoch-63-:   0%|▏                                                                      | 1/391 [00:05<36:14,  5.57s/it]"
     ]
    },
    {
     "name": "stdout",
     "output_type": "stream",
     "text": [
      "current learning rate:0.03298534127791786\n"
     ]
    },
    {
     "name": "stderr",
     "output_type": "stream",
     "text": [
      "Epoch-63-: 100%|█████████████████████████████████████████████████████████████████████| 391/391 [00:25<00:00, 15.47it/s]\n",
      "[INFO]: Training at epoch-63 | loss: 0.526478035065829\tTop1 Acc: 0.83792\n",
      "Valiation at -63-: 100%|███████████████████████████████████████████████████████████████| 79/79 [00:04<00:00, 16.97it/s]\n",
      "[INFO]: Validation results at epoch-63 | loss: 1.2814169722267343\tTop1 Acc: 0.678\n",
      "Epoch-64-:   1%|▌                                                                      | 3/391 [00:06<27:48,  4.30s/it]"
     ]
    },
    {
     "name": "stdout",
     "output_type": "stream",
     "text": [
      "current learning rate:0.03144013755408897\n"
     ]
    },
    {
     "name": "stderr",
     "output_type": "stream",
     "text": [
      "Epoch-64-: 100%|█████████████████████████████████████████████████████████████████████| 391/391 [00:25<00:00, 15.05it/s]\n",
      "[INFO]: Training at epoch-64 | loss: 0.5041490665177251\tTop1 Acc: 0.8450600000572205\n",
      "Valiation at -64-: 100%|███████████████████████████████████████████████████████████████| 79/79 [00:04<00:00, 17.24it/s]\n",
      "[INFO]: Validation results at epoch-64 | loss: 1.3266336125663565\tTop1 Acc: 0.6714\n",
      "Epoch-65-:   1%|▌                                                                      | 3/391 [00:06<27:40,  4.28s/it]"
     ]
    },
    {
     "name": "stdout",
     "output_type": "stream",
     "text": [
      "current learning rate:0.02991522876735153\n"
     ]
    },
    {
     "name": "stderr",
     "output_type": "stream",
     "text": [
      "Epoch-65-: 100%|█████████████████████████████████████████████████████████████████████| 391/391 [00:26<00:00, 14.84it/s]\n",
      "[INFO]: Training at epoch-65 | loss: 0.4828084183623419\tTop1 Acc: 0.8505800000381469\n",
      "Valiation at -65-: 100%|███████████████████████████████████████████████████████████████| 79/79 [00:04<00:00, 18.88it/s]\n",
      "[INFO]: Validation results at epoch-65 | loss: 1.317236732078504\tTop1 Acc: 0.6713\n",
      "Epoch-66-:   1%|▌                                                                      | 3/391 [00:05<25:12,  3.90s/it]"
     ]
    },
    {
     "name": "stdout",
     "output_type": "stream",
     "text": [
      "current learning rate:0.02841228238307534\n"
     ]
    },
    {
     "name": "stderr",
     "output_type": "stream",
     "text": [
      "Epoch-66-: 100%|█████████████████████████████████████████████████████████████████████| 391/391 [00:25<00:00, 15.60it/s]\n",
      "[INFO]: Training at epoch-66 | loss: 0.45997608390153216\tTop1 Acc: 0.8574200000572204\n",
      "Valiation at -66-: 100%|███████████████████████████████████████████████████████████████| 79/79 [00:04<00:00, 19.25it/s]\n",
      "[INFO]: Validation results at epoch-66 | loss: 1.2703124993964086\tTop1 Acc: 0.6782\n",
      "Epoch-67-:   1%|▌                                                                      | 3/391 [00:05<24:58,  3.86s/it]"
     ]
    },
    {
     "name": "stdout",
     "output_type": "stream",
     "text": [
      "current learning rate:0.02693294185106562\n"
     ]
    },
    {
     "name": "stderr",
     "output_type": "stream",
     "text": [
      "Epoch-67-: 100%|█████████████████████████████████████████████████████████████████████| 391/391 [00:25<00:00, 15.62it/s]\n",
      "[INFO]: Training at epoch-67 | loss: 0.4178345356603413\tTop1 Acc: 0.8716000000572205\n",
      "Valiation at -67-: 100%|███████████████████████████████████████████████████████████████| 79/79 [00:04<00:00, 18.37it/s]\n",
      "[INFO]: Validation results at epoch-67 | loss: 1.3049441621273379\tTop1 Acc: 0.6783\n",
      "Epoch-68-:   1%|▌                                                                      | 3/391 [00:05<25:57,  4.01s/it]"
     ]
    },
    {
     "name": "stdout",
     "output_type": "stream",
     "text": [
      "current learning rate:0.025478824808474593\n"
     ]
    },
    {
     "name": "stderr",
     "output_type": "stream",
     "text": [
      "Epoch-68-: 100%|█████████████████████████████████████████████████████████████████████| 391/391 [00:25<00:00, 15.55it/s]\n",
      "[INFO]: Training at epoch-68 | loss: 0.3981658341863271\tTop1 Acc: 0.8763600000572205\n",
      "Valiation at -68-: 100%|███████████████████████████████████████████████████████████████| 79/79 [00:04<00:00, 19.32it/s]\n",
      "[INFO]: Validation results at epoch-68 | loss: 1.2644196990170056\tTop1 Acc: 0.6909\n",
      "Epoch-69-:   0%|▏                                                                      | 1/391 [00:05<36:27,  5.61s/it]"
     ]
    },
    {
     "name": "stdout",
     "output_type": "stream",
     "text": [
      "current learning rate:0.02405152131093924\n"
     ]
    },
    {
     "name": "stderr",
     "output_type": "stream",
     "text": [
      "Epoch-69-: 100%|█████████████████████████████████████████████████████████████████████| 391/391 [00:25<00:00, 15.50it/s]\n",
      "[INFO]: Training at epoch-69 | loss: 0.37462388390622786\tTop1 Acc: 0.88446\n",
      "Valiation at -69-: 100%|███████████████████████████████████████████████████████████████| 79/79 [00:04<00:00, 17.06it/s]\n",
      "[INFO]: Validation results at epoch-69 | loss: 1.2315820274473745\tTop1 Acc: 0.6902\n",
      "Epoch-70-:   1%|▌                                                                      | 3/391 [00:06<27:24,  4.24s/it]"
     ]
    },
    {
     "name": "stdout",
     "output_type": "stream",
     "text": [
      "current learning rate:0.02265259209387865\n"
     ]
    },
    {
     "name": "stderr",
     "output_type": "stream",
     "text": [
      "Epoch-70-: 100%|█████████████████████████████████████████████████████████████████████| 391/391 [00:26<00:00, 14.89it/s]\n",
      "[INFO]: Training at epoch-70 | loss: 0.3431313666312591\tTop1 Acc: 0.895080000038147\n",
      "Valiation at -70-: 100%|███████████████████████████████████████████████████████████████| 79/79 [00:04<00:00, 17.46it/s]\n",
      "[INFO]: Validation results at epoch-70 | loss: 1.3223393242570418\tTop1 Acc: 0.6826\n",
      "Epoch-71-:   1%|▌                                                                      | 3/391 [00:06<28:18,  4.38s/it]"
     ]
    },
    {
     "name": "stdout",
     "output_type": "stream",
     "text": [
      "current learning rate:0.021283566865852824\n"
     ]
    },
    {
     "name": "stderr",
     "output_type": "stream",
     "text": [
      "Epoch-71-: 100%|█████████████████████████████████████████████████████████████████████| 391/391 [00:26<00:00, 14.60it/s]\n",
      "[INFO]: Training at epoch-71 | loss: 0.32764150602433384\tTop1 Acc: 0.899600000038147\n",
      "Valiation at -71-: 100%|███████████████████████████████████████████████████████████████| 79/79 [00:04<00:00, 19.12it/s]\n",
      "[INFO]: Validation results at epoch-71 | loss: 1.227327429795567\tTop1 Acc: 0.6944\n",
      "Epoch-72-:   1%|▌                                                                      | 3/391 [00:05<25:08,  3.89s/it]"
     ]
    },
    {
     "name": "stdout",
     "output_type": "stream",
     "text": [
      "current learning rate:0.019945942635848746\n"
     ]
    },
    {
     "name": "stderr",
     "output_type": "stream",
     "text": [
      "Epoch-72-: 100%|█████████████████████████████████████████████████████████████████████| 391/391 [00:25<00:00, 15.41it/s]\n",
      "[INFO]: Training at epoch-72 | loss: 0.2917441202094183\tTop1 Acc: 0.9111400000572205\n",
      "Valiation at -72-: 100%|███████████████████████████████████████████████████████████████| 79/79 [00:04<00:00, 19.21it/s]\n",
      "[INFO]: Validation results at epoch-72 | loss: 1.255602024778535\tTop1 Acc: 0.6974\n",
      "Epoch-73-:   0%|▏                                                                      | 1/391 [00:05<37:35,  5.78s/it]"
     ]
    },
    {
     "name": "stdout",
     "output_type": "stream",
     "text": [
      "current learning rate:0.01864118207632315\n"
     ]
    },
    {
     "name": "stderr",
     "output_type": "stream",
     "text": [
      "Epoch-73-: 100%|█████████████████████████████████████████████████████████████████████| 391/391 [00:26<00:00, 14.77it/s]\n",
      "[INFO]: Training at epoch-73 | loss: 0.2659932680980629\tTop1 Acc: 0.918700000038147\n",
      "Valiation at -73-: 100%|███████████████████████████████████████████████████████████████| 79/79 [00:04<00:00, 19.05it/s]\n",
      "[INFO]: Validation results at epoch-73 | loss: 1.2168584971488277\tTop1 Acc: 0.7086\n",
      "Epoch-74-:   1%|▌                                                                      | 3/391 [00:05<25:30,  3.95s/it]"
     ]
    },
    {
     "name": "stdout",
     "output_type": "stream",
     "text": [
      "current learning rate:0.017370711923791565\n"
     ]
    },
    {
     "name": "stderr",
     "output_type": "stream",
     "text": [
      "Epoch-74-: 100%|█████████████████████████████████████████████████████████████████████| 391/391 [00:24<00:00, 15.66it/s]\n",
      "[INFO]: Training at epoch-74 | loss: 0.24423948542007703\tTop1 Acc: 0.9270000000572205\n",
      "Valiation at -74-: 100%|███████████████████████████████████████████████████████████████| 79/79 [00:04<00:00, 19.34it/s]\n",
      "[INFO]: Validation results at epoch-74 | loss: 1.252872884273529\tTop1 Acc: 0.6939\n",
      "Epoch-75-:   1%|▌                                                                      | 3/391 [00:05<25:13,  3.90s/it]"
     ]
    },
    {
     "name": "stdout",
     "output_type": "stream",
     "text": [
      "current learning rate:0.016135921418712958\n"
     ]
    },
    {
     "name": "stderr",
     "output_type": "stream",
     "text": [
      "Epoch-75-: 100%|█████████████████████████████████████████████████████████████████████| 391/391 [00:25<00:00, 15.60it/s]\n",
      "[INFO]: Training at epoch-75 | loss: 0.21340065041695105\tTop1 Acc: 0.9373200000572205\n",
      "Valiation at -75-: 100%|███████████████████████████████████████████████████████████████| 79/79 [00:04<00:00, 17.90it/s]\n",
      "[INFO]: Validation results at epoch-75 | loss: 1.2268833510483368\tTop1 Acc: 0.7085\n",
      "Epoch-76-:   1%|▌                                                                      | 3/391 [00:06<27:02,  4.18s/it]"
     ]
    },
    {
     "name": "stdout",
     "output_type": "stream",
     "text": [
      "current learning rate:0.014938160786375571\n"
     ]
    },
    {
     "name": "stderr",
     "output_type": "stream",
     "text": [
      "Epoch-76-: 100%|█████████████████████████████████████████████████████████████████████| 391/391 [00:25<00:00, 15.28it/s]\n",
      "[INFO]: Training at epoch-76 | loss: 0.1881917729554579\tTop1 Acc: 0.9450599999809265\n",
      "Valiation at -76-: 100%|███████████████████████████████████████████████████████████████| 79/79 [00:04<00:00, 17.89it/s]\n",
      "[INFO]: Validation results at epoch-76 | loss: 1.2336864878859701\tTop1 Acc: 0.7105\n",
      "Epoch-77-:   1%|▌                                                                      | 3/391 [00:06<27:21,  4.23s/it]"
     ]
    },
    {
     "name": "stdout",
     "output_type": "stream",
     "text": [
      "current learning rate:0.013778739760445552\n"
     ]
    },
    {
     "name": "stderr",
     "output_type": "stream",
     "text": [
      "Epoch-77-: 100%|█████████████████████████████████████████████████████████████████████| 391/391 [00:25<00:00, 15.08it/s]\n",
      "[INFO]: Training at epoch-77 | loss: 0.17430299112711417\tTop1 Acc: 0.9499799999809265\n",
      "Valiation at -77-: 100%|███████████████████████████████████████████████████████████████| 79/79 [00:04<00:00, 19.53it/s]\n",
      "[INFO]: Validation results at epoch-77 | loss: 1.2287872577015357\tTop1 Acc: 0.7091\n",
      "Epoch-78-:   0%|▏                                                                      | 1/391 [00:05<36:56,  5.68s/it]"
     ]
    },
    {
     "name": "stdout",
     "output_type": "stream",
     "text": [
      "current learning rate:0.012658926150792305\n"
     ]
    },
    {
     "name": "stderr",
     "output_type": "stream",
     "text": [
      "Epoch-78-: 100%|█████████████████████████████████████████████████████████████████████| 391/391 [00:27<00:00, 14.44it/s]\n",
      "[INFO]: Training at epoch-78 | loss: 0.14806780217172544\tTop1 Acc: 0.9589599999809265\n",
      "Valiation at -78-: 100%|███████████████████████████████████████████████████████████████| 79/79 [00:04<00:00, 18.45it/s]\n",
      "[INFO]: Validation results at epoch-78 | loss: 1.1724394469321529\tTop1 Acc: 0.7188\n",
      "Epoch-79-:   0%|▏                                                                      | 1/391 [00:05<36:49,  5.67s/it]"
     ]
    },
    {
     "name": "stdout",
     "output_type": "stream",
     "text": [
      "current learning rate:0.01157994445715706\n"
     ]
    },
    {
     "name": "stderr",
     "output_type": "stream",
     "text": [
      "Epoch-79-: 100%|█████████████████████████████████████████████████████████████████████| 391/391 [00:26<00:00, 14.75it/s]\n",
      "[INFO]: Training at epoch-79 | loss: 0.12402370949382976\tTop1 Acc: 0.966660000038147\n",
      "Valiation at -79-: 100%|███████████████████████████████████████████████████████████████| 79/79 [00:04<00:00, 18.61it/s]\n",
      "[INFO]: Validation results at epoch-79 | loss: 1.1414548347267923\tTop1 Acc: 0.729\n",
      "Epoch-80-:   1%|▌                                                                      | 3/391 [00:05<25:31,  3.95s/it]"
     ]
    },
    {
     "name": "stdout",
     "output_type": "stream",
     "text": [
      "current learning rate:0.010542974530180327\n"
     ]
    },
    {
     "name": "stderr",
     "output_type": "stream",
     "text": [
      "Epoch-80-: 100%|█████████████████████████████████████████████████████████████████████| 391/391 [00:26<00:00, 14.80it/s]\n",
      "[INFO]: Training at epoch-80 | loss: 0.10819242272497442\tTop1 Acc: 0.9716400000572205\n",
      "Valiation at -80-: 100%|███████████████████████████████████████████████████████████████| 79/79 [00:04<00:00, 18.29it/s]\n",
      "[INFO]: Validation results at epoch-80 | loss: 1.1188098501555528\tTop1 Acc: 0.7314\n",
      "Epoch-81-:   0%|▏                                                                      | 1/391 [00:05<37:05,  5.71s/it]"
     ]
    },
    {
     "name": "stdout",
     "output_type": "stream",
     "text": [
      "current learning rate:0.009549150281252633\n"
     ]
    },
    {
     "name": "stderr",
     "output_type": "stream",
     "text": [
      "Epoch-81-: 100%|█████████████████████████████████████████████████████████████████████| 391/391 [00:26<00:00, 14.51it/s]\n",
      "[INFO]: Training at epoch-81 | loss: 0.09849443504839298\tTop1 Acc: 0.9750199999809265\n",
      "Valiation at -81-: 100%|███████████████████████████████████████████████████████████████| 79/79 [00:04<00:00, 16.79it/s]\n",
      "[INFO]: Validation results at epoch-81 | loss: 1.1135266249692892\tTop1 Acc: 0.7302\n",
      "Epoch-82-:   0%|▏                                                                      | 1/391 [00:06<40:59,  6.31s/it]"
     ]
    },
    {
     "name": "stdout",
     "output_type": "stream",
     "text": [
      "current learning rate:0.008599558442598998\n"
     ]
    },
    {
     "name": "stderr",
     "output_type": "stream",
     "text": [
      "Epoch-82-: 100%|█████████████████████████████████████████████████████████████████████| 391/391 [00:27<00:00, 14.10it/s]\n",
      "[INFO]: Training at epoch-82 | loss: 0.08483091631280187\tTop1 Acc: 0.980100000038147\n",
      "Valiation at -82-: 100%|███████████████████████████████████████████████████████████████| 79/79 [00:04<00:00, 16.10it/s]\n",
      "[INFO]: Validation results at epoch-82 | loss: 1.0911453426638735\tTop1 Acc: 0.7355\n",
      "Epoch-83-:   0%|▏                                                                      | 1/391 [00:06<42:27,  6.53s/it]"
     ]
    },
    {
     "name": "stdout",
     "output_type": "stream",
     "text": [
      "current learning rate:0.007695237378953235\n"
     ]
    },
    {
     "name": "stderr",
     "output_type": "stream",
     "text": [
      "Epoch-83-: 100%|█████████████████████████████████████████████████████████████████████| 391/391 [00:28<00:00, 13.94it/s]\n",
      "[INFO]: Training at epoch-83 | loss: 0.07185037103017121\tTop1 Acc: 0.9843000000190735\n",
      "Valiation at -83-: 100%|███████████████████████████████████████████████████████████████| 79/79 [00:04<00:00, 18.61it/s]\n",
      "[INFO]: Validation results at epoch-83 | loss: 1.0933423842055887\tTop1 Acc: 0.7354\n",
      "Epoch-84-:   1%|▌                                                                      | 3/391 [00:05<25:24,  3.93s/it]"
     ]
    },
    {
     "name": "stdout",
     "output_type": "stream",
     "text": [
      "current learning rate:0.006837175952121317\n"
     ]
    },
    {
     "name": "stderr",
     "output_type": "stream",
     "text": [
      "Epoch-84-: 100%|█████████████████████████████████████████████████████████████████████| 391/391 [00:25<00:00, 15.25it/s]\n",
      "[INFO]: Training at epoch-84 | loss: 0.05904018008590812\tTop1 Acc: 0.9883800000190734\n",
      "Valiation at -84-: 100%|███████████████████████████████████████████████████████████████| 79/79 [00:04<00:00, 18.92it/s]\n",
      "[INFO]: Validation results at epoch-84 | loss: 1.0745293445225004\tTop1 Acc: 0.7376\n",
      "Epoch-85-:   1%|▌                                                                      | 3/391 [00:05<25:35,  3.96s/it]"
     ]
    },
    {
     "name": "stdout",
     "output_type": "stream",
     "text": [
      "current learning rate:0.006026312439675552\n"
     ]
    },
    {
     "name": "stderr",
     "output_type": "stream",
     "text": [
      "Epoch-85-: 100%|█████████████████████████████████████████████████████████████████████| 391/391 [00:25<00:00, 15.22it/s]\n",
      "[INFO]: Training at epoch-85 | loss: 0.054162614490560555\tTop1 Acc: 0.9899200000572205\n",
      "Valiation at -85-: 100%|███████████████████████████████████████████████████████████████| 79/79 [00:04<00:00, 19.12it/s]\n",
      "[INFO]: Validation results at epoch-85 | loss: 1.0756159130531022\tTop1 Acc: 0.741\n",
      "Epoch-86-:   1%|▌                                                                      | 3/391 [00:05<25:29,  3.94s/it]"
     ]
    },
    {
     "name": "stdout",
     "output_type": "stream",
     "text": [
      "current learning rate:0.005263533508961827\n"
     ]
    },
    {
     "name": "stderr",
     "output_type": "stream",
     "text": [
      "Epoch-86-: 100%|█████████████████████████████████████████████████████████████████████| 391/391 [00:25<00:00, 15.21it/s]\n",
      "[INFO]: Training at epoch-86 | loss: 0.04929524489090113\tTop1 Acc: 0.99116\n",
      "Valiation at -86-: 100%|███████████████████████████████████████████████████████████████| 79/79 [00:04<00:00, 17.66it/s]\n",
      "[INFO]: Validation results at epoch-86 | loss: 1.0636615406108807\tTop1 Acc: 0.7449\n",
      "Epoch-87-:   1%|▌                                                                      | 3/391 [00:05<26:36,  4.12s/it]"
     ]
    },
    {
     "name": "stdout",
     "output_type": "stream",
     "text": [
      "current learning rate:0.004549673247541886\n"
     ]
    },
    {
     "name": "stderr",
     "output_type": "stream",
     "text": [
      "Epoch-87-: 100%|█████████████████████████████████████████████████████████████████████| 391/391 [00:26<00:00, 14.97it/s]\n",
      "[INFO]: Training at epoch-87 | loss: 0.043903672705640266\tTop1 Acc: 0.99248\n",
      "Valiation at -87-: 100%|███████████████████████████████████████████████████████████████| 79/79 [00:04<00:00, 17.14it/s]\n",
      "[INFO]: Validation results at epoch-87 | loss: 1.0512766415559793\tTop1 Acc: 0.7477\n",
      "Epoch-88-:   0%|▏                                                                      | 1/391 [00:06<39:35,  6.09s/it]"
     ]
    },
    {
     "name": "stdout",
     "output_type": "stream",
     "text": [
      "current learning rate:0.0038855122511307627\n"
     ]
    },
    {
     "name": "stderr",
     "output_type": "stream",
     "text": [
      "Epoch-88-: 100%|█████████████████████████████████████████████████████████████████████| 391/391 [00:27<00:00, 14.39it/s]\n",
      "[INFO]: Training at epoch-88 | loss: 0.040350150402702026\tTop1 Acc: 0.99362\n",
      "Valiation at -88-: 100%|███████████████████████████████████████████████████████████████| 79/79 [00:04<00:00, 15.80it/s]\n",
      "[INFO]: Validation results at epoch-88 | loss: 1.0620564146886897\tTop1 Acc: 0.7443\n",
      "Epoch-89-:   1%|▌                                                                      | 3/391 [00:06<28:27,  4.40s/it]"
     ]
    },
    {
     "name": "stdout",
     "output_type": "stream",
     "text": [
      "current learning rate:0.003271776770026952\n"
     ]
    },
    {
     "name": "stderr",
     "output_type": "stream",
     "text": [
      "Epoch-89-: 100%|█████████████████████████████████████████████████████████████████████| 391/391 [00:27<00:00, 14.26it/s]\n",
      "[INFO]: Training at epoch-89 | loss: 0.03630156141689138\tTop1 Acc: 0.99462\n",
      "Valiation at -89-: 100%|███████████████████████████████████████████████████████████████| 79/79 [00:04<00:00, 18.36it/s]\n",
      "[INFO]: Validation results at epoch-89 | loss: 1.0483623071561885\tTop1 Acc: 0.7476\n",
      "Epoch-90-:   1%|▌                                                                      | 3/391 [00:05<25:53,  4.01s/it]"
     ]
    },
    {
     "name": "stdout",
     "output_type": "stream",
     "text": [
      "current learning rate:0.002709137914968263\n"
     ]
    },
    {
     "name": "stderr",
     "output_type": "stream",
     "text": [
      "Epoch-90-: 100%|█████████████████████████████████████████████████████████████████████| 391/391 [00:26<00:00, 14.92it/s]\n",
      "[INFO]: Training at epoch-90 | loss: 0.03345122316237682\tTop1 Acc: 0.99556\n",
      "Valiation at -90-: 100%|███████████████████████████████████████████████████████████████| 79/79 [00:04<00:00, 18.61it/s]\n",
      "[INFO]: Validation results at epoch-90 | loss: 1.044403863858573\tTop1 Acc: 0.7504\n",
      "Epoch-91-:   1%|▌                                                                      | 3/391 [00:05<25:51,  4.00s/it]"
     ]
    },
    {
     "name": "stdout",
     "output_type": "stream",
     "text": [
      "current learning rate:0.0021982109232821178\n"
     ]
    },
    {
     "name": "stderr",
     "output_type": "stream",
     "text": [
      "Epoch-91-: 100%|█████████████████████████████████████████████████████████████████████| 391/391 [00:26<00:00, 14.91it/s]\n",
      "[INFO]: Training at epoch-91 | loss: 0.033237566776059164\tTop1 Acc: 0.99496\n",
      "Valiation at -91-: 100%|███████████████████████████████████████████████████████████████| 79/79 [00:04<00:00, 18.67it/s]\n",
      "[INFO]: Validation results at epoch-91 | loss: 1.0386552803124054\tTop1 Acc: 0.749\n",
      "Epoch-92-:   1%|▌                                                                      | 3/391 [00:05<25:46,  3.98s/it]"
     ]
    },
    {
     "name": "stdout",
     "output_type": "stream",
     "text": [
      "current learning rate:0.0017395544861325664\n"
     ]
    },
    {
     "name": "stderr",
     "output_type": "stream",
     "text": [
      "Epoch-92-: 100%|█████████████████████████████████████████████████████████████████████| 391/391 [00:26<00:00, 14.91it/s]\n",
      "[INFO]: Training at epoch-92 | loss: 0.030851358466822167\tTop1 Acc: 0.99628\n",
      "Valiation at -92-: 100%|███████████████████████████████████████████████████████████████| 79/79 [00:04<00:00, 17.27it/s]\n",
      "[INFO]: Validation results at epoch-92 | loss: 1.0347777371165119\tTop1 Acc: 0.7491\n",
      "Epoch-93-:   1%|▌                                                                      | 3/391 [00:05<26:25,  4.09s/it]"
     ]
    },
    {
     "name": "stdout",
     "output_type": "stream",
     "text": [
      "current learning rate:0.0013336701375997074\n"
     ]
    },
    {
     "name": "stderr",
     "output_type": "stream",
     "text": [
      "Epoch-93-: 100%|█████████████████████████████████████████████████████████████████████| 391/391 [00:26<00:00, 14.92it/s]\n",
      "[INFO]: Training at epoch-93 | loss: 0.030287460030992624\tTop1 Acc: 0.996\n",
      "Valiation at -93-: 100%|███████████████████████████████████████████████████████████████| 79/79 [00:04<00:00, 16.80it/s]\n",
      "[INFO]: Validation results at epoch-93 | loss: 1.0353894444960583\tTop1 Acc: 0.7495\n",
      "Epoch-94-:   1%|▌                                                                      | 3/391 [00:06<28:11,  4.36s/it]"
     ]
    },
    {
     "name": "stdout",
     "output_type": "stream",
     "text": [
      "current learning rate:0.0009810017062595322\n"
     ]
    },
    {
     "name": "stderr",
     "output_type": "stream",
     "text": [
      "Epoch-94-: 100%|█████████████████████████████████████████████████████████████████████| 391/391 [00:27<00:00, 14.48it/s]\n",
      "[INFO]: Training at epoch-94 | loss: 0.027517556215224365\tTop1 Acc: 0.99674\n",
      "Valiation at -94-: 100%|███████████████████████████████████████████████████████████████| 79/79 [00:04<00:00, 16.83it/s]\n",
      "[INFO]: Validation results at epoch-94 | loss: 1.0351342981374716\tTop1 Acc: 0.7491\n",
      "Epoch-95-:   1%|▌                                                                      | 3/391 [00:06<28:02,  4.34s/it]"
     ]
    },
    {
     "name": "stdout",
     "output_type": "stream",
     "text": [
      "current learning rate:0.0006819348298638839\n"
     ]
    },
    {
     "name": "stderr",
     "output_type": "stream",
     "text": [
      "Epoch-95-: 100%|█████████████████████████████████████████████████████████████████████| 391/391 [00:26<00:00, 14.55it/s]\n",
      "[INFO]: Training at epoch-95 | loss: 0.02803867700678842\tTop1 Acc: 0.99642\n",
      "Valiation at -95-: 100%|███████████████████████████████████████████████████████████████| 79/79 [00:04<00:00, 18.26it/s]\n",
      "[INFO]: Validation results at epoch-95 | loss: 1.0333055838753906\tTop1 Acc: 0.748\n",
      "Epoch-96-:   1%|▌                                                                      | 3/391 [00:05<25:37,  3.96s/it]"
     ]
    },
    {
     "name": "stdout",
     "output_type": "stream",
     "text": [
      "current learning rate:0.0004367965336512403\n"
     ]
    },
    {
     "name": "stderr",
     "output_type": "stream",
     "text": [
      "Epoch-96-: 100%|█████████████████████████████████████████████████████████████████████| 391/391 [00:25<00:00, 15.18it/s]\n",
      "[INFO]: Training at epoch-96 | loss: 0.028102509625008345\tTop1 Acc: 0.99652\n",
      "Valiation at -96-: 100%|███████████████████████████████████████████████████████████████| 79/79 [00:04<00:00, 18.67it/s]\n",
      "[INFO]: Validation results at epoch-96 | loss: 1.031724595570866\tTop1 Acc: 0.7477\n",
      "Epoch-97-:   1%|▌                                                                      | 3/391 [00:06<27:04,  4.19s/it]"
     ]
    },
    {
     "name": "stdout",
     "output_type": "stream",
     "text": [
      "current learning rate:0.0002458548727494292\n"
     ]
    },
    {
     "name": "stderr",
     "output_type": "stream",
     "text": [
      "Epoch-97-: 100%|█████████████████████████████████████████████████████████████████████| 391/391 [00:26<00:00, 14.88it/s]\n",
      "[INFO]: Training at epoch-97 | loss: 0.027074250049622314\tTop1 Acc: 0.9968000000190735\n",
      "Valiation at -97-: 100%|███████████████████████████████████████████████████████████████| 79/79 [00:04<00:00, 17.68it/s]\n",
      "[INFO]: Validation results at epoch-97 | loss: 1.028840427157245\tTop1 Acc: 0.7491\n",
      "Epoch-98-:   0%|▏                                                                      | 1/391 [00:05<38:14,  5.88s/it]"
     ]
    },
    {
     "name": "stdout",
     "output_type": "stream",
     "text": [
      "current learning rate:0.00010931863906127326\n"
     ]
    },
    {
     "name": "stderr",
     "output_type": "stream",
     "text": [
      "Epoch-98-: 100%|█████████████████████████████████████████████████████████████████████| 391/391 [00:26<00:00, 14.68it/s]\n",
      "[INFO]: Training at epoch-98 | loss: 0.02661413544565058\tTop1 Acc: 0.99734\n",
      "Valiation at -98-: 100%|███████████████████████████████████████████████████████████████| 79/79 [00:04<00:00, 18.65it/s]\n",
      "[INFO]: Validation results at epoch-98 | loss: 1.0297404580478426\tTop1 Acc: 0.749\n",
      "Epoch-99-:   0%|▏                                                                      | 1/391 [00:05<37:36,  5.78s/it]"
     ]
    },
    {
     "name": "stdout",
     "output_type": "stream",
     "text": [
      "current learning rate:2.7337132953697554e-05\n"
     ]
    },
    {
     "name": "stderr",
     "output_type": "stream",
     "text": [
      "Epoch-99-: 100%|█████████████████████████████████████████████████████████████████████| 391/391 [00:26<00:00, 14.58it/s]\n",
      "[INFO]: Training at epoch-99 | loss: 0.02793363688270683\tTop1 Acc: 0.99638\n",
      "Valiation at -99-: 100%|███████████████████████████████████████████████████████████████| 79/79 [00:05<00:00, 15.33it/s]\n",
      "[INFO]: Validation results at epoch-99 | loss: 1.0258821603618091\tTop1 Acc: 0.7492\n"
     ]
    }
   ],
   "source": [
    "config = easydict.EasyDict()\n",
    "config.exp_name = \"assemblenet_imagenet\"\n",
    "config.log_dir = os.path.join(\"experiments\", config.exp_name, \"logs/\")\n",
    "create_dirs([config.log_dir])\n",
    "setup_logging(config.log_dir)\n",
    "\n",
    "config.load_file = 'C:\\\\Users\\\\USER001\\\\Desktop\\\\pytorch-cifar100-master\\\\checkpoint\\\\resnet18\\\\resnet18-187-best.pth'\n",
    "config.cuda = True\n",
    "config.gpu_device = 0\n",
    "config.seed = 1\n",
    "config.learning_rate = 0.001\n",
    "config.momentum = 0.9\n",
    "config.milestones = [5, 10,15]\n",
    "config.gamma = 0.9\n",
    "config.weight_decay = 0.0005\n",
    "config.img_size = 32\n",
    "config.num_classes = 100\n",
    "config.data_mode = \"download\"\n",
    "config.data_loader_workers = 4\n",
    "config.pin_memory = True\n",
    "config.async_loading = True\n",
    "config.batch_size = 128\n",
    "config.async_loading = True\n",
    "config.max_epoch = 100\n",
    "torch.cuda.init()\n",
    "\n",
    "\n",
    "agent = globals()[\"AssembleNetResNet\"](config)\n",
    "agent.init_graph(pretrained=False)\n",
    "agent.load_checkpoint(file_path= config.load_file)\n",
    "summary(agent.model, torch.zeros((1, 3, 32, 32)).to(torch.device(\"cuda\")))\n",
    "# agent.validate()\n",
    "\n",
    "\n",
    "agent.compress(method = 'greedy',k=0.49)\n",
    "summary(agent.model, torch.zeros((1, 3, 32, 32)).to(torch.device(\"cuda\")))\n",
    "\n",
    "best,history = agent.train(specializing=False, freeze_conv=False)"
   ]
  },
  {
   "cell_type": "code",
   "execution_count": 3,
   "metadata": {},
   "outputs": [
    {
     "name": "stdout",
     "output_type": "stream",
     "text": [
      "[0.4235, 0.5172, 0.4715, 0.5158, 0.5125, 0.5364, 0.5761, 0.5667, 0.5558, 0.5578, 0.585, 0.572, 0.5783, 0.5366, 0.5429, 0.5583, 0.5661, 0.5584, 0.5416, 0.5752, 0.5697, 0.5748, 0.5699, 0.6011, 0.592, 0.5563, 0.5639, 0.5754, 0.5926, 0.6069, 0.589, 0.6002, 0.6138, 0.5934, 0.6237, 0.5969, 0.583, 0.6128, 0.5797, 0.5819, 0.6224, 0.6369, 0.6359, 0.6076, 0.6476, 0.6143, 0.6388, 0.5881, 0.6044, 0.6307, 0.6216, 0.6201, 0.6524, 0.6412, 0.6386, 0.6513, 0.6378, 0.6532, 0.6498, 0.6736, 0.6736, 0.6648, 0.6498, 0.678, 0.6714, 0.6713, 0.6782, 0.6783, 0.6909, 0.6902, 0.6826, 0.6944, 0.6974, 0.7086, 0.6939, 0.7085, 0.7105, 0.7091, 0.7188, 0.729, 0.7314, 0.7302, 0.7355, 0.7354, 0.7376, 0.741, 0.7449, 0.7477, 0.7443, 0.7476, 0.7504, 0.749, 0.7491, 0.7495, 0.7491, 0.748, 0.7477, 0.7491, 0.749, 0.7492]\n"
     ]
    }
   ],
   "source": [
    "print(history)"
   ]
  },
  {
   "cell_type": "code",
   "execution_count": 4,
   "metadata": {},
   "outputs": [
    {
     "name": "stdout",
     "output_type": "stream",
     "text": [
      "0.7504\n"
     ]
    },
    {
     "data": {
      "text/plain": [
       "[<matplotlib.lines.Line2D at 0x1d37c34a448>]"
      ]
     },
     "execution_count": 4,
     "metadata": {},
     "output_type": "execute_result"
    },
    {
     "data": {
      "image/png": "[encoded data removed]",
      "text/plain": [
       "<Figure size 432x288 with 1 Axes>"
      ]
     },
     "metadata": {
      "needs_background": "light"
     },
     "output_type": "display_data"
    }
   ],
   "source": [
    "import matplotlib.pyplot as plt\n",
    "print(best)\n",
    "plt.plot(history)"
   ]
  },
  {
   "cell_type": "code",
   "execution_count": 5,
   "metadata": {},
   "outputs": [
    {
     "data": {
      "text/plain": [
       "SGD (\n",
       "Parameter Group 0\n",
       "    dampening: 0\n",
       "    initial_lr: 0.001\n",
       "    lr: 0.0007290000000000002\n",
       "    momentum: 0.9\n",
       "    nesterov: True\n",
       "    weight_decay: 0.0005\n",
       ")"
      ]
     },
     "execution_count": 5,
     "metadata": {},
     "output_type": "execute_result"
    }
   ],
   "source": [
    "agent.optimizer"
   ]
  },
  {
   "cell_type": "code",
   "execution_count": null,
   "metadata": {},
   "outputs": [],
   "source": []
  },
  {
   "cell_type": "code",
   "execution_count": null,
   "metadata": {},
   "outputs": [],
   "source": []
  },
  {
   "cell_type": "code",
   "execution_count": null,
   "metadata": {},
   "outputs": [],
   "source": []
  },
  {
   "cell_type": "code",
   "execution_count": null,
   "metadata": {},
   "outputs": [],
   "source": []
  },
  {
   "cell_type": "code",
   "execution_count": null,
   "metadata": {},
   "outputs": [],
   "source": []
  },
  {
   "cell_type": "code",
   "execution_count": null,
   "metadata": {},
   "outputs": [],
   "source": []
  },
  {
   "cell_type": "code",
   "execution_count": null,
   "metadata": {},
   "outputs": [],
   "source": []
  },
  {
   "cell_type": "code",
   "execution_count": null,
   "metadata": {},
   "outputs": [],
   "source": []
  },
  {
   "cell_type": "code",
   "execution_count": null,
   "metadata": {},
   "outputs": [],
   "source": []
  },
  {
   "cell_type": "code",
   "execution_count": null,
   "metadata": {},
   "outputs": [],
   "source": []
  },
  {
   "cell_type": "code",
   "execution_count": null,
   "metadata": {},
   "outputs": [],
   "source": []
  },
  {
   "cell_type": "code",
   "execution_count": null,
   "metadata": {},
   "outputs": [],
   "source": []
  },
  {
   "cell_type": "code",
   "execution_count": null,
   "metadata": {},
   "outputs": [],
   "source": []
  }
 ],
 "metadata": {
  "kernelspec": {
   "display_name": "pytorch16",
   "language": "python",
   "name": "pytorch16"
  },
  "language_info": {
   "codemirror_mode": {
    "name": "ipython",
    "version": 3
   },
   "file_extension": ".py",
   "mimetype": "text/x-python",
   "name": "python",
   "nbconvert_exporter": "python",
   "pygments_lexer": "ipython3",
   "version": "3.7.7"
  }
 },
 "nbformat": 4,
 "nbformat_minor": 4
}
