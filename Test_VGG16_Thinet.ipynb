{
 "cells": [
  {
   "cell_type": "code",
   "execution_count": 1,
   "metadata": {},
   "outputs": [],
   "source": [
    "import argparse\n",
    "import easydict\n",
    "\n",
    "from utils.config import *\n",
    "from utils.count_model import *\n",
    "from agents import *\n",
    "from torchsummaryX import summary\n"
   ]
  },
  {
   "cell_type": "code",
   "execution_count": 2,
   "metadata": {
    "scrolled": true
   },
   "outputs": [
    {
     "name": "stdout",
     "output_type": "stream",
     "text": [
      "Files already downloaded and verified\n",
      "num_pruned 25\n",
      "indices_pruned !!!  [10, 11, 16, 20, 24, 25, 26, 27, 31, 32, 41, 43, 49, 58, 60, 42, 22, 13, 8, 33, 23, 63, 14, 61, 59]\n",
      "num_pruned 25\n",
      "indices_pruned !!!  [11, 55, 48, 14, 19, 24, 44, 18, 21, 50, 13, 1, 23, 39, 53, 60, 28, 2, 7, 0, 16, 27, 42, 33, 43]\n",
      "num_pruned 49\n",
      "indices_pruned !!!  [116, 1, 73, 7, 127, 74, 101, 23, 99, 105, 97, 57, 84, 100, 75, 47, 56, 69, 33, 42, 109, 113, 71, 25, 32, 120, 103, 59, 12, 9, 4, 16, 22, 18, 3, 60, 61, 62, 38, 65, 79, 14, 85, 111, 95, 10, 40, 36, 76]\n",
      "num_pruned 49\n",
      "indices_pruned !!!  [113, 1, 33, 125, 27, 88, 81, 82, 43, 15, 8, 101, 73, 53, 118, 0, 97, 32, 122, 89, 98, 93, 6, 28, 110, 13, 92, 90, 126, 75, 117, 83, 54, 30, 41, 56, 44, 23, 67, 66, 24, 103, 31, 20, 35, 114, 112, 115, 78]\n",
      "num_pruned 98\n",
      "indices_pruned !!!  [137, 122, 18, 201, 221, 187, 176, 166, 2, 54, 101, 224, 111, 199, 180, 78, 151, 6, 12, 220, 154, 4, 142, 89, 110, 86, 50, 66, 198, 44, 178, 115, 228, 49, 69, 13, 131, 21, 26, 241, 191, 145, 175, 225, 99, 90, 238, 183, 52, 97, 144, 251, 83, 169, 100, 51, 121, 76, 244, 3, 160, 113, 229, 171, 181, 233, 107, 230, 129, 47, 146, 10, 1, 37, 250, 222, 42, 205, 7, 72, 91, 46, 55, 106, 204, 214, 242, 177, 159, 105, 232, 156, 132, 20, 161, 67, 134, 32]\n",
      "num_pruned 98\n",
      "indices_pruned !!!  [94, 249, 205, 95, 189, 166, 168, 23, 176, 128, 116, 36, 233, 102, 70, 117, 227, 31, 197, 235, 225, 137, 101, 161, 181, 46, 132, 135, 111, 220, 96, 7, 74, 66, 228, 77, 61, 164, 80, 44, 216, 237, 156, 221, 254, 123, 210, 20, 131, 63, 126, 203, 1, 165, 27, 110, 109, 242, 15, 154, 106, 75, 226, 120, 50, 130, 39, 223, 24, 211, 198, 147, 55, 159, 26, 33, 191, 193, 13, 250, 64, 10, 204, 22, 85, 122, 146, 185, 51, 78, 174, 88, 232, 4, 158, 28, 241, 45]\n",
      "num_pruned 98\n",
      "indices_pruned !!!  [121, 203, 201, 30, 38, 221, 199, 76, 83, 186, 93, 150, 234, 151, 8, 219, 211, 3, 43, 25, 216, 52, 46, 104, 185, 33, 35, 168, 40, 125, 177, 80, 74, 152, 190, 39, 249, 37, 198, 200, 176, 213, 49, 105, 205, 77, 240, 97, 254, 2, 224, 27, 113, 208, 95, 128, 10, 187, 28, 92, 147, 191, 120, 162, 212, 220, 34, 242, 163, 73, 54, 81, 71, 207, 148, 86, 15, 127, 14, 136, 42, 119, 50, 61, 252, 60, 165, 244, 88, 48, 58, 16, 94, 51, 217, 231, 72, 160]\n",
      "num_pruned 195\n",
      "indices_pruned !!!  [399, 79, 126, 64, 81, 300, 361, 67, 125, 446, 95, 183, 477, 83, 443, 467, 274, 429, 246, 481, 338, 27, 72, 351, 110, 487, 418, 344, 156, 405, 90, 328, 78, 176, 347, 8, 192, 286, 309, 302, 89, 47, 159, 80, 495, 96, 13, 431, 321, 104, 472, 164, 179, 385, 224, 462, 113, 105, 155, 293, 266, 324, 199, 57, 391, 277, 341, 114, 53, 147, 260, 249, 34, 438, 497, 329, 406, 180, 502, 369, 237, 453, 75, 282, 177, 37, 292, 357, 42, 253, 235, 471, 46, 261, 364, 52, 21, 383, 398, 460, 220, 366, 118, 198, 479, 229, 11, 141, 182, 124, 310, 10, 486, 252, 123, 174, 129, 86, 143, 345, 231, 230, 206, 40, 390, 2, 61, 334, 354, 407, 68, 151, 307, 426, 280, 314, 401, 451, 54, 60, 19, 353, 380, 291, 498, 455, 424, 362, 499, 439, 374, 132, 196, 367, 485, 62, 36, 384, 243, 33, 43, 238, 461, 348, 210, 111, 26, 463, 185, 332, 488, 297, 377, 325, 55, 386, 187, 157, 202, 127, 116, 227, 18, 142, 403, 445, 218, 66, 103, 189, 447, 71, 289, 161, 3]\n",
      "num_pruned 195\n",
      "indices_pruned !!!  [467, 155, 168, 154, 477, 412, 217, 398, 300, 350, 421, 369, 184, 67, 441, 178, 493, 22, 454, 38, 68, 357, 503, 175, 104, 452, 320, 56, 181, 119, 26, 33, 252, 109, 218, 173, 19, 18, 147, 82, 343, 455, 349, 65, 191, 60, 99, 75, 27, 492, 305, 29, 487, 121, 124, 480, 98, 21, 468, 469, 239, 260, 285, 458, 77, 2, 269, 81, 443, 6, 48, 215, 294, 415, 399, 174, 444, 105, 347, 231, 400, 292, 297, 495, 287, 55, 96, 91, 156, 79, 200, 166, 457, 485, 162, 9, 157, 408, 504, 160, 237, 425, 138, 384, 321, 100, 39, 259, 5, 1, 431, 284, 165, 414, 10, 302, 334, 25, 461, 470, 192, 115, 498, 76, 114, 256, 510, 58, 375, 348, 424, 17, 150, 202, 394, 422, 131, 478, 293, 141, 80, 88, 306, 204, 430, 450, 423, 475, 241, 28, 122, 46, 176, 194, 368, 427, 190, 4, 335, 466, 362, 280, 44, 142, 272, 474, 367, 222, 193, 11, 94, 483, 506, 312, 471, 207, 359, 500, 342, 144, 206, 203, 385, 462, 266, 374, 330, 309, 476, 505, 448, 410, 511, 379, 198]\n",
      "num_pruned 195\n",
      "indices_pruned !!!  [403, 185, 38, 113, 462, 43, 136, 412, 65, 470, 182, 196, 44, 367, 71, 106, 181, 361, 330, 13, 211, 206, 398, 161, 254, 230, 381, 3, 481, 122, 226, 98, 477, 295, 441, 194, 440, 495, 294, 93, 85, 308, 244, 57, 25, 202, 191, 468, 256, 507, 388, 169, 99, 153, 379, 171, 444, 418, 360, 68, 164, 325, 296, 298, 155, 135, 337, 81, 299, 22, 293, 338, 89, 114, 476, 509, 1, 47, 334, 286, 421, 234, 333, 105, 139, 408, 270, 17, 157, 248, 309, 392, 404, 436, 324, 371, 118, 208, 472, 266, 384, 247, 115, 35, 271, 216, 473, 369, 508, 287, 289, 100, 69, 96, 210, 424, 353, 497, 503, 31, 156, 95, 320, 455, 260, 82, 442, 465, 380, 76, 77, 16, 435, 241, 283, 217, 80, 59, 101, 493, 147, 149, 285, 30, 425, 36, 227, 10, 56, 505, 110, 257, 91, 288, 329, 434, 374, 249, 268, 224, 272, 318, 143, 445, 448, 231, 331, 427, 390, 264, 463, 21, 426, 49, 178, 235, 192, 382, 221, 51, 54, 269, 416, 411, 58, 20, 228, 174, 123, 372, 186, 130, 4, 319, 70]\n",
      "num_pruned 195\n",
      "indices_pruned !!!  [391, 223, 185, 121, 450, 479, 385, 383, 170, 5, 437, 302, 368, 381, 390, 146, 319, 405, 471, 202, 296, 505, 214, 93, 254, 266, 196, 249, 134, 268, 148, 212, 272, 449, 340, 463, 150, 379, 459, 461, 483, 399, 64, 321, 111, 45, 177, 130, 262, 98, 337, 178, 320, 118, 496, 171, 247, 433, 421, 384, 467, 474, 310, 424, 16, 348, 478, 402, 97, 375, 417, 322, 227, 363, 20, 187, 312, 370, 299, 231, 423, 435, 365, 10, 183, 441, 199, 138, 218, 356, 11, 33, 35, 156, 394, 229, 236, 158, 104, 84, 362, 125, 493, 96, 350, 208, 12, 445, 318, 462, 466, 378, 339, 225, 341, 19, 511, 446, 207, 396, 430, 328, 235, 160, 301, 487, 65, 455, 86, 48, 162, 283, 308, 367, 393, 373, 213, 122, 267, 499, 36, 355, 431, 316, 456, 382, 401, 419, 72, 95, 452, 288, 79, 432, 327, 192, 74, 114, 226, 154, 307, 61, 7, 47, 334, 28, 440, 1, 346, 105, 482, 372, 311, 71, 491, 216, 63, 224, 246, 510, 219, 58, 56, 52, 174, 107, 237, 411, 279, 439, 264, 406, 91, 38, 448]\n",
      "num_pruned 195\n",
      "indices_pruned !!!  [10, 415, 364, 383, 342, 126, 174, 421, 344, 474, 319, 296, 489, 374, 153, 394, 214, 353, 310, 316, 418, 110, 350, 468, 466, 250, 275, 1, 102, 204, 381, 307, 359, 5, 286, 433, 26, 502, 210, 321, 168, 464, 322, 165, 166, 292, 379, 86, 109, 136, 414, 88, 154, 245, 297, 303, 222, 503, 271, 349, 72, 404, 128, 172, 69, 70, 42, 158, 234, 198, 461, 467, 492, 351, 485, 417, 87, 179, 83, 376, 254, 39, 331, 388, 212, 56, 187, 243, 399, 84, 401, 156, 45, 92, 35, 237, 197, 58, 202, 252, 94, 191, 142, 129, 259, 97, 267, 206, 78, 496, 122, 450, 195, 453, 232, 90, 53, 347, 89, 15, 491, 255, 242, 64, 66, 62, 180, 28, 246, 17, 49, 341, 2, 373, 196, 217, 251, 48, 333, 11, 244, 99, 293, 13, 249, 171, 358, 438, 448, 96, 366, 505, 71, 139, 306, 371, 320, 85, 264, 483, 38, 75, 121, 147, 167, 277, 276, 149, 138, 413, 441, 462, 274, 228, 31, 409, 410, 34, 403, 498, 160, 203, 488, 365, 442, 80, 125, 463, 312, 486, 159, 81, 346, 372, 238]\n"
     ]
    },
    {
     "name": "stderr",
     "output_type": "stream",
     "text": [
      "\r",
      "Epoch-0-:   0%|                                                                                | 0/391 [00:00<?, ?it/s]"
     ]
    },
    {
     "name": "stdout",
     "output_type": "stream",
     "text": [
      "=====================================================================================\n",
      "                                Kernel Shape     Output Shape      Params  \\\n",
      "Layer                                                                       \n",
      "0_features.Conv2d_0            [3, 39, 3, 3]  [1, 39, 32, 32]      1.092k   \n",
      "1_features.BatchNorm2d_1                [39]  [1, 39, 32, 32]        78.0   \n",
      "2_features.ReLU_2                          -  [1, 39, 32, 32]           -   \n",
      "3_features.Conv2d_3           [39, 39, 3, 3]  [1, 39, 32, 32]     13.728k   \n",
      "4_features.BatchNorm2d_4                [39]  [1, 39, 32, 32]        78.0   \n",
      "5_features.ReLU_5                          -  [1, 39, 32, 32]           -   \n",
      "6_features.MaxPool2d_6                     -  [1, 39, 16, 16]           -   \n",
      "7_features.Conv2d_7           [39, 79, 3, 3]  [1, 79, 16, 16]     27.808k   \n",
      "8_features.BatchNorm2d_8                [79]  [1, 79, 16, 16]       158.0   \n",
      "9_features.ReLU_9                          -  [1, 79, 16, 16]           -   \n",
      "10_features.Conv2d_10         [79, 79, 3, 3]  [1, 79, 16, 16]     56.248k   \n",
      "11_features.BatchNorm2d_11              [79]  [1, 79, 16, 16]       158.0   \n",
      "12_features.ReLU_12                        -  [1, 79, 16, 16]           -   \n",
      "13_features.MaxPool2d_13                   -    [1, 79, 8, 8]           -   \n",
      "14_features.Conv2d_14        [79, 158, 3, 3]   [1, 158, 8, 8]    112.496k   \n",
      "15_features.BatchNorm2d_15             [158]   [1, 158, 8, 8]       316.0   \n",
      "16_features.ReLU_16                        -   [1, 158, 8, 8]           -   \n",
      "17_features.Conv2d_17       [158, 158, 3, 3]   [1, 158, 8, 8]    224.834k   \n",
      "18_features.BatchNorm2d_18             [158]   [1, 158, 8, 8]       316.0   \n",
      "19_features.ReLU_19                        -   [1, 158, 8, 8]           -   \n",
      "20_features.Conv2d_20       [158, 158, 3, 3]   [1, 158, 8, 8]    224.834k   \n",
      "21_features.BatchNorm2d_21             [158]   [1, 158, 8, 8]       316.0   \n",
      "22_features.ReLU_22                        -   [1, 158, 8, 8]           -   \n",
      "23_features.MaxPool2d_23                   -   [1, 158, 4, 4]           -   \n",
      "24_features.Conv2d_24       [158, 317, 3, 3]   [1, 317, 4, 4]    451.091k   \n",
      "25_features.BatchNorm2d_25             [317]   [1, 317, 4, 4]       634.0   \n",
      "26_features.ReLU_26                        -   [1, 317, 4, 4]           -   \n",
      "27_features.Conv2d_27       [317, 317, 3, 3]   [1, 317, 4, 4]    904.718k   \n",
      "28_features.BatchNorm2d_28             [317]   [1, 317, 4, 4]       634.0   \n",
      "29_features.ReLU_29                        -   [1, 317, 4, 4]           -   \n",
      "30_features.Conv2d_30       [317, 317, 3, 3]   [1, 317, 4, 4]    904.718k   \n",
      "31_features.BatchNorm2d_31             [317]   [1, 317, 4, 4]       634.0   \n",
      "32_features.ReLU_32                        -   [1, 317, 4, 4]           -   \n",
      "33_features.MaxPool2d_33                   -   [1, 317, 2, 2]           -   \n",
      "34_features.Conv2d_34       [317, 317, 3, 3]   [1, 317, 2, 2]    904.718k   \n",
      "35_features.BatchNorm2d_35             [317]   [1, 317, 2, 2]       634.0   \n",
      "36_features.ReLU_36                        -   [1, 317, 2, 2]           -   \n",
      "37_features.Conv2d_37       [317, 317, 3, 3]   [1, 317, 2, 2]    904.718k   \n",
      "38_features.BatchNorm2d_38             [317]   [1, 317, 2, 2]       634.0   \n",
      "39_features.ReLU_39                        -   [1, 317, 2, 2]           -   \n",
      "40_features.Conv2d_40       [317, 512, 3, 3]   [1, 512, 2, 2]   1.461248M   \n",
      "41_features.BatchNorm2d_41             [512]   [1, 512, 2, 2]      1.024k   \n",
      "42_features.ReLU_42                        -   [1, 512, 2, 2]           -   \n",
      "43_features.MaxPool2d_43                   -   [1, 512, 1, 1]           -   \n",
      "44_classifier.Linear_0           [512, 4096]        [1, 4096]   2.101248M   \n",
      "45_classifier.ReLU_1                       -        [1, 4096]           -   \n",
      "46_classifier.Dropout_2                    -        [1, 4096]           -   \n",
      "47_classifier.Linear_3          [4096, 4096]        [1, 4096]  16.781312M   \n",
      "48_classifier.ReLU_4                       -        [1, 4096]           -   \n",
      "49_classifier.Dropout_5                    -        [1, 4096]           -   \n",
      "50_classifier.Linear_6           [4096, 100]         [1, 100]      409.7k   \n",
      "\n",
      "                             Mult-Adds  \n",
      "Layer                                   \n",
      "0_features.Conv2d_0          1.078272M  \n",
      "1_features.BatchNorm2d_1          39.0  \n",
      "2_features.ReLU_2                    -  \n",
      "3_features.Conv2d_3         14.017536M  \n",
      "4_features.BatchNorm2d_4          39.0  \n",
      "5_features.ReLU_5                    -  \n",
      "6_features.MaxPool2d_6               -  \n",
      "7_features.Conv2d_7          7.098624M  \n",
      "8_features.BatchNorm2d_8          79.0  \n",
      "9_features.ReLU_9                    -  \n",
      "10_features.Conv2d_10       14.379264M  \n",
      "11_features.BatchNorm2d_11        79.0  \n",
      "12_features.ReLU_12                  -  \n",
      "13_features.MaxPool2d_13             -  \n",
      "14_features.Conv2d_14        7.189632M  \n",
      "15_features.BatchNorm2d_15       158.0  \n",
      "16_features.ReLU_16                  -  \n",
      "17_features.Conv2d_17       14.379264M  \n",
      "18_features.BatchNorm2d_18       158.0  \n",
      "19_features.ReLU_19                  -  \n",
      "20_features.Conv2d_20       14.379264M  \n",
      "21_features.BatchNorm2d_21       158.0  \n",
      "22_features.ReLU_22                  -  \n",
      "23_features.MaxPool2d_23             -  \n",
      "24_features.Conv2d_24        7.212384M  \n",
      "25_features.BatchNorm2d_25       317.0  \n",
      "26_features.ReLU_26                  -  \n",
      "27_features.Conv2d_27       14.470416M  \n",
      "28_features.BatchNorm2d_28       317.0  \n",
      "29_features.ReLU_29                  -  \n",
      "30_features.Conv2d_30       14.470416M  \n",
      "31_features.BatchNorm2d_31       317.0  \n",
      "32_features.ReLU_32                  -  \n",
      "33_features.MaxPool2d_33             -  \n",
      "34_features.Conv2d_34        3.617604M  \n",
      "35_features.BatchNorm2d_35       317.0  \n",
      "36_features.ReLU_36                  -  \n",
      "37_features.Conv2d_37        3.617604M  \n",
      "38_features.BatchNorm2d_38       317.0  \n",
      "39_features.ReLU_39                  -  \n",
      "40_features.Conv2d_40        5.842944M  \n",
      "41_features.BatchNorm2d_41       512.0  \n",
      "42_features.ReLU_42                  -  \n",
      "43_features.MaxPool2d_43             -  \n",
      "44_classifier.Linear_0       2.097152M  \n",
      "45_classifier.ReLU_1                 -  \n",
      "46_classifier.Dropout_2              -  \n",
      "47_classifier.Linear_3      16.777216M  \n",
      "48_classifier.ReLU_4                 -  \n",
      "49_classifier.Dropout_5              -  \n",
      "50_classifier.Linear_6          409.6k  \n",
      "-------------------------------------------------------------------------------------\n",
      "                           Totals\n",
      "Total params           25.490125M\n",
      "Trainable params       25.490125M\n",
      "Non-trainable params          0.0\n",
      "Mult-Adds             141.039999M\n",
      "=====================================================================================\n"
     ]
    },
    {
     "name": "stderr",
     "output_type": "stream",
     "text": [
      "Epoch-0-:   1%|▋                                                                       | 4/391 [00:05<26:33,  4.12s/it]"
     ]
    },
    {
     "name": "stdout",
     "output_type": "stream",
     "text": [
      "current learning rate:0.0\n"
     ]
    },
    {
     "name": "stderr",
     "output_type": "stream",
     "text": [
      "Epoch-0-: 100%|██████████████████████████████████████████████████████████████████████| 391/391 [00:24<00:00, 16.28it/s]\n",
      "Valiation at -0-:   0%|                                                                         | 0/79 [00:00<?, ?it/s]"
     ]
    },
    {
     "name": "stdout",
     "output_type": "stream",
     "text": [
      "Training at epoch-0 | loss: 1.8806247823988385\tTop1 Acc: 0.52214\n"
     ]
    },
    {
     "name": "stderr",
     "output_type": "stream",
     "text": [
      "Valiation at -0-: 100%|████████████████████████████████████████████████████████████████| 79/79 [00:03<00:00, 19.98it/s]\n",
      "C:\\Users\\USER001\\miniconda3\\envs\\pytorch16\\lib\\site-packages\\torch\\optim\\lr_scheduler.py:143: UserWarning: The epoch parameter in `scheduler.step()` was not necessary and is being deprecated where possible. Please use `scheduler.step()` to step the scheduler. During the deprecation, if epoch is different from None, the closed form is used instead of the new chainable form, where available. Please open an issue if you are unable to replicate your use case: https://github.com/pytorch/pytorch/issues/new/choose.\n",
      "  warnings.warn(EPOCH_DEPRECATION_WARNING, UserWarning)\n",
      "Epoch-1-:   0%|                                                                                | 0/391 [00:00<?, ?it/s]"
     ]
    },
    {
     "name": "stdout",
     "output_type": "stream",
     "text": [
      "Validation results at epoch-0 | loss: 2.002688981309722\tTop1 Acc: 0.4934\n"
     ]
    },
    {
     "name": "stderr",
     "output_type": "stream",
     "text": [
      "Epoch-1-:   1%|▉                                                                       | 5/391 [00:05<25:46,  4.01s/it]"
     ]
    },
    {
     "name": "stdout",
     "output_type": "stream",
     "text": [
      "current learning rate:0.02\n"
     ]
    },
    {
     "name": "stderr",
     "output_type": "stream",
     "text": [
      "Epoch-1-: 100%|██████████████████████████████████████████████████████████████████████| 391/391 [00:25<00:00, 15.64it/s]\n",
      "Valiation at -1-:   0%|                                                                         | 0/79 [00:00<?, ?it/s]"
     ]
    },
    {
     "name": "stdout",
     "output_type": "stream",
     "text": [
      "Training at epoch-1 | loss: 1.8161389513698685\tTop1 Acc: 0.5170999999809265\n"
     ]
    },
    {
     "name": "stderr",
     "output_type": "stream",
     "text": [
      "Valiation at -1-: 100%|████████████████████████████████████████████████████████████████| 79/79 [00:04<00:00, 18.70it/s]\n",
      "Epoch-2-:   0%|                                                                                | 0/391 [00:00<?, ?it/s]"
     ]
    },
    {
     "name": "stdout",
     "output_type": "stream",
     "text": [
      "Validation results at epoch-1 | loss: 2.8631582893902743\tTop1 Acc: 0.359\n"
     ]
    },
    {
     "name": "stderr",
     "output_type": "stream",
     "text": [
      "\r",
      "Epoch-2-:   0%|▏                                                                       | 1/391 [00:05<38:34,  5.93s/it]"
     ]
    },
    {
     "name": "stdout",
     "output_type": "stream",
     "text": [
      "current learning rate:0.04\n"
     ]
    },
    {
     "name": "stderr",
     "output_type": "stream",
     "text": [
      "Epoch-2-: 100%|██████████████████████████████████████████████████████████████████████| 391/391 [00:23<00:00, 16.31it/s]\n",
      "Valiation at -2-:   0%|                                                                         | 0/79 [00:00<?, ?it/s]"
     ]
    },
    {
     "name": "stdout",
     "output_type": "stream",
     "text": [
      "Training at epoch-2 | loss: 1.9285849521836966\tTop1 Acc: 0.4963799999904633\n"
     ]
    },
    {
     "name": "stderr",
     "output_type": "stream",
     "text": [
      "Valiation at -2-: 100%|████████████████████████████████████████████████████████████████| 79/79 [00:03<00:00, 20.30it/s]\n",
      "Epoch-3-:   0%|                                                                                | 0/391 [00:00<?, ?it/s]"
     ]
    },
    {
     "name": "stdout",
     "output_type": "stream",
     "text": [
      "Validation results at epoch-2 | loss: 2.2049001696743544\tTop1 Acc: 0.4494\n"
     ]
    },
    {
     "name": "stderr",
     "output_type": "stream",
     "text": [
      "\r",
      "Epoch-3-:   0%|▏                                                                       | 1/391 [00:06<39:36,  6.09s/it]"
     ]
    },
    {
     "name": "stdout",
     "output_type": "stream",
     "text": [
      "current learning rate:0.060000000000000005\n"
     ]
    },
    {
     "name": "stderr",
     "output_type": "stream",
     "text": [
      "Epoch-3-: 100%|██████████████████████████████████████████████████████████████████████| 391/391 [00:21<00:00, 17.84it/s]\n",
      "Valiation at -3-:   0%|                                                                         | 0/79 [00:00<?, ?it/s]"
     ]
    },
    {
     "name": "stdout",
     "output_type": "stream",
     "text": [
      "Training at epoch-3 | loss: 1.979868443725664\tTop1 Acc: 0.48769999999046326\n"
     ]
    },
    {
     "name": "stderr",
     "output_type": "stream",
     "text": [
      "Valiation at -3-: 100%|████████████████████████████████████████████████████████████████| 79/79 [00:04<00:00, 17.04it/s]\n",
      "Epoch-4-:   0%|                                                                                | 0/391 [00:00<?, ?it/s]"
     ]
    },
    {
     "name": "stdout",
     "output_type": "stream",
     "text": [
      "Validation results at epoch-3 | loss: 2.2119709766363798\tTop1 Acc: 0.4323\n"
     ]
    },
    {
     "name": "stderr",
     "output_type": "stream",
     "text": [
      "Epoch-4-:   1%|▌                                                                       | 3/391 [00:06<28:26,  4.40s/it]"
     ]
    },
    {
     "name": "stdout",
     "output_type": "stream",
     "text": [
      "current learning rate:0.08\n"
     ]
    },
    {
     "name": "stderr",
     "output_type": "stream",
     "text": [
      "Epoch-4-: 100%|██████████████████████████████████████████████████████████████████████| 391/391 [00:19<00:00, 19.59it/s]\n",
      "Valiation at -4-:   0%|                                                                         | 0/79 [00:00<?, ?it/s]"
     ]
    },
    {
     "name": "stdout",
     "output_type": "stream",
     "text": [
      "Training at epoch-4 | loss: 2.0480148557506865\tTop1 Acc: 0.47425999999046325\n"
     ]
    },
    {
     "name": "stderr",
     "output_type": "stream",
     "text": [
      "Valiation at -4-: 100%|████████████████████████████████████████████████████████████████| 79/79 [00:04<00:00, 16.83it/s]\n",
      "Epoch-5-:   0%|                                                                                | 0/391 [00:00<?, ?it/s]"
     ]
    },
    {
     "name": "stdout",
     "output_type": "stream",
     "text": [
      "Validation results at epoch-4 | loss: 2.2570478750180594\tTop1 Acc: 0.4381\n"
     ]
    },
    {
     "name": "stderr",
     "output_type": "stream",
     "text": [
      "Epoch-5-:   1%|▉                                                                       | 5/391 [00:05<26:06,  4.06s/it]"
     ]
    },
    {
     "name": "stdout",
     "output_type": "stream",
     "text": [
      "current learning rate:0.1\n"
     ]
    },
    {
     "name": "stderr",
     "output_type": "stream",
     "text": [
      "Epoch-5-: 100%|██████████████████████████████████████████████████████████████████████| 391/391 [00:21<00:00, 18.40it/s]\n",
      "Valiation at -5-:   0%|                                                                         | 0/79 [00:00<?, ?it/s]"
     ]
    },
    {
     "name": "stdout",
     "output_type": "stream",
     "text": [
      "Training at epoch-5 | loss: 2.0368807483512117\tTop1 Acc: 0.47631999999046326\n"
     ]
    },
    {
     "name": "stderr",
     "output_type": "stream",
     "text": [
      "Valiation at -5-: 100%|████████████████████████████████████████████████████████████████| 79/79 [00:04<00:00, 16.54it/s]\n",
      "Epoch-6-:   0%|                                                                                | 0/391 [00:00<?, ?it/s]"
     ]
    },
    {
     "name": "stdout",
     "output_type": "stream",
     "text": [
      "Validation results at epoch-5 | loss: 2.723619367502913\tTop1 Acc: 0.3672\n"
     ]
    },
    {
     "name": "stderr",
     "output_type": "stream",
     "text": [
      "Epoch-6-:   1%|▉                                                                       | 5/391 [00:05<26:26,  4.11s/it]"
     ]
    },
    {
     "name": "stdout",
     "output_type": "stream",
     "text": [
      "current learning rate:0.09997266286704631\n"
     ]
    },
    {
     "name": "stderr",
     "output_type": "stream",
     "text": [
      "Epoch-6-: 100%|██████████████████████████████████████████████████████████████████████| 391/391 [00:23<00:00, 16.53it/s]\n",
      "Valiation at -6-:   0%|                                                                         | 0/79 [00:00<?, ?it/s]"
     ]
    },
    {
     "name": "stdout",
     "output_type": "stream",
     "text": [
      "Training at epoch-6 | loss: 1.9905185891539239\tTop1 Acc: 0.48682\n"
     ]
    },
    {
     "name": "stderr",
     "output_type": "stream",
     "text": [
      "Valiation at -6-: 100%|████████████████████████████████████████████████████████████████| 79/79 [00:04<00:00, 19.65it/s]\n",
      "Epoch-7-:   0%|                                                                                | 0/391 [00:00<?, ?it/s]"
     ]
    },
    {
     "name": "stdout",
     "output_type": "stream",
     "text": [
      "Validation results at epoch-6 | loss: 2.3443280684797068\tTop1 Acc: 0.4261\n"
     ]
    },
    {
     "name": "stderr",
     "output_type": "stream",
     "text": [
      "Epoch-7-:   1%|▋                                                                       | 4/391 [00:06<26:36,  4.13s/it]"
     ]
    },
    {
     "name": "stdout",
     "output_type": "stream",
     "text": [
      "current learning rate:0.09989068136093873\n"
     ]
    },
    {
     "name": "stderr",
     "output_type": "stream",
     "text": [
      "Epoch-7-: 100%|██████████████████████████████████████████████████████████████████████| 391/391 [00:25<00:00, 15.31it/s]\n",
      "Valiation at -7-:   0%|                                                                         | 0/79 [00:00<?, ?it/s]"
     ]
    },
    {
     "name": "stdout",
     "output_type": "stream",
     "text": [
      "Training at epoch-7 | loss: 1.9735734981039297\tTop1 Acc: 0.49023999999046325\n"
     ]
    },
    {
     "name": "stderr",
     "output_type": "stream",
     "text": [
      "Valiation at -7-: 100%|████████████████████████████████████████████████████████████████| 79/79 [00:03<00:00, 19.95it/s]\n",
      "Epoch-8-:   0%|                                                                                | 0/391 [00:00<?, ?it/s]"
     ]
    },
    {
     "name": "stdout",
     "output_type": "stream",
     "text": [
      "Validation results at epoch-7 | loss: 2.0686763826804824\tTop1 Acc: 0.479\n"
     ]
    },
    {
     "name": "stderr",
     "output_type": "stream",
     "text": [
      "\r",
      "Epoch-8-:   0%|▏                                                                       | 1/391 [00:05<38:12,  5.88s/it]"
     ]
    },
    {
     "name": "stdout",
     "output_type": "stream",
     "text": [
      "current learning rate:0.09975414512725057\n"
     ]
    },
    {
     "name": "stderr",
     "output_type": "stream",
     "text": [
      "Epoch-8-: 100%|██████████████████████████████████████████████████████████████████████| 391/391 [00:24<00:00, 15.78it/s]\n",
      "Valiation at -8-:   0%|                                                                         | 0/79 [00:00<?, ?it/s]"
     ]
    },
    {
     "name": "stdout",
     "output_type": "stream",
     "text": [
      "Training at epoch-8 | loss: 1.9532468291499732\tTop1 Acc: 0.4960999999809265\n"
     ]
    },
    {
     "name": "stderr",
     "output_type": "stream",
     "text": [
      "Valiation at -8-: 100%|████████████████████████████████████████████████████████████████| 79/79 [00:03<00:00, 20.12it/s]\n",
      "Epoch-9-:   0%|                                                                                | 0/391 [00:00<?, ?it/s]"
     ]
    },
    {
     "name": "stdout",
     "output_type": "stream",
     "text": [
      "Validation results at epoch-8 | loss: 2.2652061302450637\tTop1 Acc: 0.4398\n"
     ]
    },
    {
     "name": "stderr",
     "output_type": "stream",
     "text": [
      "\r",
      "Epoch-9-:   0%|▏                                                                       | 1/391 [00:05<38:53,  5.98s/it]"
     ]
    },
    {
     "name": "stdout",
     "output_type": "stream",
     "text": [
      "current learning rate:0.09956320346634877\n"
     ]
    },
    {
     "name": "stderr",
     "output_type": "stream",
     "text": [
      "Epoch-9-: 100%|██████████████████████████████████████████████████████████████████████| 391/391 [00:22<00:00, 17.40it/s]\n",
      "Valiation at -9-:   0%|                                                                         | 0/79 [00:00<?, ?it/s]"
     ]
    },
    {
     "name": "stdout",
     "output_type": "stream",
     "text": [
      "Training at epoch-9 | loss: 1.937194448907662\tTop1 Acc: 0.4993\n"
     ]
    },
    {
     "name": "stderr",
     "output_type": "stream",
     "text": [
      "Valiation at -9-: 100%|████████████████████████████████████████████████████████████████| 79/79 [00:04<00:00, 17.18it/s]\n",
      "Epoch-10-:   0%|                                                                               | 0/391 [00:00<?, ?it/s]"
     ]
    },
    {
     "name": "stdout",
     "output_type": "stream",
     "text": [
      "Validation results at epoch-9 | loss: 2.212835179099554\tTop1 Acc: 0.4558\n"
     ]
    },
    {
     "name": "stderr",
     "output_type": "stream",
     "text": [
      "\r",
      "Epoch-10-:   0%|▏                                                                      | 1/391 [00:06<40:21,  6.21s/it]"
     ]
    },
    {
     "name": "stdout",
     "output_type": "stream",
     "text": [
      "current learning rate:0.09931806517013612\n"
     ]
    },
    {
     "name": "stderr",
     "output_type": "stream",
     "text": [
      "Epoch-10-: 100%|█████████████████████████████████████████████████████████████████████| 391/391 [00:19<00:00, 19.60it/s]\n",
      "Valiation at -10-:   0%|                                                                        | 0/79 [00:00<?, ?it/s]"
     ]
    },
    {
     "name": "stdout",
     "output_type": "stream",
     "text": [
      "Training at epoch-10 | loss: 1.9182988188760666\tTop1 Acc: 0.5044600000286102\n"
     ]
    },
    {
     "name": "stderr",
     "output_type": "stream",
     "text": [
      "Valiation at -10-: 100%|███████████████████████████████████████████████████████████████| 79/79 [00:04<00:00, 16.12it/s]\n",
      "Epoch-11-:   0%|                                                                               | 0/391 [00:00<?, ?it/s]"
     ]
    },
    {
     "name": "stdout",
     "output_type": "stream",
     "text": [
      "Validation results at epoch-10 | loss: 2.4607313041445575\tTop1 Acc: 0.4237\n"
     ]
    },
    {
     "name": "stderr",
     "output_type": "stream",
     "text": [
      "Epoch-11-:   1%|▋                                                                      | 4/391 [00:06<26:56,  4.18s/it]"
     ]
    },
    {
     "name": "stdout",
     "output_type": "stream",
     "text": [
      "current learning rate:0.09901899829374047\n"
     ]
    },
    {
     "name": "stderr",
     "output_type": "stream",
     "text": [
      "Epoch-11-: 100%|█████████████████████████████████████████████████████████████████████| 391/391 [00:21<00:00, 18.29it/s]\n",
      "Valiation at -11-:   0%|                                                                        | 0/79 [00:00<?, ?it/s]"
     ]
    },
    {
     "name": "stdout",
     "output_type": "stream",
     "text": [
      "Training at epoch-11 | loss: 1.9165185970418595\tTop1 Acc: 0.5032600000095367\n"
     ]
    },
    {
     "name": "stderr",
     "output_type": "stream",
     "text": [
      "Valiation at -11-: 100%|███████████████████████████████████████████████████████████████| 79/79 [00:05<00:00, 15.60it/s]\n",
      "Epoch-12-:   0%|                                                                               | 0/391 [00:00<?, ?it/s]"
     ]
    },
    {
     "name": "stdout",
     "output_type": "stream",
     "text": [
      "Validation results at epoch-11 | loss: 2.139437393297123\tTop1 Acc: 0.467\n"
     ]
    },
    {
     "name": "stderr",
     "output_type": "stream",
     "text": [
      "Epoch-12-:   1%|▋                                                                      | 4/391 [00:06<27:02,  4.19s/it]"
     ]
    },
    {
     "name": "stdout",
     "output_type": "stream",
     "text": [
      "current learning rate:0.0986663298624003\n"
     ]
    },
    {
     "name": "stderr",
     "output_type": "stream",
     "text": [
      "Epoch-12-: 100%|█████████████████████████████████████████████████████████████████████| 391/391 [00:24<00:00, 16.26it/s]\n",
      "Valiation at -12-:   0%|                                                                        | 0/79 [00:00<?, ?it/s]"
     ]
    },
    {
     "name": "stdout",
     "output_type": "stream",
     "text": [
      "Training at epoch-12 | loss: 1.910613843547109\tTop1 Acc: 0.5061399999809265\n"
     ]
    },
    {
     "name": "stderr",
     "output_type": "stream",
     "text": [
      "Valiation at -12-: 100%|███████████████████████████████████████████████████████████████| 79/79 [00:04<00:00, 19.15it/s]\n",
      "Epoch-13-:   0%|                                                                               | 0/391 [00:00<?, ?it/s]"
     ]
    },
    {
     "name": "stdout",
     "output_type": "stream",
     "text": [
      "Validation results at epoch-12 | loss: 2.3950224420692345\tTop1 Acc: 0.424\n"
     ]
    },
    {
     "name": "stderr",
     "output_type": "stream",
     "text": [
      "Epoch-13-:   1%|▋                                                                      | 4/391 [00:06<26:59,  4.18s/it]"
     ]
    },
    {
     "name": "stdout",
     "output_type": "stream",
     "text": [
      "current learning rate:0.09826044551386744\n"
     ]
    },
    {
     "name": "stderr",
     "output_type": "stream",
     "text": [
      "Epoch-13-: 100%|█████████████████████████████████████████████████████████████████████| 391/391 [00:25<00:00, 15.42it/s]\n",
      "Valiation at -13-:   0%|                                                                        | 0/79 [00:00<?, ?it/s]"
     ]
    },
    {
     "name": "stdout",
     "output_type": "stream",
     "text": [
      "Training at epoch-13 | loss: 1.9081843951169182\tTop1 Acc: 0.5054800000286103\n"
     ]
    },
    {
     "name": "stderr",
     "output_type": "stream",
     "text": [
      "Valiation at -13-: 100%|███████████████████████████████████████████████████████████████| 79/79 [00:04<00:00, 19.58it/s]\n",
      "Epoch-14-:   0%|                                                                               | 0/391 [00:00<?, ?it/s]"
     ]
    },
    {
     "name": "stdout",
     "output_type": "stream",
     "text": [
      "Validation results at epoch-13 | loss: 2.054766443711293\tTop1 Acc: 0.4832\n"
     ]
    },
    {
     "name": "stderr",
     "output_type": "stream",
     "text": [
      "Epoch-14-:   1%|▌                                                                      | 3/391 [00:06<27:08,  4.20s/it]"
     ]
    },
    {
     "name": "stdout",
     "output_type": "stream",
     "text": [
      "current learning rate:0.09780178907671788\n"
     ]
    },
    {
     "name": "stderr",
     "output_type": "stream",
     "text": [
      "Epoch-14-: 100%|█████████████████████████████████████████████████████████████████████| 391/391 [00:24<00:00, 15.94it/s]\n",
      "Valiation at -14-:   0%|                                                                        | 0/79 [00:00<?, ?it/s]"
     ]
    },
    {
     "name": "stdout",
     "output_type": "stream",
     "text": [
      "Training at epoch-14 | loss: 1.9096641933826535\tTop1 Acc: 0.5063000000095368\n"
     ]
    },
    {
     "name": "stderr",
     "output_type": "stream",
     "text": [
      "Valiation at -14-: 100%|███████████████████████████████████████████████████████████████| 79/79 [00:04<00:00, 19.50it/s]\n",
      "Epoch-15-:   0%|                                                                               | 0/391 [00:00<?, ?it/s]"
     ]
    },
    {
     "name": "stdout",
     "output_type": "stream",
     "text": [
      "Validation results at epoch-14 | loss: 2.361050500145441\tTop1 Acc: 0.4248\n"
     ]
    },
    {
     "name": "stderr",
     "output_type": "stream",
     "text": [
      "Epoch-15-:   1%|▌                                                                      | 3/391 [00:06<28:09,  4.35s/it]"
     ]
    },
    {
     "name": "stdout",
     "output_type": "stream",
     "text": [
      "current learning rate:0.09729086208503174\n"
     ]
    },
    {
     "name": "stderr",
     "output_type": "stream",
     "text": [
      "Epoch-15-: 100%|█████████████████████████████████████████████████████████████████████| 391/391 [00:23<00:00, 16.96it/s]\n",
      "Valiation at -15-:   0%|                                                                        | 0/79 [00:00<?, ?it/s]"
     ]
    },
    {
     "name": "stdout",
     "output_type": "stream",
     "text": [
      "Training at epoch-15 | loss: 1.890037693635887\tTop1 Acc: 0.5104000000190735\n"
     ]
    },
    {
     "name": "stderr",
     "output_type": "stream",
     "text": [
      "Valiation at -15-: 100%|███████████████████████████████████████████████████████████████| 79/79 [00:04<00:00, 16.98it/s]\n",
      "Epoch-16-:   0%|                                                                               | 0/391 [00:00<?, ?it/s]"
     ]
    },
    {
     "name": "stdout",
     "output_type": "stream",
     "text": [
      "Validation results at epoch-15 | loss: 2.1313495092754122\tTop1 Acc: 0.4655\n"
     ]
    },
    {
     "name": "stderr",
     "output_type": "stream",
     "text": [
      "Epoch-16-:   1%|▌                                                                      | 3/391 [00:06<27:34,  4.26s/it]"
     ]
    },
    {
     "name": "stdout",
     "output_type": "stream",
     "text": [
      "current learning rate:0.09672822322997304\n"
     ]
    },
    {
     "name": "stderr",
     "output_type": "stream",
     "text": [
      "Epoch-16-: 100%|█████████████████████████████████████████████████████████████████████| 391/391 [00:20<00:00, 19.48it/s]\n",
      "Valiation at -16-:   0%|                                                                        | 0/79 [00:00<?, ?it/s]"
     ]
    },
    {
     "name": "stdout",
     "output_type": "stream",
     "text": [
      "Training at epoch-16 | loss: 1.886038019529084\tTop1 Acc: 0.5133800000095368\n"
     ]
    },
    {
     "name": "stderr",
     "output_type": "stream",
     "text": [
      "Valiation at -16-: 100%|███████████████████████████████████████████████████████████████| 79/79 [00:04<00:00, 16.67it/s]\n",
      "Epoch-17-:   0%|                                                                               | 0/391 [00:00<?, ?it/s]"
     ]
    },
    {
     "name": "stdout",
     "output_type": "stream",
     "text": [
      "Validation results at epoch-16 | loss: 2.0730377299876155\tTop1 Acc: 0.4743\n"
     ]
    },
    {
     "name": "stderr",
     "output_type": "stream",
     "text": [
      "Epoch-17-:   1%|▉                                                                      | 5/391 [00:06<27:21,  4.25s/it]"
     ]
    },
    {
     "name": "stdout",
     "output_type": "stream",
     "text": [
      "current learning rate:0.09611448774886924\n"
     ]
    },
    {
     "name": "stderr",
     "output_type": "stream",
     "text": [
      "Epoch-17-: 100%|█████████████████████████████████████████████████████████████████████| 391/391 [00:21<00:00, 18.09it/s]\n",
      "Valiation at -17-:   0%|                                                                        | 0/79 [00:00<?, ?it/s]"
     ]
    },
    {
     "name": "stdout",
     "output_type": "stream",
     "text": [
      "Training at epoch-17 | loss: 1.880066067666349\tTop1 Acc: 0.5149399999904632\n"
     ]
    },
    {
     "name": "stderr",
     "output_type": "stream",
     "text": [
      "Valiation at -17-: 100%|███████████████████████████████████████████████████████████████| 79/79 [00:04<00:00, 16.46it/s]\n",
      "Epoch-18-:   0%|                                                                               | 0/391 [00:00<?, ?it/s]"
     ]
    },
    {
     "name": "stdout",
     "output_type": "stream",
     "text": [
      "Validation results at epoch-17 | loss: 2.0648819268504277\tTop1 Acc: 0.4787\n"
     ]
    },
    {
     "name": "stderr",
     "output_type": "stream",
     "text": [
      "Epoch-18-:   1%|▉                                                                      | 5/391 [00:05<26:03,  4.05s/it]"
     ]
    },
    {
     "name": "stdout",
     "output_type": "stream",
     "text": [
      "current learning rate:0.09545032675245813\n"
     ]
    },
    {
     "name": "stderr",
     "output_type": "stream",
     "text": [
      "Epoch-18-: 100%|█████████████████████████████████████████████████████████████████████| 391/391 [00:23<00:00, 16.70it/s]\n",
      "Valiation at -18-:   0%|                                                                        | 0/79 [00:00<?, ?it/s]"
     ]
    },
    {
     "name": "stdout",
     "output_type": "stream",
     "text": [
      "Training at epoch-18 | loss: 1.8801417908705105\tTop1 Acc: 0.5119000000190734\n"
     ]
    },
    {
     "name": "stderr",
     "output_type": "stream",
     "text": [
      "Valiation at -18-: 100%|███████████████████████████████████████████████████████████████| 79/79 [00:04<00:00, 18.37it/s]\n",
      "Epoch-19-:   0%|                                                                               | 0/391 [00:00<?, ?it/s]"
     ]
    },
    {
     "name": "stdout",
     "output_type": "stream",
     "text": [
      "Validation results at epoch-18 | loss: 2.0025985286205628\tTop1 Acc: 0.4924\n"
     ]
    },
    {
     "name": "stderr",
     "output_type": "stream",
     "text": [
      "Epoch-19-:   1%|▋                                                                      | 4/391 [00:05<26:37,  4.13s/it]"
     ]
    },
    {
     "name": "stdout",
     "output_type": "stream",
     "text": [
      "current learning rate:0.09473646649103817\n"
     ]
    },
    {
     "name": "stderr",
     "output_type": "stream",
     "text": [
      "Epoch-19-: 100%|█████████████████████████████████████████████████████████████████████| 391/391 [00:25<00:00, 15.23it/s]\n",
      "Valiation at -19-:   0%|                                                                        | 0/79 [00:00<?, ?it/s]"
     ]
    },
    {
     "name": "stdout",
     "output_type": "stream",
     "text": [
      "Training at epoch-19 | loss: 1.8668244946033448\tTop1 Acc: 0.5171000000286102\n"
     ]
    },
    {
     "name": "stderr",
     "output_type": "stream",
     "text": [
      "Valiation at -19-: 100%|███████████████████████████████████████████████████████████████| 79/79 [00:04<00:00, 19.69it/s]\n",
      "Epoch-20-:   0%|                                                                               | 0/391 [00:00<?, ?it/s]"
     ]
    },
    {
     "name": "stdout",
     "output_type": "stream",
     "text": [
      "Validation results at epoch-19 | loss: 2.0574382649192327\tTop1 Acc: 0.4822\n"
     ]
    },
    {
     "name": "stderr",
     "output_type": "stream",
     "text": [
      "Epoch-20-:   1%|▌                                                                      | 3/391 [00:05<25:46,  3.99s/it]"
     ]
    },
    {
     "name": "stdout",
     "output_type": "stream",
     "text": [
      "current learning rate:0.09397368756032445\n"
     ]
    },
    {
     "name": "stderr",
     "output_type": "stream",
     "text": [
      "Epoch-20-: 100%|█████████████████████████████████████████████████████████████████████| 391/391 [00:24<00:00, 16.13it/s]\n",
      "Valiation at -20-:   0%|                                                                        | 0/79 [00:00<?, ?it/s]"
     ]
    },
    {
     "name": "stdout",
     "output_type": "stream",
     "text": [
      "Training at epoch-20 | loss: 1.8612616327412599\tTop1 Acc: 0.5192999999809265\n"
     ]
    },
    {
     "name": "stderr",
     "output_type": "stream",
     "text": [
      "Valiation at -20-: 100%|███████████████████████████████████████████████████████████████| 79/79 [00:03<00:00, 19.82it/s]\n",
      "Epoch-21-:   0%|                                                                               | 0/391 [00:00<?, ?it/s]"
     ]
    },
    {
     "name": "stdout",
     "output_type": "stream",
     "text": [
      "Validation results at epoch-20 | loss: 1.998764901221553\tTop1 Acc: 0.4868\n"
     ]
    },
    {
     "name": "stderr",
     "output_type": "stream",
     "text": [
      "\r",
      "Epoch-21-:   0%|▏                                                                      | 1/391 [00:05<38:50,  5.98s/it]"
     ]
    },
    {
     "name": "stdout",
     "output_type": "stream",
     "text": [
      "current learning rate:0.09316282404787869\n"
     ]
    },
    {
     "name": "stderr",
     "output_type": "stream",
     "text": [
      "Epoch-21-: 100%|█████████████████████████████████████████████████████████████████████| 391/391 [00:22<00:00, 17.26it/s]\n",
      "Valiation at -21-:   0%|                                                                        | 0/79 [00:00<?, ?it/s]"
     ]
    },
    {
     "name": "stdout",
     "output_type": "stream",
     "text": [
      "Training at epoch-21 | loss: 1.8519048721284208\tTop1 Acc: 0.5194600000572205\n"
     ]
    },
    {
     "name": "stderr",
     "output_type": "stream",
     "text": [
      "Valiation at -21-: 100%|███████████████████████████████████████████████████████████████| 79/79 [00:03<00:00, 21.00it/s]\n",
      "Epoch-22-:   0%|                                                                               | 0/391 [00:00<?, ?it/s]"
     ]
    },
    {
     "name": "stdout",
     "output_type": "stream",
     "text": [
      "Validation results at epoch-21 | loss: 2.520816229566743\tTop1 Acc: 0.422\n"
     ]
    },
    {
     "name": "stderr",
     "output_type": "stream",
     "text": [
      "Epoch-22-:   1%|▋                                                                      | 4/391 [00:05<25:37,  3.97s/it]"
     ]
    },
    {
     "name": "stdout",
     "output_type": "stream",
     "text": [
      "current learning rate:0.09230476262104677\n"
     ]
    },
    {
     "name": "stderr",
     "output_type": "stream",
     "text": [
      "Epoch-22-: 100%|█████████████████████████████████████████████████████████████████████| 391/391 [00:17<00:00, 22.14it/s]\n",
      "Valiation at -22-:   0%|                                                                        | 0/79 [00:00<?, ?it/s]"
     ]
    },
    {
     "name": "stdout",
     "output_type": "stream",
     "text": [
      "Training at epoch-22 | loss: 1.842935075845255\tTop1 Acc: 0.5220599999809266\n"
     ]
    },
    {
     "name": "stderr",
     "output_type": "stream",
     "text": [
      "Valiation at -22-: 100%|███████████████████████████████████████████████████████████████| 79/79 [00:04<00:00, 19.63it/s]\n",
      "Epoch-23-:   0%|                                                                               | 0/391 [00:00<?, ?it/s]"
     ]
    },
    {
     "name": "stdout",
     "output_type": "stream",
     "text": [
      "Validation results at epoch-22 | loss: 2.179621436927892\tTop1 Acc: 0.4666\n"
     ]
    },
    {
     "name": "stderr",
     "output_type": "stream",
     "text": [
      "Epoch-23-:   1%|▋                                                                      | 4/391 [00:05<25:40,  3.98s/it]"
     ]
    },
    {
     "name": "stdout",
     "output_type": "stream",
     "text": [
      "current learning rate:0.09140044155740101\n"
     ]
    },
    {
     "name": "stderr",
     "output_type": "stream",
     "text": [
      "Epoch-23-: 100%|█████████████████████████████████████████████████████████████████████| 391/391 [00:17<00:00, 22.31it/s]\n",
      "Valiation at -23-:   0%|                                                                        | 0/79 [00:00<?, ?it/s]"
     ]
    },
    {
     "name": "stdout",
     "output_type": "stream",
     "text": [
      "Training at epoch-23 | loss: 1.8420559244082713\tTop1 Acc: 0.5240600000572204\n"
     ]
    },
    {
     "name": "stderr",
     "output_type": "stream",
     "text": [
      "Valiation at -23-: 100%|███████████████████████████████████████████████████████████████| 79/79 [00:03<00:00, 20.87it/s]\n",
      "Epoch-24-:   0%|                                                                               | 0/391 [00:00<?, ?it/s]"
     ]
    },
    {
     "name": "stdout",
     "output_type": "stream",
     "text": [
      "Validation results at epoch-23 | loss: 1.9539546196973776\tTop1 Acc: 0.5102\n"
     ]
    },
    {
     "name": "stderr",
     "output_type": "stream",
     "text": [
      "Epoch-24-:   1%|▉                                                                      | 5/391 [00:05<24:47,  3.85s/it]"
     ]
    },
    {
     "name": "stdout",
     "output_type": "stream",
     "text": [
      "current learning rate:0.09045084971874738\n"
     ]
    },
    {
     "name": "stderr",
     "output_type": "stream",
     "text": [
      "Epoch-24-: 100%|█████████████████████████████████████████████████████████████████████| 391/391 [00:17<00:00, 22.56it/s]\n",
      "Valiation at -24-:   0%|                                                                        | 0/79 [00:00<?, ?it/s]"
     ]
    },
    {
     "name": "stdout",
     "output_type": "stream",
     "text": [
      "Training at epoch-24 | loss: 1.8261930174230006\tTop1 Acc: 0.5263800000190735\n"
     ]
    },
    {
     "name": "stderr",
     "output_type": "stream",
     "text": [
      "Valiation at -24-: 100%|███████████████████████████████████████████████████████████████| 79/79 [00:03<00:00, 20.76it/s]\n",
      "Epoch-25-:   0%|                                                                               | 0/391 [00:00<?, ?it/s]"
     ]
    },
    {
     "name": "stdout",
     "output_type": "stream",
     "text": [
      "Validation results at epoch-24 | loss: 2.1378999586346783\tTop1 Acc: 0.4737\n"
     ]
    },
    {
     "name": "stderr",
     "output_type": "stream",
     "text": [
      "Epoch-25-:   1%|▉                                                                      | 5/391 [00:05<24:32,  3.82s/it]"
     ]
    },
    {
     "name": "stdout",
     "output_type": "stream",
     "text": [
      "current learning rate:0.08945702546981969\n"
     ]
    },
    {
     "name": "stderr",
     "output_type": "stream",
     "text": [
      "Epoch-25-: 100%|█████████████████████████████████████████████████████████████████████| 391/391 [00:17<00:00, 22.93it/s]\n",
      "Valiation at -25-:   0%|                                                                        | 0/79 [00:00<?, ?it/s]"
     ]
    },
    {
     "name": "stdout",
     "output_type": "stream",
     "text": [
      "Training at epoch-25 | loss: 1.8205469355863684\tTop1 Acc: 0.5299599999904633\n"
     ]
    },
    {
     "name": "stderr",
     "output_type": "stream",
     "text": [
      "Valiation at -25-: 100%|███████████████████████████████████████████████████████████████| 79/79 [00:03<00:00, 20.64it/s]\n",
      "Epoch-26-:   0%|                                                                               | 0/391 [00:00<?, ?it/s]"
     ]
    },
    {
     "name": "stdout",
     "output_type": "stream",
     "text": [
      "Validation results at epoch-25 | loss: 2.2171237227282945\tTop1 Acc: 0.4462\n"
     ]
    },
    {
     "name": "stderr",
     "output_type": "stream",
     "text": [
      "Epoch-26-:   1%|▉                                                                      | 5/391 [00:05<24:39,  3.83s/it]"
     ]
    },
    {
     "name": "stdout",
     "output_type": "stream",
     "text": [
      "current learning rate:0.08842005554284296\n"
     ]
    },
    {
     "name": "stderr",
     "output_type": "stream",
     "text": [
      "Epoch-26-: 100%|█████████████████████████████████████████████████████████████████████| 391/391 [00:17<00:00, 22.80it/s]\n",
      "Valiation at -26-:   0%|                                                                        | 0/79 [00:00<?, ?it/s]"
     ]
    },
    {
     "name": "stdout",
     "output_type": "stream",
     "text": [
      "Training at epoch-26 | loss: 1.8114378430959208\tTop1 Acc: 0.5280400000572204\n"
     ]
    },
    {
     "name": "stderr",
     "output_type": "stream",
     "text": [
      "Valiation at -26-: 100%|███████████████████████████████████████████████████████████████| 79/79 [00:03<00:00, 20.95it/s]\n",
      "Epoch-27-:   0%|                                                                               | 0/391 [00:00<?, ?it/s]"
     ]
    },
    {
     "name": "stdout",
     "output_type": "stream",
     "text": [
      "Validation results at epoch-26 | loss: 2.3794672730602797\tTop1 Acc: 0.4478\n"
     ]
    },
    {
     "name": "stderr",
     "output_type": "stream",
     "text": [
      "Epoch-27-:   1%|▉                                                                      | 5/391 [00:05<25:04,  3.90s/it]"
     ]
    },
    {
     "name": "stdout",
     "output_type": "stream",
     "text": [
      "current learning rate:0.0873410738492077\n"
     ]
    },
    {
     "name": "stderr",
     "output_type": "stream",
     "text": [
      "Epoch-27-: 100%|█████████████████████████████████████████████████████████████████████| 391/391 [00:17<00:00, 22.74it/s]\n",
      "Valiation at -27-:   0%|                                                                        | 0/79 [00:00<?, ?it/s]"
     ]
    },
    {
     "name": "stdout",
     "output_type": "stream",
     "text": [
      "Training at epoch-27 | loss: 1.7925487726240816\tTop1 Acc: 0.5333000000286102\n"
     ]
    },
    {
     "name": "stderr",
     "output_type": "stream",
     "text": [
      "Valiation at -27-: 100%|███████████████████████████████████████████████████████████████| 79/79 [00:03<00:00, 20.62it/s]\n",
      "Epoch-28-:   0%|                                                                               | 0/391 [00:00<?, ?it/s]"
     ]
    },
    {
     "name": "stdout",
     "output_type": "stream",
     "text": [
      "Validation results at epoch-27 | loss: 1.9427639396884773\tTop1 Acc: 0.5022\n"
     ]
    },
    {
     "name": "stderr",
     "output_type": "stream",
     "text": [
      "Epoch-28-:   1%|▉                                                                      | 5/391 [00:05<24:54,  3.87s/it]"
     ]
    },
    {
     "name": "stdout",
     "output_type": "stream",
     "text": [
      "current learning rate:0.08622126023955445\n"
     ]
    },
    {
     "name": "stderr",
     "output_type": "stream",
     "text": [
      "Epoch-28-: 100%|█████████████████████████████████████████████████████████████████████| 391/391 [00:17<00:00, 22.55it/s]\n",
      "Valiation at -28-:   0%|                                                                        | 0/79 [00:00<?, ?it/s]"
     ]
    },
    {
     "name": "stdout",
     "output_type": "stream",
     "text": [
      "Training at epoch-28 | loss: 1.794022882990825\tTop1 Acc: 0.5335000000572204\n"
     ]
    },
    {
     "name": "stderr",
     "output_type": "stream",
     "text": [
      "Valiation at -28-: 100%|███████████████████████████████████████████████████████████████| 79/79 [00:03<00:00, 20.93it/s]\n",
      "Epoch-29-:   0%|                                                                               | 0/391 [00:00<?, ?it/s]"
     ]
    },
    {
     "name": "stdout",
     "output_type": "stream",
     "text": [
      "Validation results at epoch-28 | loss: 2.020355625997616\tTop1 Acc: 0.4894\n"
     ]
    },
    {
     "name": "stderr",
     "output_type": "stream",
     "text": [
      "Epoch-29-:   1%|▉                                                                      | 5/391 [00:05<24:59,  3.89s/it]"
     ]
    },
    {
     "name": "stdout",
     "output_type": "stream",
     "text": [
      "current learning rate:0.08506183921362444\n"
     ]
    },
    {
     "name": "stderr",
     "output_type": "stream",
     "text": [
      "Epoch-29-: 100%|█████████████████████████████████████████████████████████████████████| 391/391 [00:17<00:00, 22.41it/s]\n",
      "Valiation at -29-:   0%|                                                                        | 0/79 [00:00<?, ?it/s]"
     ]
    },
    {
     "name": "stdout",
     "output_type": "stream",
     "text": [
      "Training at epoch-29 | loss: 1.7712974161138315\tTop1 Acc: 0.53694\n"
     ]
    },
    {
     "name": "stderr",
     "output_type": "stream",
     "text": [
      "Valiation at -29-: 100%|███████████████████████████████████████████████████████████████| 79/79 [00:03<00:00, 20.86it/s]\n",
      "Epoch-30-:   0%|                                                                               | 0/391 [00:00<?, ?it/s]"
     ]
    },
    {
     "name": "stdout",
     "output_type": "stream",
     "text": [
      "Validation results at epoch-29 | loss: 1.9128671990165227\tTop1 Acc: 0.51\n"
     ]
    },
    {
     "name": "stderr",
     "output_type": "stream",
     "text": [
      "Epoch-30-:   1%|▉                                                                      | 5/391 [00:05<25:13,  3.92s/it]"
     ]
    },
    {
     "name": "stdout",
     "output_type": "stream",
     "text": [
      "current learning rate:0.08386407858128707\n"
     ]
    },
    {
     "name": "stderr",
     "output_type": "stream",
     "text": [
      "Epoch-30-: 100%|█████████████████████████████████████████████████████████████████████| 391/391 [00:17<00:00, 22.70it/s]\n",
      "Valiation at -30-:   0%|                                                                        | 0/79 [00:00<?, ?it/s]"
     ]
    },
    {
     "name": "stdout",
     "output_type": "stream",
     "text": [
      "Training at epoch-30 | loss: 1.7755575862991841\tTop1 Acc: 0.5367400000572204\n"
     ]
    },
    {
     "name": "stderr",
     "output_type": "stream",
     "text": [
      "Valiation at -30-: 100%|███████████████████████████████████████████████████████████████| 79/79 [00:03<00:00, 20.87it/s]\n",
      "Epoch-31-:   0%|                                                                               | 0/391 [00:00<?, ?it/s]"
     ]
    },
    {
     "name": "stdout",
     "output_type": "stream",
     "text": [
      "Validation results at epoch-30 | loss: 1.994436433043661\tTop1 Acc: 0.4984\n"
     ]
    },
    {
     "name": "stderr",
     "output_type": "stream",
     "text": [
      "Epoch-31-:   1%|▋                                                                      | 4/391 [00:05<25:26,  3.94s/it]"
     ]
    },
    {
     "name": "stdout",
     "output_type": "stream",
     "text": [
      "current learning rate:0.08262928807620844\n"
     ]
    },
    {
     "name": "stderr",
     "output_type": "stream",
     "text": [
      "Epoch-31-: 100%|█████████████████████████████████████████████████████████████████████| 391/391 [00:17<00:00, 22.47it/s]\n",
      "Valiation at -31-:   0%|                                                                        | 0/79 [00:00<?, ?it/s]"
     ]
    },
    {
     "name": "stdout",
     "output_type": "stream",
     "text": [
      "Training at epoch-31 | loss: 1.748808010459861\tTop1 Acc: 0.545000000038147\n"
     ]
    },
    {
     "name": "stderr",
     "output_type": "stream",
     "text": [
      "Valiation at -31-: 100%|███████████████████████████████████████████████████████████████| 79/79 [00:03<00:00, 20.91it/s]\n",
      "Epoch-32-:   0%|                                                                               | 0/391 [00:00<?, ?it/s]"
     ]
    },
    {
     "name": "stdout",
     "output_type": "stream",
     "text": [
      "Validation results at epoch-31 | loss: 1.9430680984183202\tTop1 Acc: 0.502\n"
     ]
    },
    {
     "name": "stderr",
     "output_type": "stream",
     "text": [
      "Epoch-32-:   1%|▉                                                                      | 5/391 [00:05<25:07,  3.91s/it]"
     ]
    },
    {
     "name": "stdout",
     "output_type": "stream",
     "text": [
      "current learning rate:0.08135881792367686\n"
     ]
    },
    {
     "name": "stderr",
     "output_type": "stream",
     "text": [
      "Epoch-32-: 100%|█████████████████████████████████████████████████████████████████████| 391/391 [00:17<00:00, 22.55it/s]\n",
      "Valiation at -32-:   0%|                                                                        | 0/79 [00:00<?, ?it/s]"
     ]
    },
    {
     "name": "stdout",
     "output_type": "stream",
     "text": [
      "Training at epoch-32 | loss: 1.7445731656935515\tTop1 Acc: 0.54524\n"
     ]
    },
    {
     "name": "stderr",
     "output_type": "stream",
     "text": [
      "Valiation at -32-: 100%|███████████████████████████████████████████████████████████████| 79/79 [00:03<00:00, 21.20it/s]\n",
      "Epoch-33-:   0%|                                                                               | 0/391 [00:00<?, ?it/s]"
     ]
    },
    {
     "name": "stdout",
     "output_type": "stream",
     "text": [
      "Validation results at epoch-32 | loss: 2.0474378127086013\tTop1 Acc: 0.4871\n"
     ]
    },
    {
     "name": "stderr",
     "output_type": "stream",
     "text": [
      "Epoch-33-:   1%|▉                                                                      | 5/391 [00:05<24:53,  3.87s/it]"
     ]
    },
    {
     "name": "stdout",
     "output_type": "stream",
     "text": [
      "current learning rate:0.08005405736415126\n"
     ]
    },
    {
     "name": "stderr",
     "output_type": "stream",
     "text": [
      "Epoch-33-: 100%|█████████████████████████████████████████████████████████████████████| 391/391 [00:17<00:00, 22.69it/s]\n",
      "Valiation at -33-:   0%|                                                                        | 0/79 [00:00<?, ?it/s]"
     ]
    },
    {
     "name": "stdout",
     "output_type": "stream",
     "text": [
      "Training at epoch-33 | loss: 1.725160687475863\tTop1 Acc: 0.54902\n"
     ]
    },
    {
     "name": "stderr",
     "output_type": "stream",
     "text": [
      "Valiation at -33-: 100%|███████████████████████████████████████████████████████████████| 79/79 [00:03<00:00, 20.61it/s]\n",
      "Epoch-34-:   0%|                                                                               | 0/391 [00:00<?, ?it/s]"
     ]
    },
    {
     "name": "stdout",
     "output_type": "stream",
     "text": [
      "Validation results at epoch-33 | loss: 1.983351911170573\tTop1 Acc: 0.5013\n"
     ]
    },
    {
     "name": "stderr",
     "output_type": "stream",
     "text": [
      "Epoch-34-:   1%|▋                                                                      | 4/391 [00:05<25:13,  3.91s/it]"
     ]
    },
    {
     "name": "stdout",
     "output_type": "stream",
     "text": [
      "current learning rate:0.07871643313414718\n"
     ]
    },
    {
     "name": "stderr",
     "output_type": "stream",
     "text": [
      "Epoch-34-: 100%|█████████████████████████████████████████████████████████████████████| 391/391 [00:17<00:00, 22.54it/s]\n",
      "Valiation at -34-:   0%|                                                                        | 0/79 [00:00<?, ?it/s]"
     ]
    },
    {
     "name": "stdout",
     "output_type": "stream",
     "text": [
      "Training at epoch-34 | loss: 1.7212989052848133\tTop1 Acc: 0.5488400000190735\n"
     ]
    },
    {
     "name": "stderr",
     "output_type": "stream",
     "text": [
      "Valiation at -34-: 100%|███████████████████████████████████████████████████████████████| 79/79 [00:03<00:00, 21.32it/s]\n",
      "Epoch-35-:   0%|                                                                               | 0/391 [00:00<?, ?it/s]"
     ]
    },
    {
     "name": "stdout",
     "output_type": "stream",
     "text": [
      "Validation results at epoch-34 | loss: 1.890798378594314\tTop1 Acc: 0.5217\n"
     ]
    },
    {
     "name": "stderr",
     "output_type": "stream",
     "text": [
      "Epoch-35-:   1%|▋                                                                      | 4/391 [00:05<25:04,  3.89s/it]"
     ]
    },
    {
     "name": "stdout",
     "output_type": "stream",
     "text": [
      "current learning rate:0.07734740790612135\n"
     ]
    },
    {
     "name": "stderr",
     "output_type": "stream",
     "text": [
      "Epoch-35-: 100%|█████████████████████████████████████████████████████████████████████| 391/391 [00:17<00:00, 22.64it/s]\n",
      "Valiation at -35-:   0%|                                                                        | 0/79 [00:00<?, ?it/s]"
     ]
    },
    {
     "name": "stdout",
     "output_type": "stream",
     "text": [
      "Training at epoch-35 | loss: 1.7016300990453461\tTop1 Acc: 0.5538799999809265\n"
     ]
    },
    {
     "name": "stderr",
     "output_type": "stream",
     "text": [
      "Valiation at -35-: 100%|███████████████████████████████████████████████████████████████| 79/79 [00:03<00:00, 21.07it/s]\n",
      "Epoch-36-:   0%|                                                                               | 0/391 [00:00<?, ?it/s]"
     ]
    },
    {
     "name": "stdout",
     "output_type": "stream",
     "text": [
      "Validation results at epoch-35 | loss: 1.9031748394422894\tTop1 Acc: 0.5099\n"
     ]
    },
    {
     "name": "stderr",
     "output_type": "stream",
     "text": [
      "\r",
      "Epoch-36-:   0%|▏                                                                      | 1/391 [00:05<36:08,  5.56s/it]"
     ]
    },
    {
     "name": "stdout",
     "output_type": "stream",
     "text": [
      "current learning rate:0.07594847868906077\n"
     ]
    },
    {
     "name": "stderr",
     "output_type": "stream",
     "text": [
      "Epoch-36-: 100%|█████████████████████████████████████████████████████████████████████| 391/391 [00:17<00:00, 22.73it/s]\n",
      "Valiation at -36-:   0%|                                                                        | 0/79 [00:00<?, ?it/s]"
     ]
    },
    {
     "name": "stdout",
     "output_type": "stream",
     "text": [
      "Training at epoch-36 | loss: 1.6889804906552406\tTop1 Acc: 0.55638\n"
     ]
    },
    {
     "name": "stderr",
     "output_type": "stream",
     "text": [
      "Valiation at -36-: 100%|███████████████████████████████████████████████████████████████| 79/79 [00:03<00:00, 19.99it/s]\n",
      "Epoch-37-:   0%|                                                                               | 0/391 [00:00<?, ?it/s]"
     ]
    },
    {
     "name": "stdout",
     "output_type": "stream",
     "text": [
      "Validation results at epoch-36 | loss: 1.8272714750676216\tTop1 Acc: 0.5286\n"
     ]
    },
    {
     "name": "stderr",
     "output_type": "stream",
     "text": [
      "Epoch-37-:   1%|▋                                                                      | 4/391 [00:05<25:33,  3.96s/it]"
     ]
    },
    {
     "name": "stdout",
     "output_type": "stream",
     "text": [
      "current learning rate:0.0745211751915254\n"
     ]
    },
    {
     "name": "stderr",
     "output_type": "stream",
     "text": [
      "Epoch-37-: 100%|█████████████████████████████████████████████████████████████████████| 391/391 [00:17<00:00, 22.21it/s]\n",
      "Valiation at -37-:   0%|                                                                        | 0/79 [00:00<?, ?it/s]"
     ]
    },
    {
     "name": "stdout",
     "output_type": "stream",
     "text": [
      "Training at epoch-37 | loss: 1.6777914552127613\tTop1 Acc: 0.5603800000572204\n"
     ]
    },
    {
     "name": "stderr",
     "output_type": "stream",
     "text": [
      "Valiation at -37-: 100%|███████████████████████████████████████████████████████████████| 79/79 [00:03<00:00, 21.19it/s]\n",
      "Epoch-38-:   0%|                                                                               | 0/391 [00:00<?, ?it/s]"
     ]
    },
    {
     "name": "stdout",
     "output_type": "stream",
     "text": [
      "Validation results at epoch-37 | loss: 2.0844742557670495\tTop1 Acc: 0.4796\n"
     ]
    },
    {
     "name": "stderr",
     "output_type": "stream",
     "text": [
      "Epoch-38-:   1%|▋                                                                      | 4/391 [00:05<25:04,  3.89s/it]"
     ]
    },
    {
     "name": "stdout",
     "output_type": "stream",
     "text": [
      "current learning rate:0.0730670581489344\n"
     ]
    },
    {
     "name": "stderr",
     "output_type": "stream",
     "text": [
      "Epoch-38-: 100%|█████████████████████████████████████████████████████████████████████| 391/391 [00:17<00:00, 22.45it/s]\n",
      "Valiation at -38-:   0%|                                                                        | 0/79 [00:00<?, ?it/s]"
     ]
    },
    {
     "name": "stdout",
     "output_type": "stream",
     "text": [
      "Training at epoch-38 | loss: 1.6673690781873816\tTop1 Acc: 0.559360000038147\n"
     ]
    },
    {
     "name": "stderr",
     "output_type": "stream",
     "text": [
      "Valiation at -38-: 100%|███████████████████████████████████████████████████████████████| 79/79 [00:04<00:00, 19.74it/s]\n",
      "Epoch-39-:   0%|                                                                               | 0/391 [00:00<?, ?it/s]"
     ]
    },
    {
     "name": "stdout",
     "output_type": "stream",
     "text": [
      "Validation results at epoch-38 | loss: 1.858495009096363\tTop1 Acc: 0.523\n"
     ]
    },
    {
     "name": "stderr",
     "output_type": "stream",
     "text": [
      "Epoch-39-:   1%|▉                                                                      | 5/391 [00:05<25:24,  3.95s/it]"
     ]
    },
    {
     "name": "stdout",
     "output_type": "stream",
     "text": [
      "current learning rate:0.07158771761692465\n"
     ]
    },
    {
     "name": "stderr",
     "output_type": "stream",
     "text": [
      "Epoch-39-: 100%|█████████████████████████████████████████████████████████████████████| 391/391 [00:17<00:00, 22.37it/s]\n",
      "Valiation at -39-:   0%|                                                                        | 0/79 [00:00<?, ?it/s]"
     ]
    },
    {
     "name": "stdout",
     "output_type": "stream",
     "text": [
      "Training at epoch-39 | loss: 1.6511365251467967\tTop1 Acc: 0.5655000000381469\n"
     ]
    },
    {
     "name": "stderr",
     "output_type": "stream",
     "text": [
      "Valiation at -39-: 100%|███████████████████████████████████████████████████████████████| 79/79 [00:03<00:00, 20.64it/s]\n",
      "Epoch-40-:   0%|                                                                               | 0/391 [00:00<?, ?it/s]"
     ]
    },
    {
     "name": "stdout",
     "output_type": "stream",
     "text": [
      "Validation results at epoch-39 | loss: 1.7950608866124214\tTop1 Acc: 0.5454\n"
     ]
    },
    {
     "name": "stderr",
     "output_type": "stream",
     "text": [
      "Epoch-40-:   1%|▋                                                                      | 4/391 [00:05<25:24,  3.94s/it]"
     ]
    },
    {
     "name": "stdout",
     "output_type": "stream",
     "text": [
      "current learning rate:0.07008477123264849\n"
     ]
    },
    {
     "name": "stderr",
     "output_type": "stream",
     "text": [
      "Epoch-40-: 100%|█████████████████████████████████████████████████████████████████████| 391/391 [00:17<00:00, 22.43it/s]\n",
      "Valiation at -40-:   0%|                                                                        | 0/79 [00:00<?, ?it/s]"
     ]
    },
    {
     "name": "stdout",
     "output_type": "stream",
     "text": [
      "Training at epoch-40 | loss: 1.6329492547018143\tTop1 Acc: 0.571180000038147\n"
     ]
    },
    {
     "name": "stderr",
     "output_type": "stream",
     "text": [
      "Valiation at -40-: 100%|███████████████████████████████████████████████████████████████| 79/79 [00:03<00:00, 21.21it/s]\n",
      "Epoch-41-:   0%|                                                                               | 0/391 [00:00<?, ?it/s]"
     ]
    },
    {
     "name": "stdout",
     "output_type": "stream",
     "text": [
      "Validation results at epoch-40 | loss: 1.9419810032542748\tTop1 Acc: 0.5125\n"
     ]
    },
    {
     "name": "stderr",
     "output_type": "stream",
     "text": [
      "Epoch-41-:   1%|▋                                                                      | 4/391 [00:05<24:42,  3.83s/it]"
     ]
    },
    {
     "name": "stdout",
     "output_type": "stream",
     "text": [
      "current learning rate:0.06855986244591104\n"
     ]
    },
    {
     "name": "stderr",
     "output_type": "stream",
     "text": [
      "Epoch-41-: 100%|█████████████████████████████████████████████████████████████████████| 391/391 [00:17<00:00, 22.86it/s]\n",
      "Valiation at -41-:   0%|                                                                        | 0/79 [00:00<?, ?it/s]"
     ]
    },
    {
     "name": "stdout",
     "output_type": "stream",
     "text": [
      "Training at epoch-41 | loss: 1.6183112457280269\tTop1 Acc: 0.5744200000190735\n"
     ]
    },
    {
     "name": "stderr",
     "output_type": "stream",
     "text": [
      "Valiation at -41-: 100%|███████████████████████████████████████████████████████████████| 79/79 [00:03<00:00, 21.30it/s]\n",
      "Epoch-42-:   0%|                                                                               | 0/391 [00:00<?, ?it/s]"
     ]
    },
    {
     "name": "stdout",
     "output_type": "stream",
     "text": [
      "Validation results at epoch-41 | loss: 1.7844368792787384\tTop1 Acc: 0.5327\n"
     ]
    },
    {
     "name": "stderr",
     "output_type": "stream",
     "text": [
      "Epoch-42-:   1%|▉                                                                      | 5/391 [00:05<24:57,  3.88s/it]"
     ]
    },
    {
     "name": "stdout",
     "output_type": "stream",
     "text": [
      "current learning rate:0.06701465872208216\n"
     ]
    },
    {
     "name": "stderr",
     "output_type": "stream",
     "text": [
      "Epoch-42-: 100%|█████████████████████████████████████████████████████████████████████| 391/391 [00:17<00:00, 22.88it/s]\n",
      "Valiation at -42-:   0%|                                                                        | 0/79 [00:00<?, ?it/s]"
     ]
    },
    {
     "name": "stdout",
     "output_type": "stream",
     "text": [
      "Training at epoch-42 | loss: 1.5913527792372058\tTop1 Acc: 0.5798600000190735\n"
     ]
    },
    {
     "name": "stderr",
     "output_type": "stream",
     "text": [
      "Valiation at -42-: 100%|███████████████████████████████████████████████████████████████| 79/79 [00:03<00:00, 21.10it/s]\n",
      "Epoch-43-:   0%|                                                                               | 0/391 [00:00<?, ?it/s]"
     ]
    },
    {
     "name": "stdout",
     "output_type": "stream",
     "text": [
      "Validation results at epoch-42 | loss: 1.722514123856267\tTop1 Acc: 0.5571\n"
     ]
    },
    {
     "name": "stderr",
     "output_type": "stream",
     "text": [
      "Epoch-43-:   1%|▋                                                                      | 4/391 [00:05<25:00,  3.88s/it]"
     ]
    },
    {
     "name": "stdout",
     "output_type": "stream",
     "text": [
      "current learning rate:0.06545084971874737\n"
     ]
    },
    {
     "name": "stderr",
     "output_type": "stream",
     "text": [
      "Epoch-43-: 100%|█████████████████████████████████████████████████████████████████████| 391/391 [00:17<00:00, 22.78it/s]\n",
      "Valiation at -43-:   0%|                                                                        | 0/79 [00:00<?, ?it/s]"
     ]
    },
    {
     "name": "stdout",
     "output_type": "stream",
     "text": [
      "Training at epoch-43 | loss: 1.5859984595452428\tTop1 Acc: 0.5805400000190735\n"
     ]
    },
    {
     "name": "stderr",
     "output_type": "stream",
     "text": [
      "Valiation at -43-: 100%|███████████████████████████████████████████████████████████████| 79/79 [00:03<00:00, 21.18it/s]\n",
      "Epoch-44-:   0%|                                                                               | 0/391 [00:00<?, ?it/s]"
     ]
    },
    {
     "name": "stdout",
     "output_type": "stream",
     "text": [
      "Validation results at epoch-43 | loss: 2.250904489167129\tTop1 Acc: 0.4767\n"
     ]
    },
    {
     "name": "stderr",
     "output_type": "stream",
     "text": [
      "Epoch-44-:   1%|▋                                                                      | 4/391 [00:05<24:59,  3.88s/it]"
     ]
    },
    {
     "name": "stdout",
     "output_type": "stream",
     "text": [
      "current learning rate:0.06387014543809225\n"
     ]
    },
    {
     "name": "stderr",
     "output_type": "stream",
     "text": [
      "Epoch-44-: 100%|█████████████████████████████████████████████████████████████████████| 391/391 [00:17<00:00, 22.84it/s]\n",
      "Valiation at -44-:   0%|                                                                        | 0/79 [00:00<?, ?it/s]"
     ]
    },
    {
     "name": "stdout",
     "output_type": "stream",
     "text": [
      "Training at epoch-44 | loss: 1.574046567272957\tTop1 Acc: 0.581720000038147\n"
     ]
    },
    {
     "name": "stderr",
     "output_type": "stream",
     "text": [
      "Valiation at -44-: 100%|███████████████████████████████████████████████████████████████| 79/79 [00:03<00:00, 20.84it/s]\n",
      "Epoch-45-:   0%|                                                                               | 0/391 [00:00<?, ?it/s]"
     ]
    },
    {
     "name": "stdout",
     "output_type": "stream",
     "text": [
      "Validation results at epoch-44 | loss: 1.8075628476806833\tTop1 Acc: 0.5421\n"
     ]
    },
    {
     "name": "stderr",
     "output_type": "stream",
     "text": [
      "Epoch-45-:   1%|▋                                                                      | 4/391 [00:05<25:47,  4.00s/it]"
     ]
    },
    {
     "name": "stdout",
     "output_type": "stream",
     "text": [
      "current learning rate:0.062274274357039965\n"
     ]
    },
    {
     "name": "stderr",
     "output_type": "stream",
     "text": [
      "Epoch-45-: 100%|█████████████████████████████████████████████████████████████████████| 391/391 [00:17<00:00, 22.27it/s]\n",
      "Valiation at -45-:   0%|                                                                        | 0/79 [00:00<?, ?it/s]"
     ]
    },
    {
     "name": "stdout",
     "output_type": "stream",
     "text": [
      "Training at epoch-45 | loss: 1.5420319784022962\tTop1 Acc: 0.5899200000190735\n"
     ]
    },
    {
     "name": "stderr",
     "output_type": "stream",
     "text": [
      "Valiation at -45-: 100%|███████████████████████████████████████████████████████████████| 79/79 [00:04<00:00, 19.24it/s]\n",
      "Epoch-46-:   0%|                                                                               | 0/391 [00:00<?, ?it/s]"
     ]
    },
    {
     "name": "stdout",
     "output_type": "stream",
     "text": [
      "Validation results at epoch-45 | loss: 1.782670743857758\tTop1 Acc: 0.5404\n"
     ]
    },
    {
     "name": "stderr",
     "output_type": "stream",
     "text": [
      "Epoch-46-:   1%|▉                                                                      | 5/391 [00:05<25:26,  3.95s/it]"
     ]
    },
    {
     "name": "stdout",
     "output_type": "stream",
     "text": [
      "current learning rate:0.06066498153718736\n"
     ]
    },
    {
     "name": "stderr",
     "output_type": "stream",
     "text": [
      "Epoch-46-: 100%|█████████████████████████████████████████████████████████████████████| 391/391 [00:17<00:00, 22.65it/s]\n",
      "Valiation at -46-:   0%|                                                                        | 0/79 [00:00<?, ?it/s]"
     ]
    },
    {
     "name": "stdout",
     "output_type": "stream",
     "text": [
      "Training at epoch-46 | loss: 1.5246418757206948\tTop1 Acc: 0.5943199999809265\n"
     ]
    },
    {
     "name": "stderr",
     "output_type": "stream",
     "text": [
      "Valiation at -46-: 100%|███████████████████████████████████████████████████████████████| 79/79 [00:03<00:00, 21.07it/s]\n",
      "Epoch-47-:   0%|                                                                               | 0/391 [00:00<?, ?it/s]"
     ]
    },
    {
     "name": "stdout",
     "output_type": "stream",
     "text": [
      "Validation results at epoch-46 | loss: 1.8906865874423255\tTop1 Acc: 0.5219\n"
     ]
    },
    {
     "name": "stderr",
     "output_type": "stream",
     "text": [
      "Epoch-47-:   1%|▉                                                                      | 5/391 [00:05<24:54,  3.87s/it]"
     ]
    },
    {
     "name": "stdout",
     "output_type": "stream",
     "text": [
      "current learning rate:0.0590440267166055\n"
     ]
    },
    {
     "name": "stderr",
     "output_type": "stream",
     "text": [
      "Epoch-47-: 100%|█████████████████████████████████████████████████████████████████████| 391/391 [00:17<00:00, 22.62it/s]\n",
      "Valiation at -47-:   0%|                                                                        | 0/79 [00:00<?, ?it/s]"
     ]
    },
    {
     "name": "stdout",
     "output_type": "stream",
     "text": [
      "Training at epoch-47 | loss: 1.5168627104186037\tTop1 Acc: 0.59718\n"
     ]
    },
    {
     "name": "stderr",
     "output_type": "stream",
     "text": [
      "Valiation at -47-: 100%|███████████████████████████████████████████████████████████████| 79/79 [00:03<00:00, 20.77it/s]\n",
      "Epoch-48-:   0%|                                                                               | 0/391 [00:00<?, ?it/s]"
     ]
    },
    {
     "name": "stdout",
     "output_type": "stream",
     "text": [
      "Validation results at epoch-47 | loss: 1.7925787047494817\tTop1 Acc: 0.5342\n"
     ]
    },
    {
     "name": "stderr",
     "output_type": "stream",
     "text": [
      "Epoch-48-:   1%|▋                                                                      | 4/391 [00:05<24:40,  3.82s/it]"
     ]
    },
    {
     "name": "stdout",
     "output_type": "stream",
     "text": [
      "current learning rate:0.0574131823855921\n"
     ]
    },
    {
     "name": "stderr",
     "output_type": "stream",
     "text": [
      "Epoch-48-: 100%|█████████████████████████████████████████████████████████████████████| 391/391 [00:17<00:00, 22.37it/s]\n",
      "Valiation at -48-:   0%|                                                                        | 0/79 [00:00<?, ?it/s]"
     ]
    },
    {
     "name": "stdout",
     "output_type": "stream",
     "text": [
      "Training at epoch-48 | loss: 1.4851997435245368\tTop1 Acc: 0.603640000038147\n"
     ]
    },
    {
     "name": "stderr",
     "output_type": "stream",
     "text": [
      "Valiation at -48-: 100%|███████████████████████████████████████████████████████████████| 79/79 [00:03<00:00, 20.40it/s]\n",
      "Epoch-49-:   0%|                                                                               | 0/391 [00:00<?, ?it/s]"
     ]
    },
    {
     "name": "stdout",
     "output_type": "stream",
     "text": [
      "Validation results at epoch-48 | loss: 1.6415729839590532\tTop1 Acc: 0.5723\n"
     ]
    },
    {
     "name": "stderr",
     "output_type": "stream",
     "text": [
      "Epoch-49-:   1%|▉                                                                      | 5/391 [00:05<24:44,  3.85s/it]"
     ]
    },
    {
     "name": "stdout",
     "output_type": "stream",
     "text": [
      "current learning rate:0.05577423184847931\n"
     ]
    },
    {
     "name": "stderr",
     "output_type": "stream",
     "text": [
      "Epoch-49-: 100%|█████████████████████████████████████████████████████████████████████| 391/391 [00:17<00:00, 22.83it/s]\n",
      "Valiation at -49-:   0%|                                                                        | 0/79 [00:00<?, ?it/s]"
     ]
    },
    {
     "name": "stdout",
     "output_type": "stream",
     "text": [
      "Training at epoch-49 | loss: 1.467140986181586\tTop1 Acc: 0.60792\n"
     ]
    },
    {
     "name": "stderr",
     "output_type": "stream",
     "text": [
      "Valiation at -49-: 100%|███████████████████████████████████████████████████████████████| 79/79 [00:03<00:00, 21.40it/s]\n",
      "Epoch-50-:   0%|                                                                               | 0/391 [00:00<?, ?it/s]"
     ]
    },
    {
     "name": "stdout",
     "output_type": "stream",
     "text": [
      "Validation results at epoch-49 | loss: 1.6446881233891355\tTop1 Acc: 0.5797\n"
     ]
    },
    {
     "name": "stderr",
     "output_type": "stream",
     "text": [
      "Epoch-50-:   1%|▉                                                                      | 5/391 [00:05<24:25,  3.80s/it]"
     ]
    },
    {
     "name": "stdout",
     "output_type": "stream",
     "text": [
      "current learning rate:0.05412896727361663\n"
     ]
    },
    {
     "name": "stderr",
     "output_type": "stream",
     "text": [
      "Epoch-50-: 100%|█████████████████████████████████████████████████████████████████████| 391/391 [00:16<00:00, 23.01it/s]\n",
      "Valiation at -50-:   0%|                                                                        | 0/79 [00:00<?, ?it/s]"
     ]
    },
    {
     "name": "stdout",
     "output_type": "stream",
     "text": [
      "Training at epoch-50 | loss: 1.455617347336791\tTop1 Acc: 0.610640000038147\n"
     ]
    },
    {
     "name": "stderr",
     "output_type": "stream",
     "text": [
      "Valiation at -50-: 100%|███████████████████████████████████████████████████████████████| 79/79 [00:03<00:00, 21.11it/s]\n",
      "Epoch-51-:   0%|                                                                               | 0/391 [00:00<?, ?it/s]"
     ]
    },
    {
     "name": "stdout",
     "output_type": "stream",
     "text": [
      "Validation results at epoch-50 | loss: 1.73886207538315\tTop1 Acc: 0.5636\n"
     ]
    },
    {
     "name": "stderr",
     "output_type": "stream",
     "text": [
      "Epoch-51-:   1%|▋                                                                      | 4/391 [00:05<25:31,  3.96s/it]"
     ]
    },
    {
     "name": "stdout",
     "output_type": "stream",
     "text": [
      "current learning rate:0.052479187733661115\n"
     ]
    },
    {
     "name": "stderr",
     "output_type": "stream",
     "text": [
      "Epoch-51-: 100%|█████████████████████████████████████████████████████████████████████| 391/391 [00:17<00:00, 22.21it/s]\n",
      "Valiation at -51-:   0%|                                                                        | 0/79 [00:00<?, ?it/s]"
     ]
    },
    {
     "name": "stdout",
     "output_type": "stream",
     "text": [
      "Training at epoch-51 | loss: 1.4367429106436727\tTop1 Acc: 0.61328\n"
     ]
    },
    {
     "name": "stderr",
     "output_type": "stream",
     "text": [
      "Valiation at -51-: 100%|███████████████████████████████████████████████████████████████| 79/79 [00:03<00:00, 21.05it/s]\n",
      "Epoch-52-:   0%|                                                                               | 0/391 [00:00<?, ?it/s]"
     ]
    },
    {
     "name": "stdout",
     "output_type": "stream",
     "text": [
      "Validation results at epoch-51 | loss: 1.6897336003146595\tTop1 Acc: 0.5645\n"
     ]
    },
    {
     "name": "stderr",
     "output_type": "stream",
     "text": [
      "Epoch-52-:   1%|▋                                                                      | 4/391 [00:05<24:47,  3.84s/it]"
     ]
    },
    {
     "name": "stdout",
     "output_type": "stream",
     "text": [
      "current learning rate:0.05082669723831793\n"
     ]
    },
    {
     "name": "stderr",
     "output_type": "stream",
     "text": [
      "Epoch-52-: 100%|█████████████████████████████████████████████████████████████████████| 391/391 [00:17<00:00, 22.83it/s]\n",
      "Valiation at -52-:   0%|                                                                        | 0/79 [00:00<?, ?it/s]"
     ]
    },
    {
     "name": "stdout",
     "output_type": "stream",
     "text": [
      "Training at epoch-52 | loss: 1.4096836153503574\tTop1 Acc: 0.62216\n"
     ]
    },
    {
     "name": "stderr",
     "output_type": "stream",
     "text": [
      "Valiation at -52-: 100%|███████████████████████████████████████████████████████████████| 79/79 [00:03<00:00, 20.99it/s]\n",
      "Epoch-53-:   0%|                                                                               | 0/391 [00:00<?, ?it/s]"
     ]
    },
    {
     "name": "stdout",
     "output_type": "stream",
     "text": [
      "Validation results at epoch-52 | loss: 1.604008081593091\tTop1 Acc: 0.5817\n"
     ]
    },
    {
     "name": "stderr",
     "output_type": "stream",
     "text": [
      "Epoch-53-:   1%|▉                                                                      | 5/391 [00:05<24:51,  3.86s/it]"
     ]
    },
    {
     "name": "stdout",
     "output_type": "stream",
     "text": [
      "current learning rate:0.04917330276168208\n"
     ]
    },
    {
     "name": "stderr",
     "output_type": "stream",
     "text": [
      "Epoch-53-: 100%|█████████████████████████████████████████████████████████████████████| 391/391 [00:17<00:00, 22.72it/s]\n",
      "Valiation at -53-:   0%|                                                                        | 0/79 [00:00<?, ?it/s]"
     ]
    },
    {
     "name": "stdout",
     "output_type": "stream",
     "text": [
      "Training at epoch-53 | loss: 1.394931088780503\tTop1 Acc: 0.6265000000190735\n"
     ]
    },
    {
     "name": "stderr",
     "output_type": "stream",
     "text": [
      "Valiation at -53-: 100%|███████████████████████████████████████████████████████████████| 79/79 [00:03<00:00, 21.42it/s]\n",
      "Epoch-54-:   0%|                                                                               | 0/391 [00:00<?, ?it/s]"
     ]
    },
    {
     "name": "stdout",
     "output_type": "stream",
     "text": [
      "Validation results at epoch-53 | loss: 1.663891929614393\tTop1 Acc: 0.5668\n"
     ]
    },
    {
     "name": "stderr",
     "output_type": "stream",
     "text": [
      "Epoch-54-:   1%|▋                                                                      | 4/391 [00:05<24:50,  3.85s/it]"
     ]
    },
    {
     "name": "stdout",
     "output_type": "stream",
     "text": [
      "current learning rate:0.04752081226633889\n"
     ]
    },
    {
     "name": "stderr",
     "output_type": "stream",
     "text": [
      "Epoch-54-: 100%|█████████████████████████████████████████████████████████████████████| 391/391 [00:17<00:00, 22.75it/s]\n",
      "Valiation at -54-:   0%|                                                                        | 0/79 [00:00<?, ?it/s]"
     ]
    },
    {
     "name": "stdout",
     "output_type": "stream",
     "text": [
      "Training at epoch-54 | loss: 1.366510963500918\tTop1 Acc: 0.63172\n"
     ]
    },
    {
     "name": "stderr",
     "output_type": "stream",
     "text": [
      "Valiation at -54-: 100%|███████████████████████████████████████████████████████████████| 79/79 [00:03<00:00, 21.14it/s]\n",
      "Epoch-55-:   0%|                                                                               | 0/391 [00:00<?, ?it/s]"
     ]
    },
    {
     "name": "stdout",
     "output_type": "stream",
     "text": [
      "Validation results at epoch-54 | loss: 1.7068986968149114\tTop1 Acc: 0.5698\n"
     ]
    },
    {
     "name": "stderr",
     "output_type": "stream",
     "text": [
      "Epoch-55-:   1%|▉                                                                      | 5/391 [00:05<24:50,  3.86s/it]"
     ]
    },
    {
     "name": "stdout",
     "output_type": "stream",
     "text": [
      "current learning rate:0.04587103272638339\n"
     ]
    },
    {
     "name": "stderr",
     "output_type": "stream",
     "text": [
      "Epoch-55-: 100%|█████████████████████████████████████████████████████████████████████| 391/391 [00:17<00:00, 22.52it/s]\n",
      "Valiation at -55-:   0%|                                                                        | 0/79 [00:00<?, ?it/s]"
     ]
    },
    {
     "name": "stdout",
     "output_type": "stream",
     "text": [
      "Training at epoch-55 | loss: 1.347494185885505\tTop1 Acc: 0.6368399999809266\n"
     ]
    },
    {
     "name": "stderr",
     "output_type": "stream",
     "text": [
      "Valiation at -55-: 100%|███████████████████████████████████████████████████████████████| 79/79 [00:03<00:00, 21.17it/s]\n",
      "Epoch-56-:   0%|                                                                               | 0/391 [00:00<?, ?it/s]"
     ]
    },
    {
     "name": "stdout",
     "output_type": "stream",
     "text": [
      "Validation results at epoch-55 | loss: 1.5764992765233488\tTop1 Acc: 0.5891\n"
     ]
    },
    {
     "name": "stderr",
     "output_type": "stream",
     "text": [
      "Epoch-56-:   1%|▉                                                                      | 5/391 [00:05<24:42,  3.84s/it]"
     ]
    },
    {
     "name": "stdout",
     "output_type": "stream",
     "text": [
      "current learning rate:0.04422576815152071\n"
     ]
    },
    {
     "name": "stderr",
     "output_type": "stream",
     "text": [
      "Epoch-56-: 100%|█████████████████████████████████████████████████████████████████████| 391/391 [00:17<00:00, 22.71it/s]\n",
      "Valiation at -56-:   0%|                                                                        | 0/79 [00:00<?, ?it/s]"
     ]
    },
    {
     "name": "stdout",
     "output_type": "stream",
     "text": [
      "Training at epoch-56 | loss: 1.3262653645042264\tTop1 Acc: 0.6404000000572204\n"
     ]
    },
    {
     "name": "stderr",
     "output_type": "stream",
     "text": [
      "Valiation at -56-: 100%|███████████████████████████████████████████████████████████████| 79/79 [00:03<00:00, 20.63it/s]\n",
      "Epoch-57-:   0%|                                                                               | 0/391 [00:00<?, ?it/s]"
     ]
    },
    {
     "name": "stdout",
     "output_type": "stream",
     "text": [
      "Validation results at epoch-56 | loss: 1.5634506940841675\tTop1 Acc: 0.5905\n"
     ]
    },
    {
     "name": "stderr",
     "output_type": "stream",
     "text": [
      "Epoch-57-:   1%|▋                                                                      | 4/391 [00:05<25:01,  3.88s/it]"
     ]
    },
    {
     "name": "stdout",
     "output_type": "stream",
     "text": [
      "current learning rate:0.04258681761440791\n"
     ]
    },
    {
     "name": "stderr",
     "output_type": "stream",
     "text": [
      "Epoch-57-: 100%|█████████████████████████████████████████████████████████████████████| 391/391 [00:17<00:00, 22.62it/s]\n",
      "Valiation at -57-:   0%|                                                                        | 0/79 [00:00<?, ?it/s]"
     ]
    },
    {
     "name": "stdout",
     "output_type": "stream",
     "text": [
      "Training at epoch-57 | loss: 1.3008353403767052\tTop1 Acc: 0.646240000038147\n"
     ]
    },
    {
     "name": "stderr",
     "output_type": "stream",
     "text": [
      "Valiation at -57-: 100%|███████████████████████████████████████████████████████████████| 79/79 [00:03<00:00, 21.09it/s]\n",
      "Epoch-58-:   0%|                                                                               | 0/391 [00:00<?, ?it/s]"
     ]
    },
    {
     "name": "stdout",
     "output_type": "stream",
     "text": [
      "Validation results at epoch-57 | loss: 1.6064541702029072\tTop1 Acc: 0.5853\n"
     ]
    },
    {
     "name": "stderr",
     "output_type": "stream",
     "text": [
      "Epoch-58-:   1%|▋                                                                      | 4/391 [00:05<24:57,  3.87s/it]"
     ]
    },
    {
     "name": "stdout",
     "output_type": "stream",
     "text": [
      "current learning rate:0.04095597328339452\n"
     ]
    },
    {
     "name": "stderr",
     "output_type": "stream",
     "text": [
      "Epoch-58-: 100%|█████████████████████████████████████████████████████████████████████| 391/391 [00:17<00:00, 22.46it/s]\n",
      "Valiation at -58-:   0%|                                                                        | 0/79 [00:00<?, ?it/s]"
     ]
    },
    {
     "name": "stdout",
     "output_type": "stream",
     "text": [
      "Training at epoch-58 | loss: 1.288074737009795\tTop1 Acc: 0.6493000000381469\n"
     ]
    },
    {
     "name": "stderr",
     "output_type": "stream",
     "text": [
      "Valiation at -58-: 100%|███████████████████████████████████████████████████████████████| 79/79 [00:03<00:00, 21.06it/s]\n",
      "Epoch-59-:   0%|                                                                               | 0/391 [00:00<?, ?it/s]"
     ]
    },
    {
     "name": "stdout",
     "output_type": "stream",
     "text": [
      "Validation results at epoch-58 | loss: 1.5918060118639017\tTop1 Acc: 0.5883\n"
     ]
    },
    {
     "name": "stderr",
     "output_type": "stream",
     "text": [
      "Epoch-59-:   1%|▉                                                                      | 5/391 [00:05<25:09,  3.91s/it]"
     ]
    },
    {
     "name": "stdout",
     "output_type": "stream",
     "text": [
      "current learning rate:0.03933501846281267\n"
     ]
    },
    {
     "name": "stderr",
     "output_type": "stream",
     "text": [
      "Epoch-59-: 100%|█████████████████████████████████████████████████████████████████████| 391/391 [00:17<00:00, 22.52it/s]\n",
      "Valiation at -59-:   0%|                                                                        | 0/79 [00:00<?, ?it/s]"
     ]
    },
    {
     "name": "stdout",
     "output_type": "stream",
     "text": [
      "Training at epoch-59 | loss: 1.2567329144538821\tTop1 Acc: 0.6566000000572204\n"
     ]
    },
    {
     "name": "stderr",
     "output_type": "stream",
     "text": [
      "Valiation at -59-: 100%|███████████████████████████████████████████████████████████████| 79/79 [00:03<00:00, 21.09it/s]\n",
      "Epoch-60-:   0%|                                                                               | 0/391 [00:00<?, ?it/s]"
     ]
    },
    {
     "name": "stdout",
     "output_type": "stream",
     "text": [
      "Validation results at epoch-59 | loss: 1.5748242486881305\tTop1 Acc: 0.5915\n"
     ]
    },
    {
     "name": "stderr",
     "output_type": "stream",
     "text": [
      "Epoch-60-:   1%|▋                                                                      | 4/391 [00:05<25:23,  3.94s/it]"
     ]
    },
    {
     "name": "stdout",
     "output_type": "stream",
     "text": [
      "current learning rate:0.03772572564296005\n"
     ]
    },
    {
     "name": "stderr",
     "output_type": "stream",
     "text": [
      "Epoch-60-: 100%|█████████████████████████████████████████████████████████████████████| 391/391 [00:17<00:00, 22.64it/s]\n",
      "Valiation at -60-:   0%|                                                                        | 0/79 [00:00<?, ?it/s]"
     ]
    },
    {
     "name": "stdout",
     "output_type": "stream",
     "text": [
      "Training at epoch-60 | loss: 1.2294485373875064\tTop1 Acc: 0.6599600000381469\n"
     ]
    },
    {
     "name": "stderr",
     "output_type": "stream",
     "text": [
      "Valiation at -60-: 100%|███████████████████████████████████████████████████████████████| 79/79 [00:03<00:00, 20.61it/s]\n",
      "Epoch-61-:   0%|                                                                               | 0/391 [00:00<?, ?it/s]"
     ]
    },
    {
     "name": "stdout",
     "output_type": "stream",
     "text": [
      "Validation results at epoch-60 | loss: 1.6293247757078726\tTop1 Acc: 0.5871\n"
     ]
    },
    {
     "name": "stderr",
     "output_type": "stream",
     "text": [
      "Epoch-61-:   1%|▉                                                                      | 5/391 [00:05<25:15,  3.93s/it]"
     ]
    },
    {
     "name": "stdout",
     "output_type": "stream",
     "text": [
      "current learning rate:0.03612985456190777\n"
     ]
    },
    {
     "name": "stderr",
     "output_type": "stream",
     "text": [
      "Epoch-61-: 100%|█████████████████████████████████████████████████████████████████████| 391/391 [00:17<00:00, 22.69it/s]\n",
      "Valiation at -61-:   0%|                                                                        | 0/79 [00:00<?, ?it/s]"
     ]
    },
    {
     "name": "stdout",
     "output_type": "stream",
     "text": [
      "Training at epoch-61 | loss: 1.2029735607564296\tTop1 Acc: 0.6700400000572204\n"
     ]
    },
    {
     "name": "stderr",
     "output_type": "stream",
     "text": [
      "Valiation at -61-: 100%|███████████████████████████████████████████████████████████████| 79/79 [00:03<00:00, 21.10it/s]\n",
      "Epoch-62-:   0%|                                                                               | 0/391 [00:00<?, ?it/s]"
     ]
    },
    {
     "name": "stdout",
     "output_type": "stream",
     "text": [
      "Validation results at epoch-61 | loss: 1.4742137963258768\tTop1 Acc: 0.6116\n"
     ]
    },
    {
     "name": "stderr",
     "output_type": "stream",
     "text": [
      "Epoch-62-:   1%|▉                                                                      | 5/391 [00:05<24:36,  3.83s/it]"
     ]
    },
    {
     "name": "stdout",
     "output_type": "stream",
     "text": [
      "current learning rate:0.034549150281252626\n"
     ]
    },
    {
     "name": "stderr",
     "output_type": "stream",
     "text": [
      "Epoch-62-: 100%|█████████████████████████████████████████████████████████████████████| 391/391 [00:17<00:00, 22.88it/s]\n",
      "Valiation at -62-:   0%|                                                                        | 0/79 [00:00<?, ?it/s]"
     ]
    },
    {
     "name": "stdout",
     "output_type": "stream",
     "text": [
      "Training at epoch-62 | loss: 1.179189612341049\tTop1 Acc: 0.67578\n"
     ]
    },
    {
     "name": "stderr",
     "output_type": "stream",
     "text": [
      "Valiation at -62-: 100%|███████████████████████████████████████████████████████████████| 79/79 [00:03<00:00, 20.64it/s]\n",
      "Epoch-63-:   0%|                                                                               | 0/391 [00:00<?, ?it/s]"
     ]
    },
    {
     "name": "stdout",
     "output_type": "stream",
     "text": [
      "Validation results at epoch-62 | loss: 1.6776790875422805\tTop1 Acc: 0.5837\n"
     ]
    },
    {
     "name": "stderr",
     "output_type": "stream",
     "text": [
      "Epoch-63-:   1%|▉                                                                      | 5/391 [00:05<24:46,  3.85s/it]"
     ]
    },
    {
     "name": "stdout",
     "output_type": "stream",
     "text": [
      "current learning rate:0.03298534127791786\n"
     ]
    },
    {
     "name": "stderr",
     "output_type": "stream",
     "text": [
      "Epoch-63-: 100%|█████████████████████████████████████████████████████████████████████| 391/391 [00:17<00:00, 22.84it/s]\n",
      "Valiation at -63-:   0%|                                                                        | 0/79 [00:00<?, ?it/s]"
     ]
    },
    {
     "name": "stdout",
     "output_type": "stream",
     "text": [
      "Training at epoch-63 | loss: 1.1548843339581014\tTop1 Acc: 0.6800399999809266\n"
     ]
    },
    {
     "name": "stderr",
     "output_type": "stream",
     "text": [
      "Valiation at -63-: 100%|███████████████████████████████████████████████████████████████| 79/79 [00:03<00:00, 20.51it/s]\n",
      "Epoch-64-:   0%|                                                                               | 0/391 [00:00<?, ?it/s]"
     ]
    },
    {
     "name": "stdout",
     "output_type": "stream",
     "text": [
      "Validation results at epoch-63 | loss: 1.468461975266662\tTop1 Acc: 0.6133\n"
     ]
    },
    {
     "name": "stderr",
     "output_type": "stream",
     "text": [
      "Epoch-64-:   1%|▉                                                                      | 5/391 [00:05<25:14,  3.92s/it]"
     ]
    },
    {
     "name": "stdout",
     "output_type": "stream",
     "text": [
      "current learning rate:0.03144013755408897\n"
     ]
    },
    {
     "name": "stderr",
     "output_type": "stream",
     "text": [
      "Epoch-64-: 100%|█████████████████████████████████████████████████████████████████████| 391/391 [00:17<00:00, 22.63it/s]\n",
      "Valiation at -64-:   0%|                                                                        | 0/79 [00:00<?, ?it/s]"
     ]
    },
    {
     "name": "stdout",
     "output_type": "stream",
     "text": [
      "Training at epoch-64 | loss: 1.1229291011000533\tTop1 Acc: 0.6877799999809265\n"
     ]
    },
    {
     "name": "stderr",
     "output_type": "stream",
     "text": [
      "Valiation at -64-: 100%|███████████████████████████████████████████████████████████████| 79/79 [00:03<00:00, 20.88it/s]\n",
      "Epoch-65-:   0%|                                                                               | 0/391 [00:00<?, ?it/s]"
     ]
    },
    {
     "name": "stdout",
     "output_type": "stream",
     "text": [
      "Validation results at epoch-64 | loss: 1.5361744074881831\tTop1 Acc: 0.6077\n"
     ]
    },
    {
     "name": "stderr",
     "output_type": "stream",
     "text": [
      "Epoch-65-:   1%|▋                                                                      | 4/391 [00:05<24:49,  3.85s/it]"
     ]
    },
    {
     "name": "stdout",
     "output_type": "stream",
     "text": [
      "current learning rate:0.02991522876735153\n"
     ]
    },
    {
     "name": "stderr",
     "output_type": "stream",
     "text": [
      "Epoch-65-: 100%|█████████████████████████████████████████████████████████████████████| 391/391 [00:17<00:00, 22.81it/s]\n",
      "Valiation at -65-:   0%|                                                                        | 0/79 [00:00<?, ?it/s]"
     ]
    },
    {
     "name": "stdout",
     "output_type": "stream",
     "text": [
      "Training at epoch-65 | loss: 1.1010141866591276\tTop1 Acc: 0.69394\n"
     ]
    },
    {
     "name": "stderr",
     "output_type": "stream",
     "text": [
      "Valiation at -65-: 100%|███████████████████████████████████████████████████████████████| 79/79 [00:03<00:00, 21.10it/s]\n",
      "Epoch-66-:   0%|                                                                               | 0/391 [00:00<?, ?it/s]"
     ]
    },
    {
     "name": "stdout",
     "output_type": "stream",
     "text": [
      "Validation results at epoch-65 | loss: 1.3692578877074808\tTop1 Acc: 0.6387\n"
     ]
    },
    {
     "name": "stderr",
     "output_type": "stream",
     "text": [
      "Epoch-66-:   1%|▋                                                                      | 4/391 [00:05<25:00,  3.88s/it]"
     ]
    },
    {
     "name": "stdout",
     "output_type": "stream",
     "text": [
      "current learning rate:0.02841228238307534\n"
     ]
    },
    {
     "name": "stderr",
     "output_type": "stream",
     "text": [
      "Epoch-66-: 100%|█████████████████████████████████████████████████████████████████████| 391/391 [00:17<00:00, 22.43it/s]\n",
      "Valiation at -66-:   0%|                                                                        | 0/79 [00:00<?, ?it/s]"
     ]
    },
    {
     "name": "stdout",
     "output_type": "stream",
     "text": [
      "Training at epoch-66 | loss: 1.0583733596155405\tTop1 Acc: 0.7045999999809265\n"
     ]
    },
    {
     "name": "stderr",
     "output_type": "stream",
     "text": [
      "Valiation at -66-: 100%|███████████████████████████████████████████████████████████████| 79/79 [00:03<00:00, 21.31it/s]\n",
      "Epoch-67-:   0%|                                                                               | 0/391 [00:00<?, ?it/s]"
     ]
    },
    {
     "name": "stdout",
     "output_type": "stream",
     "text": [
      "Validation results at epoch-66 | loss: 1.405798483498489\tTop1 Acc: 0.6337\n"
     ]
    },
    {
     "name": "stderr",
     "output_type": "stream",
     "text": [
      "Epoch-67-:   1%|▉                                                                      | 5/391 [00:05<25:00,  3.89s/it]"
     ]
    },
    {
     "name": "stdout",
     "output_type": "stream",
     "text": [
      "current learning rate:0.02693294185106562\n"
     ]
    },
    {
     "name": "stderr",
     "output_type": "stream",
     "text": [
      "Epoch-67-: 100%|█████████████████████████████████████████████████████████████████████| 391/391 [00:17<00:00, 22.54it/s]\n",
      "Valiation at -67-:   0%|                                                                        | 0/79 [00:00<?, ?it/s]"
     ]
    },
    {
     "name": "stdout",
     "output_type": "stream",
     "text": [
      "Training at epoch-67 | loss: 1.029284016403091\tTop1 Acc: 0.7108000000572204\n"
     ]
    },
    {
     "name": "stderr",
     "output_type": "stream",
     "text": [
      "Valiation at -67-: 100%|███████████████████████████████████████████████████████████████| 79/79 [00:03<00:00, 20.43it/s]\n",
      "Epoch-68-:   0%|                                                                               | 0/391 [00:00<?, ?it/s]"
     ]
    },
    {
     "name": "stdout",
     "output_type": "stream",
     "text": [
      "Validation results at epoch-67 | loss: 1.55340413504009\tTop1 Acc: 0.6114\n"
     ]
    },
    {
     "name": "stderr",
     "output_type": "stream",
     "text": [
      "Epoch-68-:   1%|▋                                                                      | 4/391 [00:05<25:09,  3.90s/it]"
     ]
    },
    {
     "name": "stdout",
     "output_type": "stream",
     "text": [
      "current learning rate:0.025478824808474593\n"
     ]
    },
    {
     "name": "stderr",
     "output_type": "stream",
     "text": [
      "Epoch-68-: 100%|█████████████████████████████████████████████████████████████████████| 391/391 [00:17<00:00, 22.48it/s]\n",
      "Valiation at -68-:   0%|                                                                        | 0/79 [00:00<?, ?it/s]"
     ]
    },
    {
     "name": "stdout",
     "output_type": "stream",
     "text": [
      "Training at epoch-68 | loss: 1.003658113577177\tTop1 Acc: 0.7184200000572205\n"
     ]
    },
    {
     "name": "stderr",
     "output_type": "stream",
     "text": [
      "Valiation at -68-: 100%|███████████████████████████████████████████████████████████████| 79/79 [00:03<00:00, 21.15it/s]\n",
      "Epoch-69-:   0%|                                                                               | 0/391 [00:00<?, ?it/s]"
     ]
    },
    {
     "name": "stdout",
     "output_type": "stream",
     "text": [
      "Validation results at epoch-68 | loss: 1.3959510115128528\tTop1 Acc: 0.6362\n"
     ]
    },
    {
     "name": "stderr",
     "output_type": "stream",
     "text": [
      "Epoch-69-:   1%|▋                                                                      | 4/391 [00:05<25:02,  3.88s/it]"
     ]
    },
    {
     "name": "stdout",
     "output_type": "stream",
     "text": [
      "current learning rate:0.02405152131093924\n"
     ]
    },
    {
     "name": "stderr",
     "output_type": "stream",
     "text": [
      "Epoch-69-: 100%|█████████████████████████████████████████████████████████████████████| 391/391 [00:17<00:00, 22.29it/s]\n",
      "Valiation at -69-:   0%|                                                                        | 0/79 [00:00<?, ?it/s]"
     ]
    },
    {
     "name": "stdout",
     "output_type": "stream",
     "text": [
      "Training at epoch-69 | loss: 0.9725585864937824\tTop1 Acc: 0.7252400000572204\n"
     ]
    },
    {
     "name": "stderr",
     "output_type": "stream",
     "text": [
      "Valiation at -69-: 100%|███████████████████████████████████████████████████████████████| 79/79 [00:03<00:00, 20.58it/s]\n",
      "Epoch-70-:   0%|                                                                               | 0/391 [00:00<?, ?it/s]"
     ]
    },
    {
     "name": "stdout",
     "output_type": "stream",
     "text": [
      "Validation results at epoch-69 | loss: 1.4598543508143365\tTop1 Acc: 0.6336\n"
     ]
    },
    {
     "name": "stderr",
     "output_type": "stream",
     "text": [
      "Epoch-70-:   1%|▋                                                                      | 4/391 [00:05<25:05,  3.89s/it]"
     ]
    },
    {
     "name": "stdout",
     "output_type": "stream",
     "text": [
      "current learning rate:0.02265259209387865\n"
     ]
    },
    {
     "name": "stderr",
     "output_type": "stream",
     "text": [
      "Epoch-70-: 100%|█████████████████████████████████████████████████████████████████████| 391/391 [00:17<00:00, 22.60it/s]\n",
      "Valiation at -70-:   0%|                                                                        | 0/79 [00:00<?, ?it/s]"
     ]
    },
    {
     "name": "stdout",
     "output_type": "stream",
     "text": [
      "Training at epoch-70 | loss: 0.9420122900582335\tTop1 Acc: 0.7339\n"
     ]
    },
    {
     "name": "stderr",
     "output_type": "stream",
     "text": [
      "Valiation at -70-: 100%|███████████████████████████████████████████████████████████████| 79/79 [00:03<00:00, 20.61it/s]\n",
      "Epoch-71-:   0%|                                                                               | 0/391 [00:00<?, ?it/s]"
     ]
    },
    {
     "name": "stdout",
     "output_type": "stream",
     "text": [
      "Validation results at epoch-70 | loss: 1.4159904673129697\tTop1 Acc: 0.6383\n"
     ]
    },
    {
     "name": "stderr",
     "output_type": "stream",
     "text": [
      "Epoch-71-:   1%|▋                                                                      | 4/391 [00:05<26:19,  4.08s/it]"
     ]
    },
    {
     "name": "stdout",
     "output_type": "stream",
     "text": [
      "current learning rate:0.021283566865852824\n"
     ]
    },
    {
     "name": "stderr",
     "output_type": "stream",
     "text": [
      "Epoch-71-: 100%|█████████████████████████████████████████████████████████████████████| 391/391 [00:17<00:00, 22.32it/s]\n",
      "Valiation at -71-:   0%|                                                                        | 0/79 [00:00<?, ?it/s]"
     ]
    },
    {
     "name": "stdout",
     "output_type": "stream",
     "text": [
      "Training at epoch-71 | loss: 0.9115929908459753\tTop1 Acc: 0.7420200000190735\n"
     ]
    },
    {
     "name": "stderr",
     "output_type": "stream",
     "text": [
      "Valiation at -71-: 100%|███████████████████████████████████████████████████████████████| 79/79 [00:03<00:00, 21.11it/s]\n",
      "Epoch-72-:   0%|                                                                               | 0/391 [00:00<?, ?it/s]"
     ]
    },
    {
     "name": "stdout",
     "output_type": "stream",
     "text": [
      "Validation results at epoch-71 | loss: 1.40478808970391\tTop1 Acc: 0.6406\n"
     ]
    },
    {
     "name": "stderr",
     "output_type": "stream",
     "text": [
      "Epoch-72-:   1%|▋                                                                      | 4/391 [00:05<25:22,  3.93s/it]"
     ]
    },
    {
     "name": "stdout",
     "output_type": "stream",
     "text": [
      "current learning rate:0.019945942635848746\n"
     ]
    },
    {
     "name": "stderr",
     "output_type": "stream",
     "text": [
      "Epoch-72-: 100%|█████████████████████████████████████████████████████████████████████| 391/391 [00:17<00:00, 22.51it/s]\n",
      "Valiation at -72-:   0%|                                                                        | 0/79 [00:00<?, ?it/s]"
     ]
    },
    {
     "name": "stdout",
     "output_type": "stream",
     "text": [
      "Training at epoch-72 | loss: 0.884965769241533\tTop1 Acc: 0.74774\n"
     ]
    },
    {
     "name": "stderr",
     "output_type": "stream",
     "text": [
      "Valiation at -72-: 100%|███████████████████████████████████████████████████████████████| 79/79 [00:03<00:00, 21.22it/s]\n",
      "Epoch-73-:   0%|                                                                               | 0/391 [00:00<?, ?it/s]"
     ]
    },
    {
     "name": "stdout",
     "output_type": "stream",
     "text": [
      "Validation results at epoch-72 | loss: 1.3490180825885338\tTop1 Acc: 0.6466\n"
     ]
    },
    {
     "name": "stderr",
     "output_type": "stream",
     "text": [
      "Epoch-73-:   1%|▋                                                                      | 4/391 [00:05<25:33,  3.96s/it]"
     ]
    },
    {
     "name": "stdout",
     "output_type": "stream",
     "text": [
      "current learning rate:0.01864118207632315\n"
     ]
    },
    {
     "name": "stderr",
     "output_type": "stream",
     "text": [
      "Epoch-73-: 100%|█████████████████████████████████████████████████████████████████████| 391/391 [00:17<00:00, 22.13it/s]\n",
      "Valiation at -73-:   0%|                                                                        | 0/79 [00:00<?, ?it/s]"
     ]
    },
    {
     "name": "stdout",
     "output_type": "stream",
     "text": [
      "Training at epoch-73 | loss: 0.8410221198025871\tTop1 Acc: 0.75848\n"
     ]
    },
    {
     "name": "stderr",
     "output_type": "stream",
     "text": [
      "Valiation at -73-: 100%|███████████████████████████████████████████████████████████████| 79/79 [00:03<00:00, 20.15it/s]\n",
      "Epoch-74-:   0%|                                                                               | 0/391 [00:00<?, ?it/s]"
     ]
    },
    {
     "name": "stdout",
     "output_type": "stream",
     "text": [
      "Validation results at epoch-73 | loss: 1.3097735409495197\tTop1 Acc: 0.6592\n"
     ]
    },
    {
     "name": "stderr",
     "output_type": "stream",
     "text": [
      "Epoch-74-:   1%|▉                                                                      | 5/391 [00:05<25:19,  3.94s/it]"
     ]
    },
    {
     "name": "stdout",
     "output_type": "stream",
     "text": [
      "current learning rate:0.017370711923791565\n"
     ]
    },
    {
     "name": "stderr",
     "output_type": "stream",
     "text": [
      "Epoch-74-: 100%|█████████████████████████████████████████████████████████████████████| 391/391 [00:17<00:00, 22.34it/s]\n",
      "Valiation at -74-:   0%|                                                                        | 0/79 [00:00<?, ?it/s]"
     ]
    },
    {
     "name": "stdout",
     "output_type": "stream",
     "text": [
      "Training at epoch-74 | loss: 0.8085019229470617\tTop1 Acc: 0.7692599999809265\n"
     ]
    },
    {
     "name": "stderr",
     "output_type": "stream",
     "text": [
      "Valiation at -74-: 100%|███████████████████████████████████████████████████████████████| 79/79 [00:03<00:00, 20.57it/s]\n",
      "Epoch-75-:   0%|                                                                               | 0/391 [00:00<?, ?it/s]"
     ]
    },
    {
     "name": "stdout",
     "output_type": "stream",
     "text": [
      "Validation results at epoch-74 | loss: 1.3900030277952362\tTop1 Acc: 0.6469\n"
     ]
    },
    {
     "name": "stderr",
     "output_type": "stream",
     "text": [
      "Epoch-75-:   1%|▋                                                                      | 4/391 [00:05<25:30,  3.96s/it]"
     ]
    },
    {
     "name": "stdout",
     "output_type": "stream",
     "text": [
      "current learning rate:0.016135921418712958\n"
     ]
    },
    {
     "name": "stderr",
     "output_type": "stream",
     "text": [
      "Epoch-75-: 100%|█████████████████████████████████████████████████████████████████████| 391/391 [00:17<00:00, 22.67it/s]\n",
      "Valiation at -75-:   0%|                                                                        | 0/79 [00:00<?, ?it/s]"
     ]
    },
    {
     "name": "stdout",
     "output_type": "stream",
     "text": [
      "Training at epoch-75 | loss: 0.7741645606582427\tTop1 Acc: 0.7757000000572205\n"
     ]
    },
    {
     "name": "stderr",
     "output_type": "stream",
     "text": [
      "Valiation at -75-: 100%|███████████████████████████████████████████████████████████████| 79/79 [00:03<00:00, 21.03it/s]\n",
      "Epoch-76-:   0%|                                                                               | 0/391 [00:00<?, ?it/s]"
     ]
    },
    {
     "name": "stdout",
     "output_type": "stream",
     "text": [
      "Validation results at epoch-75 | loss: 1.3124227372905877\tTop1 Acc: 0.6662\n"
     ]
    },
    {
     "name": "stderr",
     "output_type": "stream",
     "text": [
      "Epoch-76-:   1%|▉                                                                      | 5/391 [00:05<25:13,  3.92s/it]"
     ]
    },
    {
     "name": "stdout",
     "output_type": "stream",
     "text": [
      "current learning rate:0.014938160786375571\n"
     ]
    },
    {
     "name": "stderr",
     "output_type": "stream",
     "text": [
      "Epoch-76-: 100%|█████████████████████████████████████████████████████████████████████| 391/391 [00:17<00:00, 22.59it/s]\n",
      "Valiation at -76-:   0%|                                                                        | 0/79 [00:00<?, ?it/s]"
     ]
    },
    {
     "name": "stdout",
     "output_type": "stream",
     "text": [
      "Training at epoch-76 | loss: 0.7428642170660941\tTop1 Acc: 0.785820000038147\n"
     ]
    },
    {
     "name": "stderr",
     "output_type": "stream",
     "text": [
      "Valiation at -76-: 100%|███████████████████████████████████████████████████████████████| 79/79 [00:03<00:00, 21.11it/s]\n",
      "Epoch-77-:   0%|                                                                               | 0/391 [00:00<?, ?it/s]"
     ]
    },
    {
     "name": "stdout",
     "output_type": "stream",
     "text": [
      "Validation results at epoch-76 | loss: 1.3062925097308582\tTop1 Acc: 0.6695\n"
     ]
    },
    {
     "name": "stderr",
     "output_type": "stream",
     "text": [
      "Epoch-77-:   1%|▉                                                                      | 5/391 [00:05<25:04,  3.90s/it]"
     ]
    },
    {
     "name": "stdout",
     "output_type": "stream",
     "text": [
      "current learning rate:0.013778739760445552\n"
     ]
    },
    {
     "name": "stderr",
     "output_type": "stream",
     "text": [
      "Epoch-77-: 100%|█████████████████████████████████████████████████████████████████████| 391/391 [00:17<00:00, 22.58it/s]\n",
      "Valiation at -77-:   0%|                                                                        | 0/79 [00:00<?, ?it/s]"
     ]
    },
    {
     "name": "stdout",
     "output_type": "stream",
     "text": [
      "Training at epoch-77 | loss: 0.7055287758255249\tTop1 Acc: 0.7945\n"
     ]
    },
    {
     "name": "stderr",
     "output_type": "stream",
     "text": [
      "Valiation at -77-: 100%|███████████████████████████████████████████████████████████████| 79/79 [00:03<00:00, 21.15it/s]\n",
      "Epoch-78-:   0%|                                                                               | 0/391 [00:00<?, ?it/s]"
     ]
    },
    {
     "name": "stdout",
     "output_type": "stream",
     "text": [
      "Validation results at epoch-77 | loss: 1.326138778577877\tTop1 Acc: 0.6656\n"
     ]
    },
    {
     "name": "stderr",
     "output_type": "stream",
     "text": [
      "Epoch-78-:   1%|▉                                                                      | 5/391 [00:05<24:45,  3.85s/it]"
     ]
    },
    {
     "name": "stdout",
     "output_type": "stream",
     "text": [
      "current learning rate:0.012658926150792305\n"
     ]
    },
    {
     "name": "stderr",
     "output_type": "stream",
     "text": [
      "Epoch-78-: 100%|█████████████████████████████████████████████████████████████████████| 391/391 [00:17<00:00, 22.66it/s]\n",
      "Valiation at -78-:   0%|                                                                        | 0/79 [00:00<?, ?it/s]"
     ]
    },
    {
     "name": "stdout",
     "output_type": "stream",
     "text": [
      "Training at epoch-78 | loss: 0.6665296253493375\tTop1 Acc: 0.80486\n"
     ]
    },
    {
     "name": "stderr",
     "output_type": "stream",
     "text": [
      "Valiation at -78-: 100%|███████████████████████████████████████████████████████████████| 79/79 [00:03<00:00, 20.83it/s]\n",
      "Epoch-79-:   0%|                                                                               | 0/391 [00:00<?, ?it/s]"
     ]
    },
    {
     "name": "stdout",
     "output_type": "stream",
     "text": [
      "Validation results at epoch-78 | loss: 1.3020450910435448\tTop1 Acc: 0.6736\n"
     ]
    },
    {
     "name": "stderr",
     "output_type": "stream",
     "text": [
      "Epoch-79-:   1%|▋                                                                      | 4/391 [00:05<25:11,  3.90s/it]"
     ]
    },
    {
     "name": "stdout",
     "output_type": "stream",
     "text": [
      "current learning rate:0.01157994445715706\n"
     ]
    },
    {
     "name": "stderr",
     "output_type": "stream",
     "text": [
      "Epoch-79-: 100%|█████████████████████████████████████████████████████████████████████| 391/391 [00:17<00:00, 22.70it/s]\n",
      "Valiation at -79-:   0%|                                                                        | 0/79 [00:00<?, ?it/s]"
     ]
    },
    {
     "name": "stdout",
     "output_type": "stream",
     "text": [
      "Training at epoch-79 | loss: 0.6271217380033429\tTop1 Acc: 0.8149400000572204\n"
     ]
    },
    {
     "name": "stderr",
     "output_type": "stream",
     "text": [
      "Valiation at -79-: 100%|███████████████████████████████████████████████████████████████| 79/79 [00:03<00:00, 21.46it/s]\n",
      "Epoch-80-:   0%|                                                                               | 0/391 [00:00<?, ?it/s]"
     ]
    },
    {
     "name": "stdout",
     "output_type": "stream",
     "text": [
      "Validation results at epoch-79 | loss: 1.2893661849106415\tTop1 Acc: 0.6828\n"
     ]
    },
    {
     "name": "stderr",
     "output_type": "stream",
     "text": [
      "Epoch-80-:   1%|▋                                                                      | 4/391 [00:05<24:38,  3.82s/it]"
     ]
    },
    {
     "name": "stdout",
     "output_type": "stream",
     "text": [
      "current learning rate:0.010542974530180327\n"
     ]
    },
    {
     "name": "stderr",
     "output_type": "stream",
     "text": [
      "Epoch-80-: 100%|█████████████████████████████████████████████████████████████████████| 391/391 [00:17<00:00, 22.92it/s]\n",
      "Valiation at -80-:   0%|                                                                        | 0/79 [00:00<?, ?it/s]"
     ]
    },
    {
     "name": "stdout",
     "output_type": "stream",
     "text": [
      "Training at epoch-80 | loss: 0.5840817186838526\tTop1 Acc: 0.8257\n"
     ]
    },
    {
     "name": "stderr",
     "output_type": "stream",
     "text": [
      "Valiation at -80-: 100%|███████████████████████████████████████████████████████████████| 79/79 [00:03<00:00, 21.26it/s]\n",
      "Epoch-81-:   0%|                                                                               | 0/391 [00:00<?, ?it/s]"
     ]
    },
    {
     "name": "stdout",
     "output_type": "stream",
     "text": [
      "Validation results at epoch-80 | loss: 1.2989370438117016\tTop1 Acc: 0.6844\n"
     ]
    },
    {
     "name": "stderr",
     "output_type": "stream",
     "text": [
      "Epoch-81-:   1%|▋                                                                      | 4/391 [00:05<25:11,  3.91s/it]"
     ]
    },
    {
     "name": "stdout",
     "output_type": "stream",
     "text": [
      "current learning rate:0.009549150281252633\n"
     ]
    },
    {
     "name": "stderr",
     "output_type": "stream",
     "text": [
      "Epoch-81-: 100%|█████████████████████████████████████████████████████████████████████| 391/391 [00:17<00:00, 22.40it/s]\n",
      "Valiation at -81-:   0%|                                                                        | 0/79 [00:00<?, ?it/s]"
     ]
    },
    {
     "name": "stdout",
     "output_type": "stream",
     "text": [
      "Training at epoch-81 | loss: 0.5538684758536346\tTop1 Acc: 0.8355600000190735\n"
     ]
    },
    {
     "name": "stderr",
     "output_type": "stream",
     "text": [
      "Valiation at -81-: 100%|███████████████████████████████████████████████████████████████| 79/79 [00:03<00:00, 21.08it/s]\n",
      "Epoch-82-:   0%|                                                                               | 0/391 [00:00<?, ?it/s]"
     ]
    },
    {
     "name": "stdout",
     "output_type": "stream",
     "text": [
      "Validation results at epoch-81 | loss: 1.2780670976336999\tTop1 Acc: 0.6862\n"
     ]
    },
    {
     "name": "stderr",
     "output_type": "stream",
     "text": [
      "Epoch-82-:   1%|▋                                                                      | 4/391 [00:05<25:18,  3.92s/it]"
     ]
    },
    {
     "name": "stdout",
     "output_type": "stream",
     "text": [
      "current learning rate:0.008599558442598998\n"
     ]
    },
    {
     "name": "stderr",
     "output_type": "stream",
     "text": [
      "Epoch-82-: 100%|█████████████████████████████████████████████████████████████████████| 391/391 [00:17<00:00, 22.37it/s]\n",
      "Valiation at -82-:   0%|                                                                        | 0/79 [00:00<?, ?it/s]"
     ]
    },
    {
     "name": "stdout",
     "output_type": "stream",
     "text": [
      "Training at epoch-82 | loss: 0.5085431337356567\tTop1 Acc: 0.8461199999809265\n"
     ]
    },
    {
     "name": "stderr",
     "output_type": "stream",
     "text": [
      "Valiation at -82-: 100%|███████████████████████████████████████████████████████████████| 79/79 [00:03<00:00, 21.28it/s]\n",
      "Epoch-83-:   0%|                                                                               | 0/391 [00:00<?, ?it/s]"
     ]
    },
    {
     "name": "stdout",
     "output_type": "stream",
     "text": [
      "Validation results at epoch-82 | loss: 1.2999947470954702\tTop1 Acc: 0.6871\n"
     ]
    },
    {
     "name": "stderr",
     "output_type": "stream",
     "text": [
      "Epoch-83-:   1%|▋                                                                      | 4/391 [00:05<24:54,  3.86s/it]"
     ]
    },
    {
     "name": "stdout",
     "output_type": "stream",
     "text": [
      "current learning rate:0.007695237378953235\n"
     ]
    },
    {
     "name": "stderr",
     "output_type": "stream",
     "text": [
      "Epoch-83-: 100%|█████████████████████████████████████████████████████████████████████| 391/391 [00:17<00:00, 22.63it/s]\n",
      "Valiation at -83-:   0%|                                                                        | 0/79 [00:00<?, ?it/s]"
     ]
    },
    {
     "name": "stdout",
     "output_type": "stream",
     "text": [
      "Training at epoch-83 | loss: 0.4710279933708098\tTop1 Acc: 0.8573400000572204\n"
     ]
    },
    {
     "name": "stderr",
     "output_type": "stream",
     "text": [
      "Valiation at -83-: 100%|███████████████████████████████████████████████████████████████| 79/79 [00:03<00:00, 20.95it/s]\n",
      "Epoch-84-:   0%|                                                                               | 0/391 [00:00<?, ?it/s]"
     ]
    },
    {
     "name": "stdout",
     "output_type": "stream",
     "text": [
      "Validation results at epoch-83 | loss: 1.3227997060063519\tTop1 Acc: 0.6887\n"
     ]
    },
    {
     "name": "stderr",
     "output_type": "stream",
     "text": [
      "Epoch-84-:   1%|▉                                                                      | 5/391 [00:05<25:05,  3.90s/it]"
     ]
    },
    {
     "name": "stdout",
     "output_type": "stream",
     "text": [
      "current learning rate:0.006837175952121317\n"
     ]
    },
    {
     "name": "stderr",
     "output_type": "stream",
     "text": [
      "Epoch-84-: 100%|█████████████████████████████████████████████████████████████████████| 391/391 [00:17<00:00, 22.35it/s]\n",
      "Valiation at -84-:   0%|                                                                        | 0/79 [00:00<?, ?it/s]"
     ]
    },
    {
     "name": "stdout",
     "output_type": "stream",
     "text": [
      "Training at epoch-84 | loss: 0.43821317925477576\tTop1 Acc: 0.8655200000572204\n"
     ]
    },
    {
     "name": "stderr",
     "output_type": "stream",
     "text": [
      "Valiation at -84-: 100%|███████████████████████████████████████████████████████████████| 79/79 [00:03<00:00, 21.38it/s]\n",
      "Epoch-85-:   0%|                                                                               | 0/391 [00:00<?, ?it/s]"
     ]
    },
    {
     "name": "stdout",
     "output_type": "stream",
     "text": [
      "Validation results at epoch-84 | loss: 1.277360758449458\tTop1 Acc: 0.7003\n"
     ]
    },
    {
     "name": "stderr",
     "output_type": "stream",
     "text": [
      "Epoch-85-:   1%|▉                                                                      | 5/391 [00:05<24:53,  3.87s/it]"
     ]
    },
    {
     "name": "stdout",
     "output_type": "stream",
     "text": [
      "current learning rate:0.006026312439675552\n"
     ]
    },
    {
     "name": "stderr",
     "output_type": "stream",
     "text": [
      "Epoch-85-: 100%|█████████████████████████████████████████████████████████████████████| 391/391 [00:17<00:00, 22.71it/s]\n",
      "Valiation at -85-:   0%|                                                                        | 0/79 [00:00<?, ?it/s]"
     ]
    },
    {
     "name": "stdout",
     "output_type": "stream",
     "text": [
      "Training at epoch-85 | loss: 0.3934097005735578\tTop1 Acc: 0.8803199999809265\n"
     ]
    },
    {
     "name": "stderr",
     "output_type": "stream",
     "text": [
      "Valiation at -85-: 100%|███████████████████████████████████████████████████████████████| 79/79 [00:03<00:00, 20.91it/s]\n",
      "Epoch-86-:   0%|                                                                               | 0/391 [00:00<?, ?it/s]"
     ]
    },
    {
     "name": "stdout",
     "output_type": "stream",
     "text": [
      "Validation results at epoch-85 | loss: 1.3356666595120974\tTop1 Acc: 0.6947\n"
     ]
    },
    {
     "name": "stderr",
     "output_type": "stream",
     "text": [
      "Epoch-86-:   1%|▋                                                                      | 4/391 [00:05<25:13,  3.91s/it]"
     ]
    },
    {
     "name": "stdout",
     "output_type": "stream",
     "text": [
      "current learning rate:0.005263533508961827\n"
     ]
    },
    {
     "name": "stderr",
     "output_type": "stream",
     "text": [
      "Epoch-86-: 100%|█████████████████████████████████████████████████████████████████████| 391/391 [00:17<00:00, 22.59it/s]\n",
      "Valiation at -86-:   0%|                                                                        | 0/79 [00:00<?, ?it/s]"
     ]
    },
    {
     "name": "stdout",
     "output_type": "stream",
     "text": [
      "Training at epoch-86 | loss: 0.36485526392526946\tTop1 Acc: 0.8875799999809265\n"
     ]
    },
    {
     "name": "stderr",
     "output_type": "stream",
     "text": [
      "Valiation at -86-: 100%|███████████████████████████████████████████████████████████████| 79/79 [00:03<00:00, 20.82it/s]\n",
      "Epoch-87-:   0%|                                                                               | 0/391 [00:00<?, ?it/s]"
     ]
    },
    {
     "name": "stdout",
     "output_type": "stream",
     "text": [
      "Validation results at epoch-86 | loss: 1.3337675491465797\tTop1 Acc: 0.6967\n"
     ]
    },
    {
     "name": "stderr",
     "output_type": "stream",
     "text": [
      "Epoch-87-:   1%|▉                                                                      | 5/391 [00:05<25:08,  3.91s/it]"
     ]
    },
    {
     "name": "stdout",
     "output_type": "stream",
     "text": [
      "current learning rate:0.004549673247541886\n"
     ]
    },
    {
     "name": "stderr",
     "output_type": "stream",
     "text": [
      "Epoch-87-: 100%|█████████████████████████████████████████████████████████████████████| 391/391 [00:17<00:00, 22.44it/s]\n",
      "Valiation at -87-:   0%|                                                                        | 0/79 [00:00<?, ?it/s]"
     ]
    },
    {
     "name": "stdout",
     "output_type": "stream",
     "text": [
      "Training at epoch-87 | loss: 0.3361742078038433\tTop1 Acc: 0.896500000038147\n"
     ]
    },
    {
     "name": "stderr",
     "output_type": "stream",
     "text": [
      "Valiation at -87-: 100%|███████████████████████████████████████████████████████████████| 79/79 [00:03<00:00, 20.81it/s]\n",
      "Epoch-88-:   0%|                                                                               | 0/391 [00:00<?, ?it/s]"
     ]
    },
    {
     "name": "stdout",
     "output_type": "stream",
     "text": [
      "Validation results at epoch-87 | loss: 1.3477688394015348\tTop1 Acc: 0.6932\n"
     ]
    },
    {
     "name": "stderr",
     "output_type": "stream",
     "text": [
      "Epoch-88-:   1%|▋                                                                      | 4/391 [00:05<25:07,  3.90s/it]"
     ]
    },
    {
     "name": "stdout",
     "output_type": "stream",
     "text": [
      "current learning rate:0.0038855122511307627\n"
     ]
    },
    {
     "name": "stderr",
     "output_type": "stream",
     "text": [
      "Epoch-88-: 100%|█████████████████████████████████████████████████████████████████████| 391/391 [00:17<00:00, 22.59it/s]\n",
      "Valiation at -88-:   0%|                                                                        | 0/79 [00:00<?, ?it/s]"
     ]
    },
    {
     "name": "stdout",
     "output_type": "stream",
     "text": [
      "Training at epoch-88 | loss: 0.30049979328499427\tTop1 Acc: 0.9076000000572204\n"
     ]
    },
    {
     "name": "stderr",
     "output_type": "stream",
     "text": [
      "Valiation at -88-: 100%|███████████████████████████████████████████████████████████████| 79/79 [00:03<00:00, 20.65it/s]\n",
      "Epoch-89-:   0%|                                                                               | 0/391 [00:00<?, ?it/s]"
     ]
    },
    {
     "name": "stdout",
     "output_type": "stream",
     "text": [
      "Validation results at epoch-88 | loss: 1.3579958865914163\tTop1 Acc: 0.6979\n"
     ]
    },
    {
     "name": "stderr",
     "output_type": "stream",
     "text": [
      "Epoch-89-:   1%|▋                                                                      | 4/391 [00:05<25:13,  3.91s/it]"
     ]
    },
    {
     "name": "stdout",
     "output_type": "stream",
     "text": [
      "current learning rate:0.003271776770026952\n"
     ]
    },
    {
     "name": "stderr",
     "output_type": "stream",
     "text": [
      "Epoch-89-: 100%|█████████████████████████████████████████████████████████████████████| 391/391 [00:17<00:00, 22.16it/s]\n",
      "Valiation at -89-:   0%|                                                                        | 0/79 [00:00<?, ?it/s]"
     ]
    },
    {
     "name": "stdout",
     "output_type": "stream",
     "text": [
      "Training at epoch-89 | loss: 0.2820660328430593\tTop1 Acc: 0.9119999999809265\n"
     ]
    },
    {
     "name": "stderr",
     "output_type": "stream",
     "text": [
      "Valiation at -89-: 100%|███████████████████████████████████████████████████████████████| 79/79 [00:03<00:00, 20.56it/s]\n",
      "Epoch-90-:   0%|                                                                               | 0/391 [00:00<?, ?it/s]"
     ]
    },
    {
     "name": "stdout",
     "output_type": "stream",
     "text": [
      "Validation results at epoch-89 | loss: 1.3640351423734351\tTop1 Acc: 0.7003\n"
     ]
    },
    {
     "name": "stderr",
     "output_type": "stream",
     "text": [
      "Epoch-90-:   1%|▋                                                                      | 4/391 [00:05<25:10,  3.90s/it]"
     ]
    },
    {
     "name": "stdout",
     "output_type": "stream",
     "text": [
      "current learning rate:0.002709137914968263\n"
     ]
    },
    {
     "name": "stderr",
     "output_type": "stream",
     "text": [
      "Epoch-90-: 100%|█████████████████████████████████████████████████████████████████████| 391/391 [00:17<00:00, 22.34it/s]\n",
      "Valiation at -90-:   0%|                                                                        | 0/79 [00:00<?, ?it/s]"
     ]
    },
    {
     "name": "stdout",
     "output_type": "stream",
     "text": [
      "Training at epoch-90 | loss: 0.2546256705165824\tTop1 Acc: 0.921920000038147\n"
     ]
    },
    {
     "name": "stderr",
     "output_type": "stream",
     "text": [
      "Valiation at -90-: 100%|███████████████████████████████████████████████████████████████| 79/79 [00:03<00:00, 21.50it/s]\n",
      "Epoch-91-:   0%|                                                                               | 0/391 [00:00<?, ?it/s]"
     ]
    },
    {
     "name": "stdout",
     "output_type": "stream",
     "text": [
      "Validation results at epoch-90 | loss: 1.3651736069329177\tTop1 Acc: 0.701\n"
     ]
    },
    {
     "name": "stderr",
     "output_type": "stream",
     "text": [
      "Epoch-91-:   1%|▋                                                                      | 4/391 [00:05<24:30,  3.80s/it]"
     ]
    },
    {
     "name": "stdout",
     "output_type": "stream",
     "text": [
      "current learning rate:0.0021982109232821178\n"
     ]
    },
    {
     "name": "stderr",
     "output_type": "stream",
     "text": [
      "Epoch-91-: 100%|█████████████████████████████████████████████████████████████████████| 391/391 [00:17<00:00, 22.90it/s]\n",
      "Valiation at -91-:   0%|                                                                        | 0/79 [00:00<?, ?it/s]"
     ]
    },
    {
     "name": "stdout",
     "output_type": "stream",
     "text": [
      "Training at epoch-91 | loss: 0.23238003747466277\tTop1 Acc: 0.9275000000190735\n"
     ]
    },
    {
     "name": "stderr",
     "output_type": "stream",
     "text": [
      "Valiation at -91-: 100%|███████████████████████████████████████████████████████████████| 79/79 [00:03<00:00, 21.34it/s]\n",
      "Epoch-92-:   0%|                                                                               | 0/391 [00:00<?, ?it/s]"
     ]
    },
    {
     "name": "stdout",
     "output_type": "stream",
     "text": [
      "Validation results at epoch-91 | loss: 1.3758407718018641\tTop1 Acc: 0.7059\n"
     ]
    },
    {
     "name": "stderr",
     "output_type": "stream",
     "text": [
      "Epoch-92-:   1%|▉                                                                      | 5/391 [00:05<24:39,  3.83s/it]"
     ]
    },
    {
     "name": "stdout",
     "output_type": "stream",
     "text": [
      "current learning rate:0.0017395544861325664\n"
     ]
    },
    {
     "name": "stderr",
     "output_type": "stream",
     "text": [
      "Epoch-92-: 100%|█████████████████████████████████████████████████████████████████████| 391/391 [00:17<00:00, 22.83it/s]\n",
      "Valiation at -92-:   0%|                                                                        | 0/79 [00:00<?, ?it/s]"
     ]
    },
    {
     "name": "stdout",
     "output_type": "stream",
     "text": [
      "Training at epoch-92 | loss: 0.21358869342928957\tTop1 Acc: 0.9333800000572204\n"
     ]
    },
    {
     "name": "stderr",
     "output_type": "stream",
     "text": [
      "Valiation at -92-: 100%|███████████████████████████████████████████████████████████████| 79/79 [00:03<00:00, 21.59it/s]\n",
      "Epoch-93-:   0%|                                                                               | 0/391 [00:00<?, ?it/s]"
     ]
    },
    {
     "name": "stdout",
     "output_type": "stream",
     "text": [
      "Validation results at epoch-92 | loss: 1.3927758366246767\tTop1 Acc: 0.7067\n"
     ]
    },
    {
     "name": "stderr",
     "output_type": "stream",
     "text": [
      "Epoch-93-:   1%|▉                                                                      | 5/391 [00:05<24:29,  3.81s/it]"
     ]
    },
    {
     "name": "stdout",
     "output_type": "stream",
     "text": [
      "current learning rate:0.0013336701375997074\n"
     ]
    },
    {
     "name": "stderr",
     "output_type": "stream",
     "text": [
      "Epoch-93-: 100%|█████████████████████████████████████████████████████████████████████| 391/391 [00:17<00:00, 22.91it/s]\n",
      "Valiation at -93-:   0%|                                                                        | 0/79 [00:00<?, ?it/s]"
     ]
    },
    {
     "name": "stdout",
     "output_type": "stream",
     "text": [
      "Training at epoch-93 | loss: 0.19447398520148623\tTop1 Acc: 0.9384\n"
     ]
    },
    {
     "name": "stderr",
     "output_type": "stream",
     "text": [
      "Valiation at -93-: 100%|███████████████████████████████████████████████████████████████| 79/79 [00:03<00:00, 21.28it/s]\n",
      "Epoch-94-:   0%|                                                                               | 0/391 [00:00<?, ?it/s]"
     ]
    },
    {
     "name": "stdout",
     "output_type": "stream",
     "text": [
      "Validation results at epoch-93 | loss: 1.3866967136346842\tTop1 Acc: 0.7073\n"
     ]
    },
    {
     "name": "stderr",
     "output_type": "stream",
     "text": [
      "Epoch-94-:   1%|▉                                                                      | 5/391 [00:05<24:30,  3.81s/it]"
     ]
    },
    {
     "name": "stdout",
     "output_type": "stream",
     "text": [
      "current learning rate:0.0009810017062595322\n"
     ]
    },
    {
     "name": "stderr",
     "output_type": "stream",
     "text": [
      "Epoch-94-: 100%|█████████████████████████████████████████████████████████████████████| 391/391 [00:17<00:00, 22.87it/s]\n",
      "Valiation at -94-:   0%|                                                                        | 0/79 [00:00<?, ?it/s]"
     ]
    },
    {
     "name": "stdout",
     "output_type": "stream",
     "text": [
      "Training at epoch-94 | loss: 0.18600668242710935\tTop1 Acc: 0.94282\n"
     ]
    },
    {
     "name": "stderr",
     "output_type": "stream",
     "text": [
      "Valiation at -94-: 100%|███████████████████████████████████████████████████████████████| 79/79 [00:03<00:00, 21.37it/s]\n",
      "Epoch-95-:   0%|                                                                               | 0/391 [00:00<?, ?it/s]"
     ]
    },
    {
     "name": "stdout",
     "output_type": "stream",
     "text": [
      "Validation results at epoch-94 | loss: 1.387703218037569\tTop1 Acc: 0.7078\n"
     ]
    },
    {
     "name": "stderr",
     "output_type": "stream",
     "text": [
      "Epoch-95-:   1%|▉                                                                      | 5/391 [00:05<24:36,  3.83s/it]"
     ]
    },
    {
     "name": "stdout",
     "output_type": "stream",
     "text": [
      "current learning rate:0.0006819348298638839\n"
     ]
    },
    {
     "name": "stderr",
     "output_type": "stream",
     "text": [
      "Epoch-95-: 100%|█████████████████████████████████████████████████████████████████████| 391/391 [00:17<00:00, 22.82it/s]\n",
      "Valiation at -95-:   0%|                                                                        | 0/79 [00:00<?, ?it/s]"
     ]
    },
    {
     "name": "stdout",
     "output_type": "stream",
     "text": [
      "Training at epoch-95 | loss: 0.17259544349463699\tTop1 Acc: 0.9453599999809266\n"
     ]
    },
    {
     "name": "stderr",
     "output_type": "stream",
     "text": [
      "Valiation at -95-: 100%|███████████████████████████████████████████████████████████████| 79/79 [00:03<00:00, 21.31it/s]\n",
      "Epoch-96-:   0%|                                                                               | 0/391 [00:00<?, ?it/s]"
     ]
    },
    {
     "name": "stdout",
     "output_type": "stream",
     "text": [
      "Validation results at epoch-95 | loss: 1.411757482003562\tTop1 Acc: 0.707\n"
     ]
    },
    {
     "name": "stderr",
     "output_type": "stream",
     "text": [
      "Epoch-96-:   1%|▋                                                                      | 4/391 [00:05<24:54,  3.86s/it]"
     ]
    },
    {
     "name": "stdout",
     "output_type": "stream",
     "text": [
      "current learning rate:0.0004367965336512403\n"
     ]
    },
    {
     "name": "stderr",
     "output_type": "stream",
     "text": [
      "Epoch-96-: 100%|█████████████████████████████████████████████████████████████████████| 391/391 [00:17<00:00, 22.72it/s]\n",
      "Valiation at -96-:   0%|                                                                        | 0/79 [00:00<?, ?it/s]"
     ]
    },
    {
     "name": "stdout",
     "output_type": "stream",
     "text": [
      "Training at epoch-96 | loss: 0.1672985582228969\tTop1 Acc: 0.94766\n"
     ]
    },
    {
     "name": "stderr",
     "output_type": "stream",
     "text": [
      "Valiation at -96-: 100%|███████████████████████████████████████████████████████████████| 79/79 [00:03<00:00, 21.22it/s]\n",
      "Epoch-97-:   0%|                                                                               | 0/391 [00:00<?, ?it/s]"
     ]
    },
    {
     "name": "stdout",
     "output_type": "stream",
     "text": [
      "Validation results at epoch-96 | loss: 1.4065104126930237\tTop1 Acc: 0.707\n"
     ]
    },
    {
     "name": "stderr",
     "output_type": "stream",
     "text": [
      "Epoch-97-:   1%|▉                                                                      | 5/391 [00:05<24:38,  3.83s/it]"
     ]
    },
    {
     "name": "stdout",
     "output_type": "stream",
     "text": [
      "current learning rate:0.0002458548727494292\n"
     ]
    },
    {
     "name": "stderr",
     "output_type": "stream",
     "text": [
      "Epoch-97-: 100%|█████████████████████████████████████████████████████████████████████| 391/391 [00:17<00:00, 22.84it/s]\n",
      "Valiation at -97-:   0%|                                                                        | 0/79 [00:00<?, ?it/s]"
     ]
    },
    {
     "name": "stdout",
     "output_type": "stream",
     "text": [
      "Training at epoch-97 | loss: 0.16214739780901644\tTop1 Acc: 0.94834\n"
     ]
    },
    {
     "name": "stderr",
     "output_type": "stream",
     "text": [
      "Valiation at -97-: 100%|███████████████████████████████████████████████████████████████| 79/79 [00:03<00:00, 21.45it/s]\n",
      "Epoch-98-:   0%|                                                                               | 0/391 [00:00<?, ?it/s]"
     ]
    },
    {
     "name": "stdout",
     "output_type": "stream",
     "text": [
      "Validation results at epoch-97 | loss: 1.400205758553517\tTop1 Acc: 0.707\n"
     ]
    },
    {
     "name": "stderr",
     "output_type": "stream",
     "text": [
      "Epoch-98-:   1%|▉                                                                      | 5/391 [00:05<24:35,  3.82s/it]"
     ]
    },
    {
     "name": "stdout",
     "output_type": "stream",
     "text": [
      "current learning rate:0.00010931863906127326\n"
     ]
    },
    {
     "name": "stderr",
     "output_type": "stream",
     "text": [
      "Epoch-98-: 100%|█████████████████████████████████████████████████████████████████████| 391/391 [00:17<00:00, 22.85it/s]\n",
      "Valiation at -98-:   0%|                                                                        | 0/79 [00:00<?, ?it/s]"
     ]
    },
    {
     "name": "stdout",
     "output_type": "stream",
     "text": [
      "Training at epoch-98 | loss: 0.15881284952278027\tTop1 Acc: 0.95102\n"
     ]
    },
    {
     "name": "stderr",
     "output_type": "stream",
     "text": [
      "Valiation at -98-: 100%|███████████████████████████████████████████████████████████████| 79/79 [00:03<00:00, 21.13it/s]\n",
      "Epoch-99-:   0%|                                                                               | 0/391 [00:00<?, ?it/s]"
     ]
    },
    {
     "name": "stdout",
     "output_type": "stream",
     "text": [
      "Validation results at epoch-98 | loss: 1.4044818161409112\tTop1 Acc: 0.7078\n"
     ]
    },
    {
     "name": "stderr",
     "output_type": "stream",
     "text": [
      "Epoch-99-:   1%|▋                                                                      | 4/391 [00:05<24:42,  3.83s/it]"
     ]
    },
    {
     "name": "stdout",
     "output_type": "stream",
     "text": [
      "current learning rate:2.7337132953697554e-05\n"
     ]
    },
    {
     "name": "stderr",
     "output_type": "stream",
     "text": [
      "Epoch-99-: 100%|█████████████████████████████████████████████████████████████████████| 391/391 [00:17<00:00, 22.84it/s]\n",
      "Valiation at -99-:   0%|                                                                        | 0/79 [00:00<?, ?it/s]"
     ]
    },
    {
     "name": "stdout",
     "output_type": "stream",
     "text": [
      "Training at epoch-99 | loss: 0.16203010966405845\tTop1 Acc: 0.9503400000572204\n"
     ]
    },
    {
     "name": "stderr",
     "output_type": "stream",
     "text": [
      "Valiation at -99-: 100%|███████████████████████████████████████████████████████████████| 79/79 [00:03<00:00, 21.51it/s]"
     ]
    },
    {
     "name": "stdout",
     "output_type": "stream",
     "text": [
      "Validation results at epoch-99 | loss: 1.3949306931676744\tTop1 Acc: 0.7082\n",
      "  + Number of params: 25.4901M\n",
      "25.490125\n",
      "  + Number of FLOPs: 0.14G\n",
      "0.14181288\n"
     ]
    },
    {
     "name": "stderr",
     "output_type": "stream",
     "text": [
      "\n"
     ]
    }
   ],
   "source": [
    "config = easydict.EasyDict()\n",
    "config.exp_name = \"vgg16_exp_cifar100_0\"\n",
    "config.log_dir = os.path.join(\"experiments\", config.exp_name, \"logs/\")\n",
    "\n",
    "config.load_file = os.path.join(\"experiments\", \"vgg16_exp_cifar100_0\",\"checkpoints\", \"checkpoint.pth\")\n",
    "config.cuda = True\n",
    "config.gpu_device = 0\n",
    "config.seed = 1\n",
    "config.milestones = [5, 10,15]\n",
    "config.gamma = 0.9\n",
    "config.img_size = 32\n",
    "config.num_classes = 100\n",
    "config.data_mode = \"download\"\n",
    "config.data_loader_workers = 4\n",
    "config.pin_memory = True\n",
    "config.async_loading = True\n",
    "config.batch_size = 128\n",
    "config.async_loading = True\n",
    "config.max_epoch = 100\n",
    "torch.cuda.init()\n",
    "\n",
    "agent = globals()[\"VGG_BN_cifar\"](config)\n",
    "agent.init_graph()\n",
    "agent.load_checkpoint(config.load_file)\n",
    "agent.compress(method = 'greedy',k=0.62)\n",
    "summary(agent.model, torch.zeros((1, 3, 32, 32)).to(torch.device(\"cuda\")))\n",
    "best,history = agent.train(specializing=False, freeze_conv=False)\n",
    "\n",
    "\n",
    "print(count_model_param_nums(agent.model) / 1e6)\n",
    "print(count_model_flops(agent.model, input_res=32)/ 1e9)\n"
   ]
  },
  {
   "cell_type": "code",
   "execution_count": 4,
   "metadata": {},
   "outputs": [
    {
     "data": {
      "text/plain": [
       "0.7082"
      ]
     },
     "execution_count": 4,
     "metadata": {},
     "output_type": "execute_result"
    }
   ],
   "source": [
    "best"
   ]
  },
  {
   "cell_type": "code",
   "execution_count": 5,
   "metadata": {},
   "outputs": [
    {
     "data": {
      "text/plain": [
       "[<matplotlib.lines.Line2D at 0x158eea43708>]"
      ]
     },
     "execution_count": 5,
     "metadata": {},
     "output_type": "execute_result"
    },
    {
     "data": {
      "image/png": "[encoded data removed]",
      "text/plain": [
       "<Figure size 432x288 with 1 Axes>"
      ]
     },
     "metadata": {
      "needs_background": "light"
     },
     "output_type": "display_data"
    }
   ],
   "source": [
    "import matplotlib.pyplot as plt\n",
    "plt.plot(history)"
   ]
  },
  {
   "cell_type": "code",
   "execution_count": null,
   "metadata": {},
   "outputs": [],
   "source": []
  },
  {
   "cell_type": "code",
   "execution_count": null,
   "metadata": {},
   "outputs": [],
   "source": []
  },
  {
   "cell_type": "code",
   "execution_count": null,
   "metadata": {},
   "outputs": [],
   "source": []
  },
  {
   "cell_type": "code",
   "execution_count": null,
   "metadata": {},
   "outputs": [],
   "source": []
  },
  {
   "cell_type": "code",
   "execution_count": null,
   "metadata": {},
   "outputs": [],
   "source": []
  },
  {
   "cell_type": "code",
   "execution_count": null,
   "metadata": {},
   "outputs": [],
   "source": []
  }
 ],
 "metadata": {
  "kernelspec": {
   "display_name": "pytorch16",
   "language": "python",
   "name": "pytorch16"
  },
  "language_info": {
   "codemirror_mode": {
    "name": "ipython",
    "version": 3
   },
   "file_extension": ".py",
   "mimetype": "text/x-python",
   "name": "python",
   "nbconvert_exporter": "python",
   "pygments_lexer": "ipython3",
   "version": "3.7.7"
  }
 },
 "nbformat": 4,
 "nbformat_minor": 4
}
